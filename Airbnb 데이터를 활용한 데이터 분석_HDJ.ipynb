{
 "cells": [
  {
   "cell_type": "markdown",
   "metadata": {},
   "source": [
    "---\n",
    "# **[ Project ] Airbnb 데이터를 활용한 데이터 분석**\n",
    "\n",
    "----\n",
    "#### 본 프로젝트는 1) 데이터 읽기 2) 데이터 전처리 3) 데이터 시각화 4) 데이터 추가 전처리 + 분석으로 총 4단계로 이루어져 있습니다.\n",
    "#### ※ 분석의 목적은 다음과 같습니다. \n",
    " 1) 뉴욕시 지도위의 Airbnb를 전사해 보는 것으로 지역별 가격을 비교해봅니다. <br>\n",
    " 2) 방의 타입별로 가격에 차이가 있는지 분석해봅니다. \n",
    " \n"
   ]
  },
  {
   "cell_type": "markdown",
   "metadata": {},
   "source": [
    "---\n",
    "## 1. 데이터 살펴보기"
   ]
  },
  {
   "cell_type": "markdown",
   "metadata": {},
   "source": [
    "### ① 데이터 ###\n",
    "   - 이 프로젝트에서 사용하는 데이터는 Airbnb 데이터입니다.\n",
    "   - https://www.kaggle.com/dgomonov/new-york-city-airbnb-open-data 에서 공개된 데이터를 사용합니다.\n",
    " \n",
    " \n",
    "### ② 환경셋팅 ###\n",
    "   - 이 프로젝트를 진행하기 위해서는 아래의 라이브러리가 설치되어 있어야합니다. Pandas, matplotlib, re\n",
    "   - 개인의 컴퓨터에서 Jupyter Notebook 을 설치하기 힘든 상황이라면, Azure Notebook(https://notebooks.azure.com/) 을 사용하셔도 됩니다.\n",
    "\n",
    "### ③ 필드 ###\n",
    "- id, name, host_id, host_name  \n",
    "- neighbourhood_group, neighbourhood, latitude, longitude  \n",
    "- room_type, price, minimum_nights\n",
    "- number_of_reviews, last_review, reviews_per_month  \n",
    "- calculated_host_listings_count, availability_365  "
   ]
  },
  {
   "cell_type": "markdown",
   "metadata": {},
   "source": [
    "---\n",
    "## 2. 데이터 읽기"
   ]
  },
  {
   "cell_type": "markdown",
   "metadata": {},
   "source": [
    "### **해당 챕터의 목표**\n",
    "- csv로 저장되어 있는 데이터를 불러 올 수 있습니다.\n",
    "- 불러온 데이터의 필드와 데이터수를 확인하는 것으로 추후 분석의 기초를 마련합니다.\n",
    "- Null 데이터의 개수를 확인하는 것으로 전처리를 하기 위한 배경 지식을 얻습니다."
   ]
  },
  {
   "cell_type": "markdown",
   "metadata": {},
   "source": [
    "_제공되는 코드_"
   ]
  },
  {
   "cell_type": "code",
   "execution_count": 1,
   "metadata": {
    "ExecuteTime": {
     "end_time": "2020-01-26T07:28:04.214573Z",
     "start_time": "2020-01-26T07:28:03.773096Z"
    }
   },
   "outputs": [],
   "source": [
    "import pandas as pd "
   ]
  },
  {
   "cell_type": "markdown",
   "metadata": {},
   "source": [
    "### _데이터 읽기 문제_\n",
    "문제에서 사용할 함수(다른 함수를 사용하는것으로 같은 결과를 출력할 수 있지만 가능한 아래의 함수를 사용해주세요) \n",
    "- read_csv, columns, shape, isnull, sum"
   ]
  },
  {
   "cell_type": "markdown",
   "metadata": {},
   "source": [
    "### [Quiz 1] pandas의 함수를 사용하여 AB_NYC_2019.csv을 읽어와 data라는 이름의 변수로 저장합니다.\n"
   ]
  },
  {
   "cell_type": "code",
   "execution_count": 2,
   "metadata": {},
   "outputs": [],
   "source": [
    "data = pd.read_csv('./AB_NYC_2019.csv')"
   ]
  },
  {
   "cell_type": "markdown",
   "metadata": {},
   "source": [
    "### [Quiz 2] data 의 필드명, 필드개수, 데이터 수를 출력합니다. print 함수로 화면에 명시적으로 출력합니다.\n"
   ]
  },
  {
   "cell_type": "code",
   "execution_count": 3,
   "metadata": {},
   "outputs": [
    {
     "name": "stdout",
     "output_type": "stream",
     "text": [
      "Index(['id', 'name', 'host_id', 'host_name', 'neighbourhood_group',\n",
      "       'neighbourhood', 'latitude', 'longitude', 'room_type', 'price',\n",
      "       'minimum_nights', 'number_of_reviews', 'last_review',\n",
      "       'reviews_per_month', 'calculated_host_listings_count',\n",
      "       'availability_365'],\n",
      "      dtype='object')\n",
      "(48895, 16)\n",
      "id                                48895\n",
      "name                              48879\n",
      "host_id                           48895\n",
      "host_name                         48874\n",
      "neighbourhood_group               48895\n",
      "neighbourhood                     48895\n",
      "latitude                          48895\n",
      "longitude                         48895\n",
      "room_type                         48895\n",
      "price                             48895\n",
      "minimum_nights                    48895\n",
      "number_of_reviews                 48895\n",
      "last_review                       38843\n",
      "reviews_per_month                 38843\n",
      "calculated_host_listings_count    48895\n",
      "availability_365                  48895\n",
      "dtype: int64\n",
      "<class 'pandas.core.frame.DataFrame'>\n",
      "RangeIndex: 48895 entries, 0 to 48894\n",
      "Data columns (total 16 columns):\n",
      "id                                48895 non-null int64\n",
      "name                              48879 non-null object\n",
      "host_id                           48895 non-null int64\n",
      "host_name                         48874 non-null object\n",
      "neighbourhood_group               48895 non-null object\n",
      "neighbourhood                     48895 non-null object\n",
      "latitude                          48895 non-null float64\n",
      "longitude                         48895 non-null float64\n",
      "room_type                         48895 non-null object\n",
      "price                             48895 non-null int64\n",
      "minimum_nights                    48895 non-null int64\n",
      "number_of_reviews                 48895 non-null int64\n",
      "last_review                       38843 non-null object\n",
      "reviews_per_month                 38843 non-null float64\n",
      "calculated_host_listings_count    48895 non-null int64\n",
      "availability_365                  48895 non-null int64\n",
      "dtypes: float64(3), int64(7), object(6)\n",
      "memory usage: 6.0+ MB\n",
      "None\n"
     ]
    }
   ],
   "source": [
    "print(data.columns)\n",
    "print(data.shape)\n",
    "print(data.count())\n",
    "print(data.info())"
   ]
  },
  {
   "cell_type": "markdown",
   "metadata": {},
   "source": [
    "### [Quiz 3] data 의 필드명 null 데이터의 숫자를 출력합니다."
   ]
  },
  {
   "cell_type": "code",
   "execution_count": 4,
   "metadata": {},
   "outputs": [
    {
     "data": {
      "text/plain": [
       "id                                    0\n",
       "name                                 16\n",
       "host_id                               0\n",
       "host_name                            21\n",
       "neighbourhood_group                   0\n",
       "neighbourhood                         0\n",
       "latitude                              0\n",
       "longitude                             0\n",
       "room_type                             0\n",
       "price                                 0\n",
       "minimum_nights                        0\n",
       "number_of_reviews                     0\n",
       "last_review                       10052\n",
       "reviews_per_month                 10052\n",
       "calculated_host_listings_count        0\n",
       "availability_365                      0\n",
       "dtype: int64"
      ]
     },
     "execution_count": 4,
     "metadata": {},
     "output_type": "execute_result"
    }
   ],
   "source": [
    "data.isnull().sum()"
   ]
  },
  {
   "cell_type": "markdown",
   "metadata": {},
   "source": [
    "----\n",
    "## 3. 데이터 전처리"
   ]
  },
  {
   "cell_type": "markdown",
   "metadata": {
    "ExecuteTime": {
     "end_time": "2020-01-15T12:26:51.583428Z",
     "start_time": "2020-01-15T12:26:51.575768Z"
    }
   },
   "source": [
    "### **해당 챕터의 목표**\n",
    "- 가지고 온 데이터의 일부 값이 완전하지 않은 경우가 있습니다.<br> 완전하지 않은 데이터를 사용하면 분석 결과에 오차가 생기거나 분석을 하지 못하는 경우가 발생합니다. <br> 완전하지 않은 값을 수정하거나 해당 데이터를 삭제하는 것으로 추후 분석이 가능한 데이터를 구축합니다."
   ]
  },
  {
   "cell_type": "markdown",
   "metadata": {},
   "source": [
    "### _데이터전처리 문제_\n",
    "#### 문제에서 사용할 함수 (다른 함수를 사용하는것으로 같은 결과를 출력할 수 있지만 가능한 아래의 함수를 사용해주세요)  \n",
    "- notnull"
   ]
  },
  {
   "cell_type": "markdown",
   "metadata": {},
   "source": [
    "### [Quiz 4] name과 host_name에서 null인 데이터를 제거합니다."
   ]
  },
  {
   "cell_type": "code",
   "execution_count": 5,
   "metadata": {},
   "outputs": [],
   "source": [
    "data = data[pd.notnull(data.name) & pd.notnull(data.host_name)]"
   ]
  },
  {
   "cell_type": "code",
   "execution_count": 6,
   "metadata": {},
   "outputs": [
    {
     "data": {
      "text/plain": [
       "id                                    0\n",
       "name                                  0\n",
       "host_id                               0\n",
       "host_name                             0\n",
       "neighbourhood_group                   0\n",
       "neighbourhood                         0\n",
       "latitude                              0\n",
       "longitude                             0\n",
       "room_type                             0\n",
       "price                                 0\n",
       "minimum_nights                        0\n",
       "number_of_reviews                     0\n",
       "last_review                       10037\n",
       "reviews_per_month                 10037\n",
       "calculated_host_listings_count        0\n",
       "availability_365                      0\n",
       "dtype: int64"
      ]
     },
     "execution_count": 6,
     "metadata": {},
     "output_type": "execute_result"
    }
   ],
   "source": [
    "data.isnull().sum()"
   ]
  },
  {
   "cell_type": "code",
   "execution_count": 7,
   "metadata": {},
   "outputs": [
    {
     "data": {
      "text/plain": [
       "(48858, 16)"
      ]
     },
     "execution_count": 7,
     "metadata": {},
     "output_type": "execute_result"
    }
   ],
   "source": [
    "data.shape"
   ]
  },
  {
   "cell_type": "markdown",
   "metadata": {},
   "source": [
    "---\n",
    "## 4. 데이터 시각화"
   ]
  },
  {
   "cell_type": "markdown",
   "metadata": {},
   "source": [
    "### **해당 챕터의 목표**\n",
    "- 전처리가 완료된 데이터를 사용하여 데이터를 시각화합니다.\n",
    "- Price의 백분위를 구해 이상치를 제거합니다.\n",
    "- 제공 된 지도 위에 데이터를 매핑하는 것으로 뉴욕시의 지역별 Airbnb 가격 분포를 확인해봅니다."
   ]
  },
  {
   "cell_type": "markdown",
   "metadata": {},
   "source": [
    "제공되는 코드"
   ]
  },
  {
   "cell_type": "code",
   "execution_count": 8,
   "metadata": {
    "ExecuteTime": {
     "end_time": "2020-01-26T07:28:05.95921Z",
     "start_time": "2020-01-26T07:28:05.953129Z"
    }
   },
   "outputs": [],
   "source": [
    "# data의 경우 데이터 전처리가 완료된 값을 사용해주세요.\n",
    "import matplotlib.pyplot as plt\n",
    "import numpy as np\n",
    "visual_data = data\n",
    "\n",
    "# 3번 문제\n",
    "# newyorkcity = plt.imread('newyorkcity.png')\n",
    "# plt.figure(figsize=(10,8))\n",
    "# plt.imshow(newyorkcity, zorder=0, extent=[-74.258, -73.7, 40.49,40.92])\n",
    "# ax = plt.gca()"
   ]
  },
  {
   "cell_type": "markdown",
   "metadata": {},
   "source": [
    "### _데이터 시각화 문제_\n",
    "- 전처리가 완료된 데이터를 사용해주세요.\n",
    "- Quiz6과 Quiz7에서는 아래의 파라미터를 사용해주세요.  \n",
    "    - cmap=plt.get_cmap('jet'), colorbar=True, alpha=0.4, figsize=(10,8)\n",
    "\n",
    "문제에서 사용할 함수(다른 함수를 사용하는것으로 같은 결과를 출력할 수 있지만 가능한 아래의 함수를 사용해주세요)  \n",
    "- describe, plot, show"
   ]
  },
  {
   "cell_type": "markdown",
   "metadata": {},
   "source": [
    "### [Quiz 5] price의 백분위 5%, 25%, 50%, 75%, 95% 를 구합니다."
   ]
  },
  {
   "cell_type": "code",
   "execution_count": 9,
   "metadata": {},
   "outputs": [
    {
     "data": {
      "text/html": [
       "<div>\n",
       "<style scoped>\n",
       "    .dataframe tbody tr th:only-of-type {\n",
       "        vertical-align: middle;\n",
       "    }\n",
       "\n",
       "    .dataframe tbody tr th {\n",
       "        vertical-align: top;\n",
       "    }\n",
       "\n",
       "    .dataframe thead th {\n",
       "        text-align: right;\n",
       "    }\n",
       "</style>\n",
       "<table border=\"1\" class=\"dataframe\">\n",
       "  <thead>\n",
       "    <tr style=\"text-align: right;\">\n",
       "      <th></th>\n",
       "      <th>id</th>\n",
       "      <th>host_id</th>\n",
       "      <th>latitude</th>\n",
       "      <th>longitude</th>\n",
       "      <th>price</th>\n",
       "      <th>minimum_nights</th>\n",
       "      <th>number_of_reviews</th>\n",
       "      <th>reviews_per_month</th>\n",
       "      <th>calculated_host_listings_count</th>\n",
       "      <th>availability_365</th>\n",
       "    </tr>\n",
       "  </thead>\n",
       "  <tbody>\n",
       "    <tr>\n",
       "      <td>count</td>\n",
       "      <td>4.885800e+04</td>\n",
       "      <td>4.885800e+04</td>\n",
       "      <td>48858.000000</td>\n",
       "      <td>48858.000000</td>\n",
       "      <td>48858.000000</td>\n",
       "      <td>48858.000000</td>\n",
       "      <td>48858.000000</td>\n",
       "      <td>38821.000000</td>\n",
       "      <td>48858.000000</td>\n",
       "      <td>48858.000000</td>\n",
       "    </tr>\n",
       "    <tr>\n",
       "      <td>mean</td>\n",
       "      <td>1.902335e+07</td>\n",
       "      <td>6.763169e+07</td>\n",
       "      <td>40.728941</td>\n",
       "      <td>-73.952170</td>\n",
       "      <td>152.740309</td>\n",
       "      <td>7.012444</td>\n",
       "      <td>23.273098</td>\n",
       "      <td>1.373229</td>\n",
       "      <td>7.148369</td>\n",
       "      <td>112.801425</td>\n",
       "    </tr>\n",
       "    <tr>\n",
       "      <td>std</td>\n",
       "      <td>1.098289e+07</td>\n",
       "      <td>7.862389e+07</td>\n",
       "      <td>0.054528</td>\n",
       "      <td>0.046159</td>\n",
       "      <td>240.232386</td>\n",
       "      <td>20.019757</td>\n",
       "      <td>44.549898</td>\n",
       "      <td>1.680328</td>\n",
       "      <td>32.964600</td>\n",
       "      <td>131.610962</td>\n",
       "    </tr>\n",
       "    <tr>\n",
       "      <td>min</td>\n",
       "      <td>2.539000e+03</td>\n",
       "      <td>2.438000e+03</td>\n",
       "      <td>40.499790</td>\n",
       "      <td>-74.244420</td>\n",
       "      <td>0.000000</td>\n",
       "      <td>1.000000</td>\n",
       "      <td>0.000000</td>\n",
       "      <td>0.010000</td>\n",
       "      <td>1.000000</td>\n",
       "      <td>0.000000</td>\n",
       "    </tr>\n",
       "    <tr>\n",
       "      <td>25%</td>\n",
       "      <td>9.475980e+06</td>\n",
       "      <td>7.818669e+06</td>\n",
       "      <td>40.690090</td>\n",
       "      <td>-73.983070</td>\n",
       "      <td>69.000000</td>\n",
       "      <td>1.000000</td>\n",
       "      <td>1.000000</td>\n",
       "      <td>0.190000</td>\n",
       "      <td>1.000000</td>\n",
       "      <td>0.000000</td>\n",
       "    </tr>\n",
       "    <tr>\n",
       "      <td>50%</td>\n",
       "      <td>1.969114e+07</td>\n",
       "      <td>3.079133e+07</td>\n",
       "      <td>40.723070</td>\n",
       "      <td>-73.955680</td>\n",
       "      <td>106.000000</td>\n",
       "      <td>3.000000</td>\n",
       "      <td>5.000000</td>\n",
       "      <td>0.720000</td>\n",
       "      <td>1.000000</td>\n",
       "      <td>45.000000</td>\n",
       "    </tr>\n",
       "    <tr>\n",
       "      <td>75%</td>\n",
       "      <td>2.915765e+07</td>\n",
       "      <td>1.074344e+08</td>\n",
       "      <td>40.763107</td>\n",
       "      <td>-73.936280</td>\n",
       "      <td>175.000000</td>\n",
       "      <td>5.000000</td>\n",
       "      <td>24.000000</td>\n",
       "      <td>2.020000</td>\n",
       "      <td>2.000000</td>\n",
       "      <td>227.000000</td>\n",
       "    </tr>\n",
       "    <tr>\n",
       "      <td>max</td>\n",
       "      <td>3.648724e+07</td>\n",
       "      <td>2.743213e+08</td>\n",
       "      <td>40.913060</td>\n",
       "      <td>-73.712990</td>\n",
       "      <td>10000.000000</td>\n",
       "      <td>1250.000000</td>\n",
       "      <td>629.000000</td>\n",
       "      <td>58.500000</td>\n",
       "      <td>327.000000</td>\n",
       "      <td>365.000000</td>\n",
       "    </tr>\n",
       "  </tbody>\n",
       "</table>\n",
       "</div>"
      ],
      "text/plain": [
       "                 id       host_id      latitude     longitude         price  \\\n",
       "count  4.885800e+04  4.885800e+04  48858.000000  48858.000000  48858.000000   \n",
       "mean   1.902335e+07  6.763169e+07     40.728941    -73.952170    152.740309   \n",
       "std    1.098289e+07  7.862389e+07      0.054528      0.046159    240.232386   \n",
       "min    2.539000e+03  2.438000e+03     40.499790    -74.244420      0.000000   \n",
       "25%    9.475980e+06  7.818669e+06     40.690090    -73.983070     69.000000   \n",
       "50%    1.969114e+07  3.079133e+07     40.723070    -73.955680    106.000000   \n",
       "75%    2.915765e+07  1.074344e+08     40.763107    -73.936280    175.000000   \n",
       "max    3.648724e+07  2.743213e+08     40.913060    -73.712990  10000.000000   \n",
       "\n",
       "       minimum_nights  number_of_reviews  reviews_per_month  \\\n",
       "count    48858.000000       48858.000000       38821.000000   \n",
       "mean         7.012444          23.273098           1.373229   \n",
       "std         20.019757          44.549898           1.680328   \n",
       "min          1.000000           0.000000           0.010000   \n",
       "25%          1.000000           1.000000           0.190000   \n",
       "50%          3.000000           5.000000           0.720000   \n",
       "75%          5.000000          24.000000           2.020000   \n",
       "max       1250.000000         629.000000          58.500000   \n",
       "\n",
       "       calculated_host_listings_count  availability_365  \n",
       "count                    48858.000000      48858.000000  \n",
       "mean                         7.148369        112.801425  \n",
       "std                         32.964600        131.610962  \n",
       "min                          1.000000          0.000000  \n",
       "25%                          1.000000          0.000000  \n",
       "50%                          1.000000         45.000000  \n",
       "75%                          2.000000        227.000000  \n",
       "max                        327.000000        365.000000  "
      ]
     },
     "execution_count": 9,
     "metadata": {},
     "output_type": "execute_result"
    }
   ],
   "source": [
    "visual_data.describe()"
   ]
  },
  {
   "cell_type": "code",
   "execution_count": 10,
   "metadata": {},
   "outputs": [
    {
     "data": {
      "text/plain": [
       "40.0"
      ]
     },
     "execution_count": 10,
     "metadata": {},
     "output_type": "execute_result"
    }
   ],
   "source": [
    "visual_data['price'].quantile(0.05)"
   ]
  },
  {
   "cell_type": "code",
   "execution_count": 11,
   "metadata": {},
   "outputs": [
    {
     "data": {
      "text/plain": [
       "69.0"
      ]
     },
     "execution_count": 11,
     "metadata": {},
     "output_type": "execute_result"
    }
   ],
   "source": [
    "visual_data['price'].describe()['25%']"
   ]
  },
  {
   "cell_type": "code",
   "execution_count": 12,
   "metadata": {},
   "outputs": [
    {
     "data": {
      "text/plain": [
       "106.0"
      ]
     },
     "execution_count": 12,
     "metadata": {},
     "output_type": "execute_result"
    }
   ],
   "source": [
    "visual_data['price'].describe()['50%']"
   ]
  },
  {
   "cell_type": "code",
   "execution_count": 13,
   "metadata": {},
   "outputs": [
    {
     "data": {
      "text/plain": [
       "175.0"
      ]
     },
     "execution_count": 13,
     "metadata": {},
     "output_type": "execute_result"
    }
   ],
   "source": [
    "visual_data['price'].describe()['75%']"
   ]
  },
  {
   "cell_type": "code",
   "execution_count": 14,
   "metadata": {},
   "outputs": [
    {
     "data": {
      "text/plain": [
       "355.0"
      ]
     },
     "execution_count": 14,
     "metadata": {},
     "output_type": "execute_result"
    }
   ],
   "source": [
    "visual_data['price'].quantile(0.95)"
   ]
  },
  {
   "cell_type": "markdown",
   "metadata": {},
   "source": [
    "---\n",
    ">- 리뷰\n",
    "   - 잘해주셨습니다.\n",
    "   - describe와 quantile 모두를 사용해 잘 풀어주셨네요!\n",
    "   - describe의 경우 quantile에 대한 parameter 값을 주시면\n",
    "   - 위의 백분위수를 모두 표현할 수 있습니다"
   ]
  },
  {
   "cell_type": "markdown",
   "metadata": {},
   "source": [
    "### [Quiz 6] price의 백분위 95% 값보다 큰 데이터를 필터링(->제거한) 후, x축을 longitude y축을 latitude, c값(그래프에서의 색상)을 price로 하는 scatter 그래프를 그립니다."
   ]
  },
  {
   "cell_type": "code",
   "execution_count": 15,
   "metadata": {},
   "outputs": [
    {
     "data": {
      "text/html": [
       "<div>\n",
       "<style scoped>\n",
       "    .dataframe tbody tr th:only-of-type {\n",
       "        vertical-align: middle;\n",
       "    }\n",
       "\n",
       "    .dataframe tbody tr th {\n",
       "        vertical-align: top;\n",
       "    }\n",
       "\n",
       "    .dataframe thead th {\n",
       "        text-align: right;\n",
       "    }\n",
       "</style>\n",
       "<table border=\"1\" class=\"dataframe\">\n",
       "  <thead>\n",
       "    <tr style=\"text-align: right;\">\n",
       "      <th></th>\n",
       "      <th>id</th>\n",
       "      <th>name</th>\n",
       "      <th>host_id</th>\n",
       "      <th>host_name</th>\n",
       "      <th>neighbourhood_group</th>\n",
       "      <th>neighbourhood</th>\n",
       "      <th>latitude</th>\n",
       "      <th>longitude</th>\n",
       "      <th>room_type</th>\n",
       "      <th>price</th>\n",
       "      <th>minimum_nights</th>\n",
       "      <th>number_of_reviews</th>\n",
       "      <th>last_review</th>\n",
       "      <th>reviews_per_month</th>\n",
       "      <th>calculated_host_listings_count</th>\n",
       "      <th>availability_365</th>\n",
       "    </tr>\n",
       "  </thead>\n",
       "  <tbody>\n",
       "    <tr>\n",
       "      <td>0</td>\n",
       "      <td>2539</td>\n",
       "      <td>Clean &amp; quiet apt home by the park</td>\n",
       "      <td>2787</td>\n",
       "      <td>John</td>\n",
       "      <td>Brooklyn</td>\n",
       "      <td>Kensington</td>\n",
       "      <td>40.64749</td>\n",
       "      <td>-73.97237</td>\n",
       "      <td>Private room</td>\n",
       "      <td>149</td>\n",
       "      <td>1</td>\n",
       "      <td>9</td>\n",
       "      <td>2018-10-19</td>\n",
       "      <td>0.21</td>\n",
       "      <td>6</td>\n",
       "      <td>365</td>\n",
       "    </tr>\n",
       "    <tr>\n",
       "      <td>1</td>\n",
       "      <td>2595</td>\n",
       "      <td>Skylit Midtown Castle</td>\n",
       "      <td>2845</td>\n",
       "      <td>Jennifer</td>\n",
       "      <td>Manhattan</td>\n",
       "      <td>Midtown</td>\n",
       "      <td>40.75362</td>\n",
       "      <td>-73.98377</td>\n",
       "      <td>Entire home/apt</td>\n",
       "      <td>225</td>\n",
       "      <td>1</td>\n",
       "      <td>45</td>\n",
       "      <td>2019-05-21</td>\n",
       "      <td>0.38</td>\n",
       "      <td>2</td>\n",
       "      <td>355</td>\n",
       "    </tr>\n",
       "    <tr>\n",
       "      <td>2</td>\n",
       "      <td>3647</td>\n",
       "      <td>THE VILLAGE OF HARLEM....NEW YORK !</td>\n",
       "      <td>4632</td>\n",
       "      <td>Elisabeth</td>\n",
       "      <td>Manhattan</td>\n",
       "      <td>Harlem</td>\n",
       "      <td>40.80902</td>\n",
       "      <td>-73.94190</td>\n",
       "      <td>Private room</td>\n",
       "      <td>150</td>\n",
       "      <td>3</td>\n",
       "      <td>0</td>\n",
       "      <td>NaN</td>\n",
       "      <td>NaN</td>\n",
       "      <td>1</td>\n",
       "      <td>365</td>\n",
       "    </tr>\n",
       "    <tr>\n",
       "      <td>3</td>\n",
       "      <td>3831</td>\n",
       "      <td>Cozy Entire Floor of Brownstone</td>\n",
       "      <td>4869</td>\n",
       "      <td>LisaRoxanne</td>\n",
       "      <td>Brooklyn</td>\n",
       "      <td>Clinton Hill</td>\n",
       "      <td>40.68514</td>\n",
       "      <td>-73.95976</td>\n",
       "      <td>Entire home/apt</td>\n",
       "      <td>89</td>\n",
       "      <td>1</td>\n",
       "      <td>270</td>\n",
       "      <td>2019-07-05</td>\n",
       "      <td>4.64</td>\n",
       "      <td>1</td>\n",
       "      <td>194</td>\n",
       "    </tr>\n",
       "    <tr>\n",
       "      <td>4</td>\n",
       "      <td>5022</td>\n",
       "      <td>Entire Apt: Spacious Studio/Loft by central park</td>\n",
       "      <td>7192</td>\n",
       "      <td>Laura</td>\n",
       "      <td>Manhattan</td>\n",
       "      <td>East Harlem</td>\n",
       "      <td>40.79851</td>\n",
       "      <td>-73.94399</td>\n",
       "      <td>Entire home/apt</td>\n",
       "      <td>80</td>\n",
       "      <td>10</td>\n",
       "      <td>9</td>\n",
       "      <td>2018-11-19</td>\n",
       "      <td>0.10</td>\n",
       "      <td>1</td>\n",
       "      <td>0</td>\n",
       "    </tr>\n",
       "    <tr>\n",
       "      <td>...</td>\n",
       "      <td>...</td>\n",
       "      <td>...</td>\n",
       "      <td>...</td>\n",
       "      <td>...</td>\n",
       "      <td>...</td>\n",
       "      <td>...</td>\n",
       "      <td>...</td>\n",
       "      <td>...</td>\n",
       "      <td>...</td>\n",
       "      <td>...</td>\n",
       "      <td>...</td>\n",
       "      <td>...</td>\n",
       "      <td>...</td>\n",
       "      <td>...</td>\n",
       "      <td>...</td>\n",
       "      <td>...</td>\n",
       "    </tr>\n",
       "    <tr>\n",
       "      <td>48890</td>\n",
       "      <td>36484665</td>\n",
       "      <td>Charming one bedroom - newly renovated rowhouse</td>\n",
       "      <td>8232441</td>\n",
       "      <td>Sabrina</td>\n",
       "      <td>Brooklyn</td>\n",
       "      <td>Bedford-Stuyvesant</td>\n",
       "      <td>40.67853</td>\n",
       "      <td>-73.94995</td>\n",
       "      <td>Private room</td>\n",
       "      <td>70</td>\n",
       "      <td>2</td>\n",
       "      <td>0</td>\n",
       "      <td>NaN</td>\n",
       "      <td>NaN</td>\n",
       "      <td>2</td>\n",
       "      <td>9</td>\n",
       "    </tr>\n",
       "    <tr>\n",
       "      <td>48891</td>\n",
       "      <td>36485057</td>\n",
       "      <td>Affordable room in Bushwick/East Williamsburg</td>\n",
       "      <td>6570630</td>\n",
       "      <td>Marisol</td>\n",
       "      <td>Brooklyn</td>\n",
       "      <td>Bushwick</td>\n",
       "      <td>40.70184</td>\n",
       "      <td>-73.93317</td>\n",
       "      <td>Private room</td>\n",
       "      <td>40</td>\n",
       "      <td>4</td>\n",
       "      <td>0</td>\n",
       "      <td>NaN</td>\n",
       "      <td>NaN</td>\n",
       "      <td>2</td>\n",
       "      <td>36</td>\n",
       "    </tr>\n",
       "    <tr>\n",
       "      <td>48892</td>\n",
       "      <td>36485431</td>\n",
       "      <td>Sunny Studio at Historical Neighborhood</td>\n",
       "      <td>23492952</td>\n",
       "      <td>Ilgar &amp; Aysel</td>\n",
       "      <td>Manhattan</td>\n",
       "      <td>Harlem</td>\n",
       "      <td>40.81475</td>\n",
       "      <td>-73.94867</td>\n",
       "      <td>Entire home/apt</td>\n",
       "      <td>115</td>\n",
       "      <td>10</td>\n",
       "      <td>0</td>\n",
       "      <td>NaN</td>\n",
       "      <td>NaN</td>\n",
       "      <td>1</td>\n",
       "      <td>27</td>\n",
       "    </tr>\n",
       "    <tr>\n",
       "      <td>48893</td>\n",
       "      <td>36485609</td>\n",
       "      <td>43rd St. Time Square-cozy single bed</td>\n",
       "      <td>30985759</td>\n",
       "      <td>Taz</td>\n",
       "      <td>Manhattan</td>\n",
       "      <td>Hell's Kitchen</td>\n",
       "      <td>40.75751</td>\n",
       "      <td>-73.99112</td>\n",
       "      <td>Shared room</td>\n",
       "      <td>55</td>\n",
       "      <td>1</td>\n",
       "      <td>0</td>\n",
       "      <td>NaN</td>\n",
       "      <td>NaN</td>\n",
       "      <td>6</td>\n",
       "      <td>2</td>\n",
       "    </tr>\n",
       "    <tr>\n",
       "      <td>48894</td>\n",
       "      <td>36487245</td>\n",
       "      <td>Trendy duplex in the very heart of Hell's Kitchen</td>\n",
       "      <td>68119814</td>\n",
       "      <td>Christophe</td>\n",
       "      <td>Manhattan</td>\n",
       "      <td>Hell's Kitchen</td>\n",
       "      <td>40.76404</td>\n",
       "      <td>-73.98933</td>\n",
       "      <td>Private room</td>\n",
       "      <td>90</td>\n",
       "      <td>7</td>\n",
       "      <td>0</td>\n",
       "      <td>NaN</td>\n",
       "      <td>NaN</td>\n",
       "      <td>1</td>\n",
       "      <td>23</td>\n",
       "    </tr>\n",
       "  </tbody>\n",
       "</table>\n",
       "<p>46418 rows × 16 columns</p>\n",
       "</div>"
      ],
      "text/plain": [
       "             id                                               name   host_id  \\\n",
       "0          2539                 Clean & quiet apt home by the park      2787   \n",
       "1          2595                              Skylit Midtown Castle      2845   \n",
       "2          3647                THE VILLAGE OF HARLEM....NEW YORK !      4632   \n",
       "3          3831                    Cozy Entire Floor of Brownstone      4869   \n",
       "4          5022   Entire Apt: Spacious Studio/Loft by central park      7192   \n",
       "...         ...                                                ...       ...   \n",
       "48890  36484665    Charming one bedroom - newly renovated rowhouse   8232441   \n",
       "48891  36485057      Affordable room in Bushwick/East Williamsburg   6570630   \n",
       "48892  36485431            Sunny Studio at Historical Neighborhood  23492952   \n",
       "48893  36485609               43rd St. Time Square-cozy single bed  30985759   \n",
       "48894  36487245  Trendy duplex in the very heart of Hell's Kitchen  68119814   \n",
       "\n",
       "           host_name neighbourhood_group       neighbourhood  latitude  \\\n",
       "0               John            Brooklyn          Kensington  40.64749   \n",
       "1           Jennifer           Manhattan             Midtown  40.75362   \n",
       "2          Elisabeth           Manhattan              Harlem  40.80902   \n",
       "3        LisaRoxanne            Brooklyn        Clinton Hill  40.68514   \n",
       "4              Laura           Manhattan         East Harlem  40.79851   \n",
       "...              ...                 ...                 ...       ...   \n",
       "48890        Sabrina            Brooklyn  Bedford-Stuyvesant  40.67853   \n",
       "48891        Marisol            Brooklyn            Bushwick  40.70184   \n",
       "48892  Ilgar & Aysel           Manhattan              Harlem  40.81475   \n",
       "48893            Taz           Manhattan      Hell's Kitchen  40.75751   \n",
       "48894     Christophe           Manhattan      Hell's Kitchen  40.76404   \n",
       "\n",
       "       longitude        room_type  price  minimum_nights  number_of_reviews  \\\n",
       "0      -73.97237     Private room    149               1                  9   \n",
       "1      -73.98377  Entire home/apt    225               1                 45   \n",
       "2      -73.94190     Private room    150               3                  0   \n",
       "3      -73.95976  Entire home/apt     89               1                270   \n",
       "4      -73.94399  Entire home/apt     80              10                  9   \n",
       "...          ...              ...    ...             ...                ...   \n",
       "48890  -73.94995     Private room     70               2                  0   \n",
       "48891  -73.93317     Private room     40               4                  0   \n",
       "48892  -73.94867  Entire home/apt    115              10                  0   \n",
       "48893  -73.99112      Shared room     55               1                  0   \n",
       "48894  -73.98933     Private room     90               7                  0   \n",
       "\n",
       "      last_review  reviews_per_month  calculated_host_listings_count  \\\n",
       "0      2018-10-19               0.21                               6   \n",
       "1      2019-05-21               0.38                               2   \n",
       "2             NaN                NaN                               1   \n",
       "3      2019-07-05               4.64                               1   \n",
       "4      2018-11-19               0.10                               1   \n",
       "...           ...                ...                             ...   \n",
       "48890         NaN                NaN                               2   \n",
       "48891         NaN                NaN                               2   \n",
       "48892         NaN                NaN                               1   \n",
       "48893         NaN                NaN                               6   \n",
       "48894         NaN                NaN                               1   \n",
       "\n",
       "       availability_365  \n",
       "0                   365  \n",
       "1                   355  \n",
       "2                   365  \n",
       "3                   194  \n",
       "4                     0  \n",
       "...                 ...  \n",
       "48890                 9  \n",
       "48891                36  \n",
       "48892                27  \n",
       "48893                 2  \n",
       "48894                23  \n",
       "\n",
       "[46418 rows x 16 columns]"
      ]
     },
     "execution_count": 15,
     "metadata": {},
     "output_type": "execute_result"
    }
   ],
   "source": [
    "# 수정 : 백분위 95% 초과 값 제거\n",
    "# visual_data = visual_data[visual_data['price'] >= visual_data['price'].quantile(0.95)]\n",
    "visual_data = visual_data[visual_data['price'] <= visual_data['price'].quantile(0.95)]\n",
    "visual_data"
   ]
  },
  {
   "cell_type": "code",
   "execution_count": 16,
   "metadata": {
    "scrolled": false
   },
   "outputs": [],
   "source": [
    "# scatter 그래프 Quiz6, 7 재사용 위해 함수로 작성\n",
    "def show_price_scatter(ax):\n",
    "    visual_data.plot.scatter(x='longitude', y='latitude', c='price' , cmap=plt.get_cmap('jet'), colorbar=True, alpha=0.4, figsize=(10,8), ax=ax)\n",
    "    plt.show()"
   ]
  },
  {
   "cell_type": "code",
   "execution_count": 17,
   "metadata": {},
   "outputs": [
    {
     "data": {
      "image/png": "[encoded data removed]",
      "text/plain": [
       "<Figure size 720x576 with 2 Axes>"
      ]
     },
     "metadata": {
      "needs_background": "light"
     },
     "output_type": "display_data"
    }
   ],
   "source": [
    "fig, ax = plt.subplots()\n",
    "show_price_scatter(ax)"
   ]
  },
  {
   "cell_type": "markdown",
   "metadata": {},
   "source": [
    "---\n",
    ">- 리뷰\n",
    "   - 이 부분은 문제를 잘못 이해하신 것 같습니다.\n",
    "   - 백분위 95%보다 큰 값을 필터링 하라는 것이 그 값을 사용하라는 것은 아닙니다.\n",
    "   - 95%이하인 값을 이용하라는 것입니다."
   ]
  },
  {
   "cell_type": "markdown",
   "metadata": {},
   "source": [
    "---\n",
    ">- 2차 리뷰\n",
    "   - 잘 해주셨습니다!\n",
    "   - 조금 더 정확하게 한다면\n",
    "   - 초과인 데이터를 필터링이므로 부호가 <이 아닌 <=이 되는 것이 조금 더 정확하겠네요 :)\n",
    "   - 하지만 잘해주셨습니다!"
   ]
  },
  {
   "cell_type": "markdown",
   "metadata": {},
   "source": [
    "### [Quiz 7] 첨부된 New_York_City_.png 위에다가 퀴즈 6의 Scatter 그래프를 그립니다."
   ]
  },
  {
   "cell_type": "code",
   "execution_count": 18,
   "metadata": {},
   "outputs": [
    {
     "data": {
      "image/png": "[encoded data removed]",
      "text/plain": [
       "<Figure size 720x576 with 2 Axes>"
      ]
     },
     "metadata": {
      "needs_background": "light"
     },
     "output_type": "display_data"
    }
   ],
   "source": [
    "newyorkcity = plt.imread('./newyorkcity.png')\n",
    "plt.figure(figsize=(10,8))\n",
    "plt.imshow(newyorkcity, zorder=0, extent=[-74.258, -73.7, 40.49,40.92])\n",
    "ax = plt.gca()\n",
    "show_price_scatter(ax)"
   ]
  },
  {
   "cell_type": "markdown",
   "metadata": {},
   "source": [
    "---\n",
    "## 5. 데이터 추가 전처리 + 분석"
   ]
  },
  {
   "cell_type": "markdown",
   "metadata": {},
   "source": [
    "### **해당 챕터의 목표**\n",
    "- 분석 목표에 따라 추가 전처리가 필요한 경우가 있습니다. 이번 프로젝트에서는 분석 전 추가 전처리를 진행합니다.\n",
    "- 이상한 문자열이 들어간 데이터를 제거하는 것으로 조금 더 formal한 데이터만을 타게팅합니다.\n",
    "- room_type 이 가격에 영향을 끼치는지를 히스토그램으로 분석해봅니다.\n",
    "- sql 문을 사용하여 원하는 데이터를 추출해봅니다."
   ]
  },
  {
   "cell_type": "markdown",
   "metadata": {},
   "source": [
    "제공되는 코드"
   ]
  },
  {
   "cell_type": "code",
   "execution_count": 19,
   "metadata": {
    "ExecuteTime": {
     "end_time": "2020-01-26T07:28:10.869453Z",
     "start_time": "2020-01-26T07:28:10.517035Z"
    }
   },
   "outputs": [],
   "source": [
    "# data의 경우 데이터 전처리가 완료된 값을 사용해주세요.\n",
    "import re\n",
    "analysis_data = data"
   ]
  },
  {
   "cell_type": "code",
   "execution_count": 20,
   "metadata": {},
   "outputs": [],
   "source": [
    "# # 4번 문제\n",
    "import sqlite3\n",
    "conn = sqlite3.connect(':memory:')\n",
    "conn.text_factory = str\n",
    "analysis_data.to_sql(name='data', con=conn)"
   ]
  },
  {
   "cell_type": "markdown",
   "metadata": {},
   "source": [
    "### _데이터 추가 전처리 + 분석 문제_\n",
    "문제에서 사용할 함수(다른 함수를 사용하는것으로 같은 결과를 출력할 수 있지만 가능한 아래의 함수를 사용해주세요)  \n",
    "- compile, unique, groupby, get_group, reset_index, head, hist, read_sql"
   ]
  },
  {
   "cell_type": "markdown",
   "metadata": {},
   "source": [
    "### [Quiz 8]  re 함수 사용 : name 필드에 영문, 숫자, '.', ',', '-', '#', 공백 외의 문자가 들어가 있는 데이터를 필터(->제거)합니다."
   ]
  },
  {
   "cell_type": "code",
   "execution_count": 21,
   "metadata": {},
   "outputs": [
    {
     "name": "stdout",
     "output_type": "stream",
     "text": [
      "<class 'pandas.core.frame.DataFrame'>\n",
      "Int64Index: 48858 entries, 0 to 48894\n",
      "Data columns (total 16 columns):\n",
      "id                                48858 non-null int64\n",
      "name                              48858 non-null object\n",
      "host_id                           48858 non-null int64\n",
      "host_name                         48858 non-null object\n",
      "neighbourhood_group               48858 non-null object\n",
      "neighbourhood                     48858 non-null object\n",
      "latitude                          48858 non-null float64\n",
      "longitude                         48858 non-null float64\n",
      "room_type                         48858 non-null object\n",
      "price                             48858 non-null int64\n",
      "minimum_nights                    48858 non-null int64\n",
      "number_of_reviews                 48858 non-null int64\n",
      "last_review                       38821 non-null object\n",
      "reviews_per_month                 38821 non-null float64\n",
      "calculated_host_listings_count    48858 non-null int64\n",
      "availability_365                  48858 non-null int64\n",
      "dtypes: float64(3), int64(7), object(6)\n",
      "memory usage: 6.3+ MB\n"
     ]
    }
   ],
   "source": [
    "analysis_data.info()"
   ]
  },
  {
   "cell_type": "code",
   "execution_count": 22,
   "metadata": {},
   "outputs": [
    {
     "data": {
      "text/plain": [
       "id                                    0\n",
       "name                                  0\n",
       "host_id                               0\n",
       "host_name                             0\n",
       "neighbourhood_group                   0\n",
       "neighbourhood                         0\n",
       "latitude                              0\n",
       "longitude                             0\n",
       "room_type                             0\n",
       "price                                 0\n",
       "minimum_nights                        0\n",
       "number_of_reviews                     0\n",
       "last_review                       10037\n",
       "reviews_per_month                 10037\n",
       "calculated_host_listings_count        0\n",
       "availability_365                      0\n",
       "dtype: int64"
      ]
     },
     "execution_count": 22,
     "metadata": {},
     "output_type": "execute_result"
    }
   ],
   "source": [
    "analysis_data.isnull().sum()"
   ]
  },
  {
   "cell_type": "code",
   "execution_count": 23,
   "metadata": {},
   "outputs": [],
   "source": [
    "## index 를 재설정 해주어야 아래 코드에서 error 발생 안함\n",
    "#analysis_data = analysis_data.reset_index(drop=True)\n",
    "\n",
    "## 아래와 같은 방법으로 name 데이터 제거시 속도가 느림\n",
    "## TODO : Pandas 의 빠른 방법이 있는지 확인 필요\n",
    "#name_re = re.compile(r'^[a-zA-Z0-9.,_# ]+$')\n",
    "#for index, name in enumerate(analysis_data['name']):\n",
    "#    if name_re.search(name) == None:\n",
    "#        analysis_data.drop([index], axis=0, inplace=True)"
   ]
  },
  {
   "cell_type": "code",
   "execution_count": 24,
   "metadata": {},
   "outputs": [
    {
     "data": {
      "text/html": [
       "<div>\n",
       "<style scoped>\n",
       "    .dataframe tbody tr th:only-of-type {\n",
       "        vertical-align: middle;\n",
       "    }\n",
       "\n",
       "    .dataframe tbody tr th {\n",
       "        vertical-align: top;\n",
       "    }\n",
       "\n",
       "    .dataframe thead th {\n",
       "        text-align: right;\n",
       "    }\n",
       "</style>\n",
       "<table border=\"1\" class=\"dataframe\">\n",
       "  <thead>\n",
       "    <tr style=\"text-align: right;\">\n",
       "      <th></th>\n",
       "      <th>id</th>\n",
       "      <th>name</th>\n",
       "      <th>host_id</th>\n",
       "      <th>host_name</th>\n",
       "      <th>neighbourhood_group</th>\n",
       "      <th>neighbourhood</th>\n",
       "      <th>latitude</th>\n",
       "      <th>longitude</th>\n",
       "      <th>room_type</th>\n",
       "      <th>price</th>\n",
       "      <th>minimum_nights</th>\n",
       "      <th>number_of_reviews</th>\n",
       "      <th>last_review</th>\n",
       "      <th>reviews_per_month</th>\n",
       "      <th>calculated_host_listings_count</th>\n",
       "      <th>availability_365</th>\n",
       "    </tr>\n",
       "  </thead>\n",
       "  <tbody>\n",
       "    <tr>\n",
       "      <td>1</td>\n",
       "      <td>2595</td>\n",
       "      <td>Skylit Midtown Castle</td>\n",
       "      <td>2845</td>\n",
       "      <td>Jennifer</td>\n",
       "      <td>Manhattan</td>\n",
       "      <td>Midtown</td>\n",
       "      <td>40.75362</td>\n",
       "      <td>-73.98377</td>\n",
       "      <td>Entire home/apt</td>\n",
       "      <td>225</td>\n",
       "      <td>1</td>\n",
       "      <td>45</td>\n",
       "      <td>2019-05-21</td>\n",
       "      <td>0.38</td>\n",
       "      <td>2</td>\n",
       "      <td>355</td>\n",
       "    </tr>\n",
       "    <tr>\n",
       "      <td>3</td>\n",
       "      <td>3831</td>\n",
       "      <td>Cozy Entire Floor of Brownstone</td>\n",
       "      <td>4869</td>\n",
       "      <td>LisaRoxanne</td>\n",
       "      <td>Brooklyn</td>\n",
       "      <td>Clinton Hill</td>\n",
       "      <td>40.68514</td>\n",
       "      <td>-73.95976</td>\n",
       "      <td>Entire home/apt</td>\n",
       "      <td>89</td>\n",
       "      <td>1</td>\n",
       "      <td>270</td>\n",
       "      <td>2019-07-05</td>\n",
       "      <td>4.64</td>\n",
       "      <td>1</td>\n",
       "      <td>194</td>\n",
       "    </tr>\n",
       "    <tr>\n",
       "      <td>5</td>\n",
       "      <td>5099</td>\n",
       "      <td>Large Cozy 1 BR Apartment In Midtown East</td>\n",
       "      <td>7322</td>\n",
       "      <td>Chris</td>\n",
       "      <td>Manhattan</td>\n",
       "      <td>Murray Hill</td>\n",
       "      <td>40.74767</td>\n",
       "      <td>-73.97500</td>\n",
       "      <td>Entire home/apt</td>\n",
       "      <td>200</td>\n",
       "      <td>3</td>\n",
       "      <td>74</td>\n",
       "      <td>2019-06-22</td>\n",
       "      <td>0.59</td>\n",
       "      <td>1</td>\n",
       "      <td>129</td>\n",
       "    </tr>\n",
       "    <tr>\n",
       "      <td>8</td>\n",
       "      <td>5203</td>\n",
       "      <td>Cozy Clean Guest Room - Family Apt</td>\n",
       "      <td>7490</td>\n",
       "      <td>MaryEllen</td>\n",
       "      <td>Manhattan</td>\n",
       "      <td>Upper West Side</td>\n",
       "      <td>40.80178</td>\n",
       "      <td>-73.96723</td>\n",
       "      <td>Private room</td>\n",
       "      <td>79</td>\n",
       "      <td>2</td>\n",
       "      <td>118</td>\n",
       "      <td>2017-07-21</td>\n",
       "      <td>0.99</td>\n",
       "      <td>1</td>\n",
       "      <td>0</td>\n",
       "    </tr>\n",
       "    <tr>\n",
       "      <td>10</td>\n",
       "      <td>5295</td>\n",
       "      <td>Beautiful 1br on Upper West Side</td>\n",
       "      <td>7702</td>\n",
       "      <td>Lena</td>\n",
       "      <td>Manhattan</td>\n",
       "      <td>Upper West Side</td>\n",
       "      <td>40.80316</td>\n",
       "      <td>-73.96545</td>\n",
       "      <td>Entire home/apt</td>\n",
       "      <td>135</td>\n",
       "      <td>5</td>\n",
       "      <td>53</td>\n",
       "      <td>2019-06-22</td>\n",
       "      <td>0.43</td>\n",
       "      <td>1</td>\n",
       "      <td>6</td>\n",
       "    </tr>\n",
       "    <tr>\n",
       "      <td>...</td>\n",
       "      <td>...</td>\n",
       "      <td>...</td>\n",
       "      <td>...</td>\n",
       "      <td>...</td>\n",
       "      <td>...</td>\n",
       "      <td>...</td>\n",
       "      <td>...</td>\n",
       "      <td>...</td>\n",
       "      <td>...</td>\n",
       "      <td>...</td>\n",
       "      <td>...</td>\n",
       "      <td>...</td>\n",
       "      <td>...</td>\n",
       "      <td>...</td>\n",
       "      <td>...</td>\n",
       "      <td>...</td>\n",
       "    </tr>\n",
       "    <tr>\n",
       "      <td>48887</td>\n",
       "      <td>36483152</td>\n",
       "      <td>Garden Jewel Apartment in Williamsburg New York</td>\n",
       "      <td>208514239</td>\n",
       "      <td>Melki</td>\n",
       "      <td>Brooklyn</td>\n",
       "      <td>Williamsburg</td>\n",
       "      <td>40.71232</td>\n",
       "      <td>-73.94220</td>\n",
       "      <td>Entire home/apt</td>\n",
       "      <td>170</td>\n",
       "      <td>1</td>\n",
       "      <td>0</td>\n",
       "      <td>NaN</td>\n",
       "      <td>NaN</td>\n",
       "      <td>3</td>\n",
       "      <td>365</td>\n",
       "    </tr>\n",
       "    <tr>\n",
       "      <td>48889</td>\n",
       "      <td>36484363</td>\n",
       "      <td>QUIT PRIVATE HOUSE</td>\n",
       "      <td>107716952</td>\n",
       "      <td>Michael</td>\n",
       "      <td>Queens</td>\n",
       "      <td>Jamaica</td>\n",
       "      <td>40.69137</td>\n",
       "      <td>-73.80844</td>\n",
       "      <td>Private room</td>\n",
       "      <td>65</td>\n",
       "      <td>1</td>\n",
       "      <td>0</td>\n",
       "      <td>NaN</td>\n",
       "      <td>NaN</td>\n",
       "      <td>2</td>\n",
       "      <td>163</td>\n",
       "    </tr>\n",
       "    <tr>\n",
       "      <td>48890</td>\n",
       "      <td>36484665</td>\n",
       "      <td>Charming one bedroom - newly renovated rowhouse</td>\n",
       "      <td>8232441</td>\n",
       "      <td>Sabrina</td>\n",
       "      <td>Brooklyn</td>\n",
       "      <td>Bedford-Stuyvesant</td>\n",
       "      <td>40.67853</td>\n",
       "      <td>-73.94995</td>\n",
       "      <td>Private room</td>\n",
       "      <td>70</td>\n",
       "      <td>2</td>\n",
       "      <td>0</td>\n",
       "      <td>NaN</td>\n",
       "      <td>NaN</td>\n",
       "      <td>2</td>\n",
       "      <td>9</td>\n",
       "    </tr>\n",
       "    <tr>\n",
       "      <td>48892</td>\n",
       "      <td>36485431</td>\n",
       "      <td>Sunny Studio at Historical Neighborhood</td>\n",
       "      <td>23492952</td>\n",
       "      <td>Ilgar &amp; Aysel</td>\n",
       "      <td>Manhattan</td>\n",
       "      <td>Harlem</td>\n",
       "      <td>40.81475</td>\n",
       "      <td>-73.94867</td>\n",
       "      <td>Entire home/apt</td>\n",
       "      <td>115</td>\n",
       "      <td>10</td>\n",
       "      <td>0</td>\n",
       "      <td>NaN</td>\n",
       "      <td>NaN</td>\n",
       "      <td>1</td>\n",
       "      <td>27</td>\n",
       "    </tr>\n",
       "    <tr>\n",
       "      <td>48893</td>\n",
       "      <td>36485609</td>\n",
       "      <td>43rd St. Time Square-cozy single bed</td>\n",
       "      <td>30985759</td>\n",
       "      <td>Taz</td>\n",
       "      <td>Manhattan</td>\n",
       "      <td>Hell's Kitchen</td>\n",
       "      <td>40.75751</td>\n",
       "      <td>-73.99112</td>\n",
       "      <td>Shared room</td>\n",
       "      <td>55</td>\n",
       "      <td>1</td>\n",
       "      <td>0</td>\n",
       "      <td>NaN</td>\n",
       "      <td>NaN</td>\n",
       "      <td>6</td>\n",
       "      <td>2</td>\n",
       "    </tr>\n",
       "  </tbody>\n",
       "</table>\n",
       "<p>31739 rows × 16 columns</p>\n",
       "</div>"
      ],
      "text/plain": [
       "             id                                             name    host_id  \\\n",
       "1          2595                            Skylit Midtown Castle       2845   \n",
       "3          3831                  Cozy Entire Floor of Brownstone       4869   \n",
       "5          5099        Large Cozy 1 BR Apartment In Midtown East       7322   \n",
       "8          5203               Cozy Clean Guest Room - Family Apt       7490   \n",
       "10         5295                 Beautiful 1br on Upper West Side       7702   \n",
       "...         ...                                              ...        ...   \n",
       "48887  36483152  Garden Jewel Apartment in Williamsburg New York  208514239   \n",
       "48889  36484363                               QUIT PRIVATE HOUSE  107716952   \n",
       "48890  36484665  Charming one bedroom - newly renovated rowhouse    8232441   \n",
       "48892  36485431          Sunny Studio at Historical Neighborhood   23492952   \n",
       "48893  36485609             43rd St. Time Square-cozy single bed   30985759   \n",
       "\n",
       "           host_name neighbourhood_group       neighbourhood  latitude  \\\n",
       "1           Jennifer           Manhattan             Midtown  40.75362   \n",
       "3        LisaRoxanne            Brooklyn        Clinton Hill  40.68514   \n",
       "5              Chris           Manhattan         Murray Hill  40.74767   \n",
       "8          MaryEllen           Manhattan     Upper West Side  40.80178   \n",
       "10              Lena           Manhattan     Upper West Side  40.80316   \n",
       "...              ...                 ...                 ...       ...   \n",
       "48887          Melki            Brooklyn        Williamsburg  40.71232   \n",
       "48889        Michael              Queens             Jamaica  40.69137   \n",
       "48890        Sabrina            Brooklyn  Bedford-Stuyvesant  40.67853   \n",
       "48892  Ilgar & Aysel           Manhattan              Harlem  40.81475   \n",
       "48893            Taz           Manhattan      Hell's Kitchen  40.75751   \n",
       "\n",
       "       longitude        room_type  price  minimum_nights  number_of_reviews  \\\n",
       "1      -73.98377  Entire home/apt    225               1                 45   \n",
       "3      -73.95976  Entire home/apt     89               1                270   \n",
       "5      -73.97500  Entire home/apt    200               3                 74   \n",
       "8      -73.96723     Private room     79               2                118   \n",
       "10     -73.96545  Entire home/apt    135               5                 53   \n",
       "...          ...              ...    ...             ...                ...   \n",
       "48887  -73.94220  Entire home/apt    170               1                  0   \n",
       "48889  -73.80844     Private room     65               1                  0   \n",
       "48890  -73.94995     Private room     70               2                  0   \n",
       "48892  -73.94867  Entire home/apt    115              10                  0   \n",
       "48893  -73.99112      Shared room     55               1                  0   \n",
       "\n",
       "      last_review  reviews_per_month  calculated_host_listings_count  \\\n",
       "1      2019-05-21               0.38                               2   \n",
       "3      2019-07-05               4.64                               1   \n",
       "5      2019-06-22               0.59                               1   \n",
       "8      2017-07-21               0.99                               1   \n",
       "10     2019-06-22               0.43                               1   \n",
       "...           ...                ...                             ...   \n",
       "48887         NaN                NaN                               3   \n",
       "48889         NaN                NaN                               2   \n",
       "48890         NaN                NaN                               2   \n",
       "48892         NaN                NaN                               1   \n",
       "48893         NaN                NaN                               6   \n",
       "\n",
       "       availability_365  \n",
       "1                   355  \n",
       "3                   194  \n",
       "5                   129  \n",
       "8                     0  \n",
       "10                    6  \n",
       "...                 ...  \n",
       "48887               365  \n",
       "48889               163  \n",
       "48890                 9  \n",
       "48892                27  \n",
       "48893                 2  \n",
       "\n",
       "[31739 rows x 16 columns]"
      ]
     },
     "execution_count": 24,
     "metadata": {},
     "output_type": "execute_result"
    }
   ],
   "source": [
    "# 수정 : 문제에서 '-' 를 '_' 으로 잘 못 보아 파싱 구문이 달라짐\n",
    "#        str.match 사용\n",
    "# name_re = re.compile(r'^[a-zA-Z0-9.,_# ]+$')\n",
    "name_re = re.compile(r'^[a-zA-Z0-9.,#\\-\\s]+$')\n",
    "analysis_data = analysis_data[analysis_data['name'].str.match(name_re)]\n",
    "analysis_data"
   ]
  },
  {
   "cell_type": "code",
   "execution_count": 25,
   "metadata": {},
   "outputs": [
    {
     "data": {
      "text/plain": [
       "(31739, 16)"
      ]
     },
     "execution_count": 25,
     "metadata": {},
     "output_type": "execute_result"
    }
   ],
   "source": [
    "analysis_data.shape"
   ]
  },
  {
   "cell_type": "markdown",
   "metadata": {},
   "source": [
    "---\n",
    ">- 리뷰\n",
    "   - 잘해주셨네요!\n",
    "   - pandas로 수행하는 방법으로는 ~.str.match 혹은 ~.str.contains가 존재합니다.\n",
    "   - analysis_data\\['name'\\]뒤에 걸어주신다면? 사용할 수 있을거에요"
   ]
  },
  {
   "cell_type": "markdown",
   "metadata": {},
   "source": [
    "---\n",
    ">- 2차 리뷰\n",
    "   - compile 부분을 자세히 보니 빠진 부분이 좀 있네요\n",
    "   - 공백을 체크하는 부분, ',' 부분이 빠져 있어요!\n",
    "   - 필터링된 데이터수가 31739가 나와야 합니다.\n",
    "   \n",
    ">- 수정\n",
    "   - 조건식 수정하여 31739 확인 하였습니다."
   ]
  },
  {
   "cell_type": "markdown",
   "metadata": {},
   "source": [
    "---\n",
    ">- 3차 리뷰\n",
    "   - 잘해주셨습니다.\n",
    "   - 이제 완벽하게 regex가 적용되었네요"
   ]
  },
  {
   "cell_type": "markdown",
   "metadata": {},
   "source": [
    "### [Quiz 9] room_type의 모든 값을 구합니다. room_type으로 데이터를 GroupBy합니다. 각 Group 별로 price가 가장 높은 데이터의 (name, hostId, price)를 출력합니다. 동일한 값을 가지는 데이터가 있다면 전부 출력합니다."
   ]
  },
  {
   "cell_type": "code",
   "execution_count": 26,
   "metadata": {},
   "outputs": [
    {
     "data": {
      "text/plain": [
       "array(['Entire home/apt', 'Private room', 'Shared room'], dtype=object)"
      ]
     },
     "execution_count": 26,
     "metadata": {},
     "output_type": "execute_result"
    }
   ],
   "source": [
    "# room_type의 모든 값\n",
    "analysis_data['room_type'].unique()"
   ]
  },
  {
   "cell_type": "code",
   "execution_count": 27,
   "metadata": {},
   "outputs": [
    {
     "data": {
      "text/plain": [
       "room_type\n",
       "Entire home/apt    10000\n",
       "Private room       10000\n",
       "Shared room         1800\n",
       "Name: price, dtype: int64"
      ]
     },
     "execution_count": 27,
     "metadata": {},
     "output_type": "execute_result"
    }
   ],
   "source": [
    "analysis_data.groupby('room_type')['price'].max()"
   ]
  },
  {
   "cell_type": "code",
   "execution_count": 28,
   "metadata": {},
   "outputs": [
    {
     "data": {
      "text/plain": [
       "room_type\n",
       "Entire home/apt    10000\n",
       "Private room       10000\n",
       "Shared room         1800\n",
       "Name: price, dtype: int64"
      ]
     },
     "execution_count": 28,
     "metadata": {},
     "output_type": "execute_result"
    }
   ],
   "source": [
    "# room_type의 가장 높은 price 값\n",
    "high_price_group = analysis_data.groupby('room_type').max()['price']\n",
    "high_price_group"
   ]
  },
  {
   "cell_type": "code",
   "execution_count": 29,
   "metadata": {},
   "outputs": [
    {
     "name": "stdout",
     "output_type": "stream",
     "text": [
      "             room_type                                             name  \\\n",
      "17692  Entire home/apt  Luxury 1 bedroom apt. -stunning Manhattan views   \n",
      "29238  Entire home/apt                              1-BR Lincoln Center   \n",
      "\n",
      "        host_id  price  \n",
      "17692   5143901  10000  \n",
      "29238  72390391  10000  \n",
      "         room_type                                 name   host_id  price\n",
      "9151  Private room  Furnished room in Astoria apartment  20582832  10000\n",
      "         room_type                                    name   host_id  price\n",
      "14380  Shared room  Mins away to Manhattan Suite Residence  24146326   1800\n"
     ]
    }
   ],
   "source": [
    "for room_type in analysis_data['room_type'].unique():\n",
    "    group_type = analysis_data['room_type'] == room_type\n",
    "    group_max_price = analysis_data['price'] == analysis_data.groupby('room_type').get_group(room_type).max()['price']\n",
    "    print(analysis_data[group_type & group_max_price][['room_type', 'name', 'host_id', 'price']])"
   ]
  },
  {
   "cell_type": "markdown",
   "metadata": {},
   "source": [
    "---\n",
    ">- 리뷰\n",
    "   - 잘해주셨는데 위의 데이터 때문인지 결과는 맞지 않네요\n",
    "   - Entire_home에서 2개가 나와야합니다\n",
    "\n",
    ">- 수정\n",
    "   - Quiz.8 문제에서 '-' 를 '_' 으로 잘 못 보아 파싱구문에 문제가 있어 수정 하였습니다."
   ]
  },
  {
   "cell_type": "markdown",
   "metadata": {},
   "source": [
    "---\n",
    ">- 2차 리뷰\n",
    "   - 잘해주셨습니다!\n",
    "   - 전에는 오류가 나지 않았었던 것으로 기억하는데 저 부분에서 전 오류가 나네요..\n",
    "   - 결과를 찍어주신 것을 보면 저한테만 생기는 오류 같네요!\n",
    "   - 코드로 볼떄엔 문제 없습니다! 결과도 잘 나오네요"
   ]
  },
  {
   "cell_type": "markdown",
   "metadata": {},
   "source": [
    "### [Quiz 10] room_type이 가격에 영향을 주는지를 확인하기 위해 하나의 그래프 위에 그룹별로 0~500까지의 price위에서 10단위로 히스토그램을 그립니다."
   ]
  },
  {
   "cell_type": "code",
   "execution_count": 30,
   "metadata": {},
   "outputs": [
    {
     "data": {
      "image/png": "[encoded data removed]",
      "text/plain": [
       "<Figure size 864x432 with 1 Axes>"
      ]
     },
     "metadata": {
      "needs_background": "light"
     },
     "output_type": "display_data"
    }
   ],
   "source": [
    "# room_type 별 hist 의 color 설정\n",
    "color_type = {'Entire home/apt': 'r', 'Private room': 'g', 'Shared room': 'b'}\n",
    "\n",
    "# room_type 별 hist 그리기\n",
    "for room_type in color_type:\n",
    "    analysis_data[analysis_data['room_type'] == room_type]['price'].plot.hist(bins=range(0, 501, 10), \n",
    "                                                                              color=color_type[room_type], \n",
    "                                                                              label=room_type, \n",
    "                                                                              alpha=0.6, \n",
    "                                                                              figsize=(12,6))\n",
    "plt.legend(title = 'room_type')\n",
    "plt.xlabel('price')\n",
    "plt.show()"
   ]
  },
  {
   "cell_type": "markdown",
   "metadata": {},
   "source": [
    "### [Quiz 11] SQL 사용 : 등록한 방이 가장 많은(row가 가장 많은) 10개의 host_id를 구한 후, 각 host_id별로 price의 평균을 구합니다. count가 많은 순서대로 출력합니다."
   ]
  },
  {
   "cell_type": "code",
   "execution_count": 31,
   "metadata": {},
   "outputs": [],
   "source": [
    "# # 4번 문제\n",
    "# import sqlite3\n",
    "# conn = sqlite3.connect(':memory:')\n",
    "# conn.text_factory = str\n",
    "# analysis_data.to_sql(name='data', con=conn)\n",
    "# 이 부분이 여기 있으면 안됩니다.\n",
    "# 본래 위치인 quiz8 위에서 먼저 선언되어야 합니다."
   ]
  },
  {
   "cell_type": "code",
   "execution_count": 32,
   "metadata": {},
   "outputs": [],
   "source": [
    "sql_data = pd.read_sql('select * from data', conn)"
   ]
  },
  {
   "cell_type": "code",
   "execution_count": 33,
   "metadata": {},
   "outputs": [
    {
     "name": "stdout",
     "output_type": "stream",
     "text": [
      "Index(['index', 'id', 'name', 'host_id', 'host_name', 'neighbourhood_group',\n",
      "       'neighbourhood', 'latitude', 'longitude', 'room_type', 'price',\n",
      "       'minimum_nights', 'number_of_reviews', 'last_review',\n",
      "       'reviews_per_month', 'calculated_host_listings_count',\n",
      "       'availability_365'],\n",
      "      dtype='object')\n",
      "(48858, 17)\n",
      "index                             48858\n",
      "id                                48858\n",
      "name                              48858\n",
      "host_id                           48858\n",
      "host_name                         48858\n",
      "neighbourhood_group               48858\n",
      "neighbourhood                     48858\n",
      "latitude                          48858\n",
      "longitude                         48858\n",
      "room_type                         48858\n",
      "price                             48858\n",
      "minimum_nights                    48858\n",
      "number_of_reviews                 48858\n",
      "last_review                       38821\n",
      "reviews_per_month                 38821\n",
      "calculated_host_listings_count    48858\n",
      "availability_365                  48858\n",
      "dtype: int64\n",
      "<class 'pandas.core.frame.DataFrame'>\n",
      "RangeIndex: 48858 entries, 0 to 48857\n",
      "Data columns (total 17 columns):\n",
      "index                             48858 non-null int64\n",
      "id                                48858 non-null int64\n",
      "name                              48858 non-null object\n",
      "host_id                           48858 non-null int64\n",
      "host_name                         48858 non-null object\n",
      "neighbourhood_group               48858 non-null object\n",
      "neighbourhood                     48858 non-null object\n",
      "latitude                          48858 non-null float64\n",
      "longitude                         48858 non-null float64\n",
      "room_type                         48858 non-null object\n",
      "price                             48858 non-null int64\n",
      "minimum_nights                    48858 non-null int64\n",
      "number_of_reviews                 48858 non-null int64\n",
      "last_review                       38821 non-null object\n",
      "reviews_per_month                 38821 non-null float64\n",
      "calculated_host_listings_count    48858 non-null int64\n",
      "availability_365                  48858 non-null int64\n",
      "dtypes: float64(3), int64(8), object(6)\n",
      "memory usage: 6.3+ MB\n",
      "None\n"
     ]
    }
   ],
   "source": [
    "print(sql_data.columns)\n",
    "print(sql_data.shape)\n",
    "print(sql_data.count())\n",
    "print(sql_data.info())"
   ]
  },
  {
   "cell_type": "code",
   "execution_count": 34,
   "metadata": {},
   "outputs": [
    {
     "data": {
      "text/html": [
       "<div>\n",
       "<style scoped>\n",
       "    .dataframe tbody tr th:only-of-type {\n",
       "        vertical-align: middle;\n",
       "    }\n",
       "\n",
       "    .dataframe tbody tr th {\n",
       "        vertical-align: top;\n",
       "    }\n",
       "\n",
       "    .dataframe thead th {\n",
       "        text-align: right;\n",
       "    }\n",
       "</style>\n",
       "<table border=\"1\" class=\"dataframe\">\n",
       "  <thead>\n",
       "    <tr style=\"text-align: right;\">\n",
       "      <th></th>\n",
       "      <th>index</th>\n",
       "      <th>id</th>\n",
       "      <th>name</th>\n",
       "      <th>host_id</th>\n",
       "      <th>host_name</th>\n",
       "      <th>neighbourhood_group</th>\n",
       "      <th>neighbourhood</th>\n",
       "      <th>latitude</th>\n",
       "      <th>longitude</th>\n",
       "      <th>room_type</th>\n",
       "      <th>price</th>\n",
       "      <th>minimum_nights</th>\n",
       "      <th>number_of_reviews</th>\n",
       "      <th>last_review</th>\n",
       "      <th>reviews_per_month</th>\n",
       "      <th>calculated_host_listings_count</th>\n",
       "      <th>availability_365</th>\n",
       "    </tr>\n",
       "  </thead>\n",
       "  <tbody>\n",
       "    <tr>\n",
       "      <td>0</td>\n",
       "      <td>0</td>\n",
       "      <td>2539</td>\n",
       "      <td>Clean &amp; quiet apt home by the park</td>\n",
       "      <td>2787</td>\n",
       "      <td>John</td>\n",
       "      <td>Brooklyn</td>\n",
       "      <td>Kensington</td>\n",
       "      <td>40.64749</td>\n",
       "      <td>-73.97237</td>\n",
       "      <td>Private room</td>\n",
       "      <td>149</td>\n",
       "      <td>1</td>\n",
       "      <td>9</td>\n",
       "      <td>2018-10-19</td>\n",
       "      <td>0.21</td>\n",
       "      <td>6</td>\n",
       "      <td>365</td>\n",
       "    </tr>\n",
       "    <tr>\n",
       "      <td>1</td>\n",
       "      <td>1</td>\n",
       "      <td>2595</td>\n",
       "      <td>Skylit Midtown Castle</td>\n",
       "      <td>2845</td>\n",
       "      <td>Jennifer</td>\n",
       "      <td>Manhattan</td>\n",
       "      <td>Midtown</td>\n",
       "      <td>40.75362</td>\n",
       "      <td>-73.98377</td>\n",
       "      <td>Entire home/apt</td>\n",
       "      <td>225</td>\n",
       "      <td>1</td>\n",
       "      <td>45</td>\n",
       "      <td>2019-05-21</td>\n",
       "      <td>0.38</td>\n",
       "      <td>2</td>\n",
       "      <td>355</td>\n",
       "    </tr>\n",
       "    <tr>\n",
       "      <td>2</td>\n",
       "      <td>2</td>\n",
       "      <td>3647</td>\n",
       "      <td>THE VILLAGE OF HARLEM....NEW YORK !</td>\n",
       "      <td>4632</td>\n",
       "      <td>Elisabeth</td>\n",
       "      <td>Manhattan</td>\n",
       "      <td>Harlem</td>\n",
       "      <td>40.80902</td>\n",
       "      <td>-73.94190</td>\n",
       "      <td>Private room</td>\n",
       "      <td>150</td>\n",
       "      <td>3</td>\n",
       "      <td>0</td>\n",
       "      <td>None</td>\n",
       "      <td>NaN</td>\n",
       "      <td>1</td>\n",
       "      <td>365</td>\n",
       "    </tr>\n",
       "    <tr>\n",
       "      <td>3</td>\n",
       "      <td>3</td>\n",
       "      <td>3831</td>\n",
       "      <td>Cozy Entire Floor of Brownstone</td>\n",
       "      <td>4869</td>\n",
       "      <td>LisaRoxanne</td>\n",
       "      <td>Brooklyn</td>\n",
       "      <td>Clinton Hill</td>\n",
       "      <td>40.68514</td>\n",
       "      <td>-73.95976</td>\n",
       "      <td>Entire home/apt</td>\n",
       "      <td>89</td>\n",
       "      <td>1</td>\n",
       "      <td>270</td>\n",
       "      <td>2019-07-05</td>\n",
       "      <td>4.64</td>\n",
       "      <td>1</td>\n",
       "      <td>194</td>\n",
       "    </tr>\n",
       "    <tr>\n",
       "      <td>4</td>\n",
       "      <td>4</td>\n",
       "      <td>5022</td>\n",
       "      <td>Entire Apt: Spacious Studio/Loft by central park</td>\n",
       "      <td>7192</td>\n",
       "      <td>Laura</td>\n",
       "      <td>Manhattan</td>\n",
       "      <td>East Harlem</td>\n",
       "      <td>40.79851</td>\n",
       "      <td>-73.94399</td>\n",
       "      <td>Entire home/apt</td>\n",
       "      <td>80</td>\n",
       "      <td>10</td>\n",
       "      <td>9</td>\n",
       "      <td>2018-11-19</td>\n",
       "      <td>0.10</td>\n",
       "      <td>1</td>\n",
       "      <td>0</td>\n",
       "    </tr>\n",
       "  </tbody>\n",
       "</table>\n",
       "</div>"
      ],
      "text/plain": [
       "   index    id                                              name  host_id  \\\n",
       "0      0  2539                Clean & quiet apt home by the park     2787   \n",
       "1      1  2595                             Skylit Midtown Castle     2845   \n",
       "2      2  3647               THE VILLAGE OF HARLEM....NEW YORK !     4632   \n",
       "3      3  3831                   Cozy Entire Floor of Brownstone     4869   \n",
       "4      4  5022  Entire Apt: Spacious Studio/Loft by central park     7192   \n",
       "\n",
       "     host_name neighbourhood_group neighbourhood  latitude  longitude  \\\n",
       "0         John            Brooklyn    Kensington  40.64749  -73.97237   \n",
       "1     Jennifer           Manhattan       Midtown  40.75362  -73.98377   \n",
       "2    Elisabeth           Manhattan        Harlem  40.80902  -73.94190   \n",
       "3  LisaRoxanne            Brooklyn  Clinton Hill  40.68514  -73.95976   \n",
       "4        Laura           Manhattan   East Harlem  40.79851  -73.94399   \n",
       "\n",
       "         room_type  price  minimum_nights  number_of_reviews last_review  \\\n",
       "0     Private room    149               1                  9  2018-10-19   \n",
       "1  Entire home/apt    225               1                 45  2019-05-21   \n",
       "2     Private room    150               3                  0        None   \n",
       "3  Entire home/apt     89               1                270  2019-07-05   \n",
       "4  Entire home/apt     80              10                  9  2018-11-19   \n",
       "\n",
       "   reviews_per_month  calculated_host_listings_count  availability_365  \n",
       "0               0.21                               6               365  \n",
       "1               0.38                               2               355  \n",
       "2                NaN                               1               365  \n",
       "3               4.64                               1               194  \n",
       "4               0.10                               1                 0  "
      ]
     },
     "execution_count": 34,
     "metadata": {},
     "output_type": "execute_result"
    }
   ],
   "source": [
    "sql_data.head()"
   ]
  },
  {
   "cell_type": "code",
   "execution_count": 35,
   "metadata": {},
   "outputs": [
    {
     "data": {
      "text/plain": [
       "index                                 0\n",
       "id                                    0\n",
       "name                                  0\n",
       "host_id                               0\n",
       "host_name                             0\n",
       "neighbourhood_group                   0\n",
       "neighbourhood                         0\n",
       "latitude                              0\n",
       "longitude                             0\n",
       "room_type                             0\n",
       "price                                 0\n",
       "minimum_nights                        0\n",
       "number_of_reviews                     0\n",
       "last_review                       10037\n",
       "reviews_per_month                 10037\n",
       "calculated_host_listings_count        0\n",
       "availability_365                      0\n",
       "dtype: int64"
      ]
     },
     "execution_count": 35,
     "metadata": {},
     "output_type": "execute_result"
    }
   ],
   "source": [
    "sql_data.isnull().sum()"
   ]
  },
  {
   "cell_type": "code",
   "execution_count": 36,
   "metadata": {},
   "outputs": [
    {
     "data": {
      "text/plain": [
       "219517861    327\n",
       "107434423    232\n",
       "30283594     121\n",
       "137358866    103\n",
       "12243051      96\n",
       "16098958      96\n",
       "61391963      91\n",
       "22541573      87\n",
       "200380610     65\n",
       "7503643       52\n",
       "Name: host_id, dtype: int64"
      ]
     },
     "execution_count": 36,
     "metadata": {},
     "output_type": "execute_result"
    }
   ],
   "source": [
    "# 등록한 방이 가장 많은(row가 가장 많은) 10개의 host_id\n",
    "top10_reg_ID = sql_data['host_id'].value_counts().sort_values(ascending=False)[:10]\n",
    "top10_reg_ID"
   ]
  },
  {
   "cell_type": "code",
   "execution_count": 37,
   "metadata": {},
   "outputs": [
    {
     "data": {
      "text/plain": [
       "219517861    327\n",
       "107434423    232\n",
       "30283594     121\n",
       "137358866    103\n",
       "12243051      96\n",
       "16098958      96\n",
       "61391963      91\n",
       "22541573      87\n",
       "200380610     65\n",
       "7503643       52\n",
       "Name: host_id, dtype: int64"
      ]
     },
     "execution_count": 37,
     "metadata": {},
     "output_type": "execute_result"
    }
   ],
   "source": [
    "# 등록한 방이 가장 많은(row가 가장 많은) 10개의 host_id\n",
    "top10_reg_ID = sql_data['host_id'].value_counts().sort_values(ascending=False)[:10]\n",
    "top10_reg_ID\n",
    "# 정답의 값은 이렇게 나와요!! 같은 코드이지만 다른 결과값"
   ]
  },
  {
   "cell_type": "code",
   "execution_count": 38,
   "metadata": {},
   "outputs": [
    {
     "data": {
      "text/plain": [
       "219517861    253.195719\n",
       "107434423    303.150862\n",
       "30283594     277.528926\n",
       "137358866     43.825243\n",
       "12243051     213.031250\n",
       "16098958     208.958333\n",
       "61391963     146.241758\n",
       "22541573     215.436782\n",
       "200380610    290.230769\n",
       "7503643      149.192308\n",
       "Name: price, dtype: float64"
      ]
     },
     "execution_count": 38,
     "metadata": {},
     "output_type": "execute_result"
    }
   ],
   "source": [
    "# host_id 로 groupby 하여 상위 10개의 host_id 의 price 평균 구하기\n",
    "top10_reg_ID_mean_price = sql_data.groupby('host_id').mean()['price'].loc[top10_reg_ID.index]\n",
    "top10_reg_ID_mean_price"
   ]
  },
  {
   "cell_type": "code",
   "execution_count": 39,
   "metadata": {},
   "outputs": [
    {
     "data": {
      "text/html": [
       "<div>\n",
       "<style scoped>\n",
       "    .dataframe tbody tr th:only-of-type {\n",
       "        vertical-align: middle;\n",
       "    }\n",
       "\n",
       "    .dataframe tbody tr th {\n",
       "        vertical-align: top;\n",
       "    }\n",
       "\n",
       "    .dataframe thead th {\n",
       "        text-align: right;\n",
       "    }\n",
       "</style>\n",
       "<table border=\"1\" class=\"dataframe\">\n",
       "  <thead>\n",
       "    <tr style=\"text-align: right;\">\n",
       "      <th></th>\n",
       "      <th>count</th>\n",
       "      <th>mean of price</th>\n",
       "    </tr>\n",
       "  </thead>\n",
       "  <tbody>\n",
       "    <tr>\n",
       "      <td>219517861</td>\n",
       "      <td>327.0</td>\n",
       "      <td>253.195719</td>\n",
       "    </tr>\n",
       "    <tr>\n",
       "      <td>107434423</td>\n",
       "      <td>232.0</td>\n",
       "      <td>303.150862</td>\n",
       "    </tr>\n",
       "    <tr>\n",
       "      <td>30283594</td>\n",
       "      <td>121.0</td>\n",
       "      <td>277.528926</td>\n",
       "    </tr>\n",
       "    <tr>\n",
       "      <td>137358866</td>\n",
       "      <td>103.0</td>\n",
       "      <td>43.825243</td>\n",
       "    </tr>\n",
       "    <tr>\n",
       "      <td>12243051</td>\n",
       "      <td>96.0</td>\n",
       "      <td>213.031250</td>\n",
       "    </tr>\n",
       "    <tr>\n",
       "      <td>16098958</td>\n",
       "      <td>96.0</td>\n",
       "      <td>208.958333</td>\n",
       "    </tr>\n",
       "    <tr>\n",
       "      <td>61391963</td>\n",
       "      <td>91.0</td>\n",
       "      <td>146.241758</td>\n",
       "    </tr>\n",
       "    <tr>\n",
       "      <td>22541573</td>\n",
       "      <td>87.0</td>\n",
       "      <td>215.436782</td>\n",
       "    </tr>\n",
       "    <tr>\n",
       "      <td>200380610</td>\n",
       "      <td>65.0</td>\n",
       "      <td>290.230769</td>\n",
       "    </tr>\n",
       "    <tr>\n",
       "      <td>7503643</td>\n",
       "      <td>52.0</td>\n",
       "      <td>149.192308</td>\n",
       "    </tr>\n",
       "  </tbody>\n",
       "</table>\n",
       "</div>"
      ],
      "text/plain": [
       "           count  mean of price\n",
       "219517861  327.0     253.195719\n",
       "107434423  232.0     303.150862\n",
       "30283594   121.0     277.528926\n",
       "137358866  103.0      43.825243\n",
       "12243051    96.0     213.031250\n",
       "16098958    96.0     208.958333\n",
       "61391963    91.0     146.241758\n",
       "22541573    87.0     215.436782\n",
       "200380610   65.0     290.230769\n",
       "7503643     52.0     149.192308"
      ]
     },
     "execution_count": 39,
     "metadata": {},
     "output_type": "execute_result"
    }
   ],
   "source": [
    "# ID 별 count 값, 평균 가격\n",
    "result = pd.DataFrame([top10_reg_ID, top10_reg_ID_mean_price], index=['count', 'mean of price'])\n",
    "result = result.transpose()\n",
    "result"
   ]
  },
  {
   "cell_type": "markdown",
   "metadata": {},
   "source": [
    "---\n",
    ">- 리뷰\n",
    "   - 보여주실때 count 값도 같이 있었으면 좋았겠지만\n",
    "   - 일단 위에서 나타내주시고 있기에 문제는 없을 것 같네요!\n",
    "   - 코드 상으로 문제는 없어 보이는데\n",
    "   - 위에서 데이터 필터링이 잘못되어 결과값이 다릅니다.\n",
    "   - 꼭 다시 한번 해보시고 결과값을 비교해보시기 바랍니다.\n",
    "\n",
    ">- 수정\n",
    "   - Quiz.8 문제에서 '-' 를 '_' 으로 잘 못 보아 파싱구문에 문제가 있어 수정 하였습니다."
   ]
  },
  {
   "cell_type": "markdown",
   "metadata": {},
   "source": [
    "---\n",
    ">- 2차 리뷰\n",
    "   - 여기 있는 부분들도 위의 pattern이 제대로 잡히면\n",
    "   - 제대로 답이 나올 것 같아요!"
   ]
  },
  {
   "cell_type": "markdown",
   "metadata": {},
   "source": [
    "---\n",
    ">- 3차 리뷰\n",
    "   - 코드는 정상인데 결과 값이 안 맞아서 한참 봤네요..\n",
    "   - 원래 있던 코드의 위치가 변하면서 데이터가 변해 그 결과값이 달랐던 거였습니다.\n",
    "   - 코드를 본래 위치에 놓으니 잘 나오네요!\n",
    "   - 수고하셨습니다."
   ]
  }
 ],
 "metadata": {
  "kernelspec": {
   "display_name": "Python 3",
   "language": "python",
   "name": "python3"
  },
  "language_info": {
   "codemirror_mode": {
    "name": "ipython",
    "version": 3
   },
   "file_extension": ".py",
   "mimetype": "text/x-python",
   "name": "python",
   "nbconvert_exporter": "python",
   "pygments_lexer": "ipython3",
   "version": "3.7.4"
  },
  "nbTranslate": {
   "displayLangs": [
    "*"
   ],
   "hotkey": "alt-t",
   "langInMainMenu": true,
   "sourceLang": "en",
   "targetLang": "fr",
   "useGoogleTranslate": true
  },
  "toc": {
   "base_numbering": 1,
   "nav_menu": {},
   "number_sections": true,
   "sideBar": true,
   "skip_h1_title": false,
   "title_cell": "Table of Contents",
   "title_sidebar": "Contents",
   "toc_cell": false,
   "toc_position": {},
   "toc_section_display": true,
   "toc_window_display": false
  }
 },
 "nbformat": 4,
 "nbformat_minor": 1
}

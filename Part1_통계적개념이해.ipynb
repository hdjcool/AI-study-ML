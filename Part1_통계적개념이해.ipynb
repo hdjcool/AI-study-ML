{
 "cells": [
  {
   "cell_type": "markdown",
   "metadata": {
    "colab_type": "text",
    "id": "XGNuvipdg_7i"
   },
   "source": [
    "---   \n",
    "\n",
    "# 프로젝트 명 : 유기질 비료 연구와 제약 실험 사례를 통한 통계적 개념 이해\n",
    "## 프로젝트 목표\n",
    "    - 머신러닝에 이용되는 통계적 개념을 문제 상황에 적용해봅니다.\n",
    "    - 2가지 사례를 통해 강의에서 배운 확률 및 통계 개념을 이해하고 의미를 해석해봅니다.\n",
    "\n",
    "## 프로젝트 구성\n",
    "    - STEP 1 : 범주형자료를 통해 공분산과 피어슨 상관계수를 확인하고, 두 변수의 상관계수를 알아봅니다.\n",
    "    - STEP 2 : 통계 가설을 세우고 정규분포의 유의수준을 확인해봅니다.\n",
    "\n",
    "- 작성자: 이정훈 감수자\n",
    "\n",
    "---"
   ]
  },
  {
   "cell_type": "markdown",
   "metadata": {
    "colab_type": "text",
    "id": "m0cNS9Vl82iW"
   },
   "source": [
    "# STEP1. 범주형자료, 공분산, 상관계수\n",
    "\n",
    " \n",
    " 유기질 비료 연구단체는 해마다 비료 투입량 당 생산량을 조사하고 있다. 지난 10년간 조사한 10아르(약 300평)당 유기질비료 투입량(Input)과 벼 생산량(Output) 데이터는 아래와 같다."
   ]
  },
  {
   "cell_type": "markdown",
   "metadata": {
    "colab_type": "text",
    "id": "7BgZ635i82id"
   },
   "source": [
    "확인한 데이터를 산점도로 시각화해볼 수 있다."
   ]
  },
  {
   "cell_type": "code",
   "execution_count": 1,
   "metadata": {},
   "outputs": [
    {
     "data": {
      "text/html": [
       "<div>\n",
       "<style scoped>\n",
       "    .dataframe tbody tr th:only-of-type {\n",
       "        vertical-align: middle;\n",
       "    }\n",
       "\n",
       "    .dataframe tbody tr th {\n",
       "        vertical-align: top;\n",
       "    }\n",
       "\n",
       "    .dataframe thead th {\n",
       "        text-align: right;\n",
       "    }\n",
       "</style>\n",
       "<table border=\"1\" class=\"dataframe\">\n",
       "  <thead>\n",
       "    <tr style=\"text-align: right;\">\n",
       "      <th></th>\n",
       "      <th>2010</th>\n",
       "      <th>2011</th>\n",
       "      <th>2012</th>\n",
       "      <th>2013</th>\n",
       "      <th>2014</th>\n",
       "      <th>2015</th>\n",
       "      <th>2016</th>\n",
       "      <th>2017</th>\n",
       "      <th>2018</th>\n",
       "      <th>2019</th>\n",
       "    </tr>\n",
       "  </thead>\n",
       "  <tbody>\n",
       "    <tr>\n",
       "      <td>Input</td>\n",
       "      <td>681</td>\n",
       "      <td>685</td>\n",
       "      <td>647</td>\n",
       "      <td>722</td>\n",
       "      <td>742</td>\n",
       "      <td>671</td>\n",
       "      <td>689</td>\n",
       "      <td>657</td>\n",
       "      <td>706</td>\n",
       "      <td>722</td>\n",
       "    </tr>\n",
       "    <tr>\n",
       "      <td>Output</td>\n",
       "      <td>193</td>\n",
       "      <td>184</td>\n",
       "      <td>168</td>\n",
       "      <td>245</td>\n",
       "      <td>250</td>\n",
       "      <td>182</td>\n",
       "      <td>201</td>\n",
       "      <td>178</td>\n",
       "      <td>213</td>\n",
       "      <td>234</td>\n",
       "    </tr>\n",
       "  </tbody>\n",
       "</table>\n",
       "</div>"
      ],
      "text/plain": [
       "        2010  2011  2012  2013  2014  2015  2016  2017  2018  2019\n",
       "Input    681   685   647   722   742   671   689   657   706   722\n",
       "Output   193   184   168   245   250   182   201   178   213   234"
      ]
     },
     "execution_count": 1,
     "metadata": {},
     "output_type": "execute_result"
    }
   ],
   "source": [
    "import pandas as pd\n",
    "\n",
    "years = [2010, 2011, 2012, 2013, 2014, 2015, 2016, 2017, 2018, 2019]  # 1~10년\n",
    "\n",
    "Input = [681, 685, 647, 722, 742, 671, 689, 657, 706, 722] # 10년간 유기질 비료 투입량\n",
    "Output = [193, 184, 168, 245, 250, 182, 201, 178, 213, 234] # 10년간 벼 생산\n",
    "\n",
    "ind = ['Input', 'Output'] # 인덱스 명\n",
    "data = [Input, Output] # 데이터\n",
    "pd.DataFrame(data, columns=years, index=ind)"
   ]
  },
  {
   "cell_type": "code",
   "execution_count": 2,
   "metadata": {
    "colab": {
     "base_uri": "https://localhost:8080/",
     "height": 265
    },
    "colab_type": "code",
    "id": "TtM8TfbR82ie",
    "outputId": "dc4009e1-406f-4d94-b5dd-b49f4e0c1cda"
   },
   "outputs": [
    {
     "data": {
      "image/png": "[encoded data removed]",
      "text/plain": [
       "<Figure size 432x288 with 1 Axes>"
      ]
     },
     "metadata": {
      "needs_background": "light"
     },
     "output_type": "display_data"
    }
   ],
   "source": [
    "import matplotlib.pyplot as plt\n",
    "%matplotlib inline\n",
    "\n",
    "plt.scatter(Input, Output)\n",
    "plt.show()"
   ]
  },
  {
   "cell_type": "markdown",
   "metadata": {
    "colab_type": "text",
    "id": "SIRpaf_c82ii"
   },
   "source": [
    "### STEP1 - Q1. 모집단에서의 공분산의 정의와 표본에서의 공분산의 정의를 서술하시오."
   ]
  },
  {
   "cell_type": "markdown",
   "metadata": {
    "colab_type": "text",
    "id": "jKFLTKli82ij"
   },
   "source": [
    "#### Answer) 모집단에서의 공분산의 정의는?\n",
    "- 두 변수 x, y 에서 각각의 평균 $\\mu_x, \\mu_y$ 를 뺀 곱 $(x_{i} - \\mu_x)(y_{i} - \\mu_y)$ 의 전체 합에서 모집단 개체의 수 N 으로 나눈 값\n",
    "---\n",
    "$$모공분산 = {\\sum_{i=1}^N (x_{i} - \\mu_x)(y_{i} - \\mu_y) \\over N}$$"
   ]
  },
  {
   "cell_type": "markdown",
   "metadata": {
    "colab_type": "text",
    "id": "gvDvaNBFwL4h"
   },
   "source": [
    "#### Answer) 표본에서의 공분산의 정의는?\n",
    "- 두 변수 x, y 에서 각각의 표본평균 $\\bar{X}, \\bar{Y}$ 를 뺀 곱 $(x_{i} - \\bar{X})(y_{i} - \\bar{Y})$ 의 전체 합에서 표본 관측치의 개수 n-1 으로 나눈 값\n",
    "---\n",
    "$$표본공분산 = {\\sum_{i=1}^n (x_{i} - \\bar{X})(y_{i} - \\bar{Y}) \\over n-1}$$"
   ]
  },
  {
   "cell_type": "markdown",
   "metadata": {},
   "source": [
    "### [리뷰어 답변]\n",
    "#### 피드백\n",
    "- 공분산의 정의는 아래와 같습니다 $$E((X-E(X))(Y-E(Y))$$\n",
    "- 자료가 모두 주어져 있다면 말씀하신대로 계산 가능합니다.\n",
    "- 표본 공분산의 경우 잘 서술하셨습니다."
   ]
  },
  {
   "cell_type": "markdown",
   "metadata": {
    "colab_type": "text",
    "id": "SBW-0o4o82ij"
   },
   "source": [
    "### STEP1 - Q2. 공분산의 의미를 약술하시오."
   ]
  },
  {
   "cell_type": "markdown",
   "metadata": {
    "colab_type": "text",
    "id": "-M6LGwTW82ik"
   },
   "source": [
    "#### Answer) 공분산의 의미는?\n",
    "- 두 개의 확률 변수의 선형적인 관계가 어떤한가를 나타낸 척도 이다.\n",
    "- 공분산이 양의 값이라는 의미는 두 변수 X 와 Y가 각각의 중심점에서 같은 방향으로 멀어졌다는 것을 의미\n",
    "- 반대로 공분산이 음의 값이라는 의미는 X 와 Y가 각각의 중심점으로 반대 방향으로 멀어졌다는 것을 의미\n",
    "- X, Y 가 독립이면 Cov(X, Y) = 0 이다."
   ]
  },
  {
   "cell_type": "markdown",
   "metadata": {},
   "source": [
    "### [리뷰어 답변]\n",
    "#### 피드백\n",
    "- 매우 잘 서술해주셨습니다. 풀어쓰면 아래와 같습니다.\n",
    "- 공분산 식의 구조 상 X가 X의 평균보다 커질때, Y가 Y의 평균보다 커지는 경향성이 생기면 양의 값, Y의 평균보다 작아지는 경향성이 생기면 음의값을 가지게 됩니다. 그리고 해당 커지는 정도가 클수록 공분산의 절대값은 커지게 됩니다. 다시말해 두자료의 평균을 중심으로 서로 같은 방향으로 움직이면 양의값, 서로 반대방향으로 움직이면 음의 값을 가지며 그 커지는 정도에 따라 크기를 가지는 값이라고 설명해주시면 됩니다.\n",
    "- X, Y의 평균이 각각 0이라고 했을 때는 원점을 기준으로 4등분을 하여서 1사분면과 3사분면에 자료가 위치하면 양의 선형관계를 2사분면과 4사분면에 자료가 위치하면 음의 선형관계를 갖는다고 설명할 수도 있습니다.\n"
   ]
  },
  {
   "cell_type": "markdown",
   "metadata": {
    "colab_type": "text",
    "id": "KOCat_PE82ik"
   },
   "source": [
    "### STEP1 - Q3. 두 변수(Input, Output)에 대한 공분산을 구하고 그것을 통하여 산점도에서 생산량과 비료투입량 관계를 서술하시오."
   ]
  },
  {
   "cell_type": "markdown",
   "metadata": {
    "colab_type": "text",
    "id": "WHg2iUz582il"
   },
   "source": [
    "#### Answer) 두 변수의 공분산은? (단답식x, 서술하시오)\n",
    "- 투입량(Input) 을 X, 생산량(Output) 을 Y 라고 하면\n",
    "- 아래 계산으로부터 각각의 평균 $\\mu_x = 692.2$, $\\mu_y = 204.8$ 로 구해지며\n",
    "- $(X - \\mu_x)(Y - \\mu_y)$ 의 전체 합에서 N=10 으로 나누면\n",
    "- 아래 와 같이 공분산은 781.64 로 구해진다.\n",
    "\n"
   ]
  },
  {
   "cell_type": "code",
   "execution_count": 3,
   "metadata": {},
   "outputs": [
    {
     "name": "stdout",
     "output_type": "stream",
     "text": [
      "μx = 692.2, μy = 204.8\n",
      "공분산 = 781.64\n"
     ]
    }
   ],
   "source": [
    "import numpy as np\n",
    "\n",
    "X = Input\n",
    "Y = Output\n",
    "N = len(years)\n",
    "\n",
    "# 평균\n",
    "x_mean = np.mean(Input)\n",
    "y_mean = np.mean(Output)\n",
    "print(f'μx = {x_mean}, μy = {y_mean}')\n",
    "\n",
    "# 공분산\n",
    "cov = sum( (X-x_mean) * (Y-y_mean) ) / N\n",
    "# cov = sum( (X-x_mean) * (Y-y_mean) ) / (N-1)\n",
    "print(f'공분산 = {cov}')"
   ]
  },
  {
   "cell_type": "markdown",
   "metadata": {
    "colab_type": "text",
    "id": "l0EupbMOwj93"
   },
   "source": [
    "#### Answer) 생산량-비료투입량의 관계\n",
    "- 공분산의 부호를 통하여 두 변수의 선형관계를 대략적으로 추측할 수 있다\n",
    "- 공분산이 양의 값이므로 비료투입량이 많아 질 수록 생산량도 늘어 난다고 볼 수 있다.\n",
    "- 단 공분산은 두 변수의 측정 단위에 따라 크기가 달라지므로 공분산의 크기 자체로 두 확률변수의 선형관계를 판단하는 것은 부적절하다. \n",
    "- 선형관계를 판단하는 수치로는 공분산을 표준화한 상관계수를 사용 할 수 있다."
   ]
  },
  {
   "cell_type": "markdown",
   "metadata": {},
   "source": [
    "### [리뷰어 답변]\n",
    "#### 피드백\n",
    "- 말씀하신대로 공분산의 크기의 경우 비교할 대상이 없다면 크다 작다를 판단할 수는 없습니다. 이를 보완하기 위한 것이 후에 서술할 상관계수 값입니다.\n",
    "- 양의 상관관계임을 이야기할 수 있고 비료투입량이 커짐에따라 생산량도 높아진다고 할 수 있습니다.\n"
   ]
  },
  {
   "cell_type": "markdown",
   "metadata": {
    "colab_type": "text",
    "id": "ezeud0oD82il"
   },
   "source": [
    "### STEP1 - Q4. 두 변수(Input, Output)에 대한 피어슨 상관계수를 구하시오."
   ]
  },
  {
   "cell_type": "markdown",
   "metadata": {
    "colab_type": "text",
    "id": "QQEAEfxZ82im"
   },
   "source": [
    "#### Answer) 피어슨 상관계수를 구하시오.\n",
    "- 상관계수는 공분산을 단위화한 값\n",
    "- 위에 주어진 공분산을 $\\sqrt{Var(X)Var(Y)}$ 나누어 구할 수 있으며\n",
    "- 아래 계산으로 부터 Var(X)=836.56, Var(Y)=775.76\n",
    "- 아래와 같이 상관계수는 0.970274 로 구해진다."
   ]
  },
  {
   "cell_type": "code",
   "execution_count": 4,
   "metadata": {},
   "outputs": [
    {
     "name": "stdout",
     "output_type": "stream",
     "text": [
      "Var(X) = 836.5600000000001, Var(Y) = 775.76\n",
      "상관계수 = 0.9702743201852994\n"
     ]
    }
   ],
   "source": [
    "import math\n",
    "\n",
    "# 분산\n",
    "x_var = sum([(X-x_mean)**2 for X in X]) / N\n",
    "y_var = sum([(Y-y_mean)**2 for Y in Y]) / N\n",
    "print(f'Var(X) = {x_var}, Var(Y) = {y_var}')\n",
    "\n",
    "# 상관계수\n",
    "corr = cov / math.sqrt(x_var*y_var)\n",
    "print(f'상관계수 = {corr}')"
   ]
  },
  {
   "cell_type": "markdown",
   "metadata": {},
   "source": [
    "### [리뷰어 답변]\n",
    "#### 피드백\n",
    "- 잘 계산하셨습니다.\n"
   ]
  },
  {
   "cell_type": "markdown",
   "metadata": {
    "colab_type": "text",
    "id": "2lhSytQK82im"
   },
   "source": [
    "# STEP2. 가설검정, P-value\n",
    "\n",
    "\n",
    "## 가설을 세우고 유의수준을 통해서 검정을 해볼수 있다.\n",
    "\n",
    "\n",
    "### 한 제약회사에서 생산하고 있는 기존의 진통제는 진통 효과가 나타나는 시간이 평균 30분, 표준편차가 5분인 것으로 알려져 있다. 새로운 진통제를 개발한 연구원들은 새로운 진통제의 효과가 더 빨리 나타난다고 주장한다. 회사의 경영진은 이를 확인하기 위하여 50명의 환자를 임의추출하여 새로운 진통제를 복용시킨 후, 진통 효과가 나타나는 시간의 평균 $\\overline{X}$를 조사하기로 하였다. \n",
    "\n",
    "### STEP2 - Q1. 위 조사를 위하여 귀무가설과 대립가설을 세우시오.\n"
   ]
  },
  {
   "cell_type": "markdown",
   "metadata": {
    "colab_type": "text",
    "id": "OYAxj0Pp82im"
   },
   "source": [
    "#### Answer) 귀무가설\n",
    "- 새로운 진통제의 효과는 평균 30분 이상이다.\n",
    "- H0 : 𝜇 >= 30"
   ]
  },
  {
   "cell_type": "markdown",
   "metadata": {
    "colab_type": "text",
    "id": "YWBjIiJUxHza"
   },
   "source": [
    "#### Answer) 대립가설\n",
    "- 새로운 진통제의 효과는 평균 30분 미만이다.\n",
    "- H1 : 𝜇 < 30"
   ]
  },
  {
   "cell_type": "markdown",
   "metadata": {},
   "source": [
    "### [리뷰어 답변]\n",
    "#### 피드백\n",
    "- 아주 잘 서술하셨습니다.\n"
   ]
  },
  {
   "cell_type": "markdown",
   "metadata": {
    "colab_type": "text",
    "id": "qPe0fyyz82in"
   },
   "source": [
    "### STEP2 - Q2. 유의수준에 대하여 간단히 약술하시오.\n"
   ]
  },
  {
   "cell_type": "markdown",
   "metadata": {
    "colab_type": "text",
    "id": "taQwV1Id82in"
   },
   "source": [
    "#### Answer) 유의수준이란?\n",
    "- 귀무가설이 실제로 참일 때 귀무가설을 잘못 기각할 확률을 제1종 오류라고 하며 제1종 오류의 위험성을 부담할 최대 확률을 유의수준 이라고 함.\n",
    "- 보통 α로 나타내며 유의수준 0.05에서 기각되었다라고 말하는데, 이것은 곧 우리가 잘못된 의사결정을 내릴 확률이 0.05라는 것을 의미"
   ]
  },
  {
   "cell_type": "markdown",
   "metadata": {},
   "source": [
    "### [리뷰어 답변]\n",
    "#### 피드백\n",
    "- 제1종 오류를 범할 확률의 최대 허용한계를 유의수준이라 하고, 기호$\\alpha$로 나타냅니다.\n"
   ]
  },
  {
   "cell_type": "markdown",
   "metadata": {
    "colab_type": "text",
    "id": "b0sAUOm782io"
   },
   "source": [
    "### STEP2 - Q3. 새로운 진통제의 효과가 나타나는 시간은 표준편차가 5분인 정규분포를 따른다고 할 때, 기각역이 $X \\leq 28.5 $ 인 검정법이 유의수준 5%인 검정임을 확인하여라."
   ]
  },
  {
   "cell_type": "markdown",
   "metadata": {
    "colab_type": "text",
    "id": "YeRUIXuf82io"
   },
   "source": [
    "#### Answer) 단답x, 서술하시오.\n",
    "- H0 : 𝜇 >= 30, H1 : 𝜇 < 30, 𝜎 = 5, n = 50 이며\n",
    "- 표준편차를 알고 있는 경우 정규분포적용 $$Z = {\\bar{X} - \\mu_0\\over{\\sigma / \\sqrt{n}}}$$\n",
    "- 유의수준 5% : $Z_{0.05} = 1.645$\n",
    "- $$Z = {\\bar{X} - \\mu_0\\over{\\sigma / \\sqrt{n}}} \\le -Z_{0.05}$$\n",
    "- 따라서 $$\\bar{X} \\le \\mu_0 {-Z_{0.05}{\\sigma \\over \\sqrt{n}}}$$\n",
    "- ${\\sigma \\over \\sqrt{n}} = {5 \\over \\sqrt{50}} = 0.707$\n",
    "- $-Z_{0.05} \\times 0.707 = -1.163$\n",
    "- $$\\bar{X} \\le 30 − 1.163 = 28.837$$"
   ]
  },
  {
   "cell_type": "markdown",
   "metadata": {
    "colab": {},
    "colab_type": "code",
    "id": "tAyZyESwm6Qu"
   },
   "source": [
    "### [리뷰어 답변]\n",
    "#### 피드백\n",
    "- 아주 정확히 잘 서술하셨고 유의수준 5%인 검정을 찾아주셨습니다.\n",
    "- 또한, 표본 평균이 28.5 이하인 경우에는 유의수준 5% 하에서 귀무가설을 기각합니다.\n"
   ]
  },
  {
   "cell_type": "code",
   "execution_count": 1,
   "metadata": {
    "colab": {},
    "colab_type": "code",
    "id": "f-CFbpJx82is"
   },
   "outputs": [
    {
     "data": {
      "text/plain": [
       "0.016947426762344623"
      ]
     },
     "execution_count": 1,
     "metadata": {},
     "output_type": "execute_result"
    }
   ],
   "source": [
    "Z=(28.5-30)/(5/(50**0.5))\n",
    "from scipy.stats import norm\n",
    "norm.cdf(Z)"
   ]
  }
 ],
 "metadata": {
  "colab": {
   "collapsed_sections": [],
   "name": "(수정본)Part1_미니프로젝트1(문제).ipynb",
   "provenance": []
  },
  "kernelspec": {
   "display_name": "Python 3 (ipykernel)",
   "language": "python",
   "name": "python3"
  },
  "language_info": {
   "codemirror_mode": {
    "name": "ipython",
    "version": 3
   },
   "file_extension": ".py",
   "mimetype": "text/x-python",
   "name": "python",
   "nbconvert_exporter": "python",
   "pygments_lexer": "ipython3",
   "version": "3.9.7"
  }
 },
 "nbformat": 4,
 "nbformat_minor": 1
}

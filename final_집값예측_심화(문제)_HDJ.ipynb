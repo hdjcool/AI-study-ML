{
 "cells": [
  {
   "cell_type": "markdown",
   "metadata": {
    "colab_type": "text",
    "id": "ZedTb3jFtFet"
   },
   "source": [
    "# 프로젝트 명: 집값예측-심화 (House Prices: Advanced Regression Techniques)\n",
    "\n",
    "본 프로젝트는 주어진 집(house) 관련 데이터를 토대로 집 값을 예측하는 회귀(Regression) 분석 및 예측 대회입니다."
   ]
  },
  {
   "cell_type": "markdown",
   "metadata": {
    "colab_type": "text",
    "id": "uTyfx5sNtFeu"
   },
   "source": [
    "## 데이터 출처: [House Prices: Advanced Regression Techniques](https://www.kaggle.com/c/house-prices-advanced-regression-techniques/data)\n",
    "\n",
    "## 프로젝트 개요\n",
    "\n",
    "**[원문]**\n",
    "\n",
    "Ask a home buyer to describe their dream house, and they probably won't begin with the height of the basement ceiling or the proximity to an east-west railroad. But this playground competition's dataset proves that much more influences price negotiations than the number of bedrooms or a white-picket fence.\n",
    "\n",
    "With 79 explanatory variables describing (almost) every aspect of residential homes in Ames, Iowa, this competition challenges you to predict the final price of each home.\n",
    "\n",
    "**[번역]**\n",
    "\n",
    "집 구매자에게 꿈의 집을 묘사해달라고 물어본다면, 그들은 지하실 천장 높이나 '동서(east-west) 철도와의 근접성'이라고 대답하지는 않을 것입니다. 그런데 본 데이터 세트는 앞서 얘기한 요소들이 침실 수 또는 하얀 울타리보다 가격 협상에 훨씬 더 많은 영향을 준다는 것을 알 수 있게됩니다.\n",
    "\n",
    "본 프로젝트는 **79개의 다양한 집을 묘사할 수 있는 데이터 요소들을 기반으로, 각각의 집들에 대하여 최종 집값을 예측**해 주길 기대합니다.\n",
    "\n",
    "지금 까지 배운 모든 내용을 집대성하여, **집 값 예측에 도전**합니다.\n",
    "\n",
    "## 프로젝트 목표\n",
    "    1. '섬세한' 데이터 전처리와 창의적인 feature engineering\n",
    "    2. 데이터 시각화를 통한 데이터 특성을 파악합니다.\n",
    "    3. `pandas`, `numpy`, `scikit-learn` 패키지를 활용하여 데이터 병합, 전처리, 피처 공학(feature engineering)을 진행합니다.\n",
    "    4. 회귀문제를 다루는 고급 머신러닝 기법을 활용하여 주택 가격 예측을 진행합니다.\n",
    "    4. 회귀 모델과 다양한 모델들 간의 앙상블 학습을 통해 모델의 성능을 끌어올립니다.\n",
    "\n",
    "## 프로젝트 구성\n",
    "    * 데이터 로드 (load data)\n",
    "    * 데이터 시각화 (visualization)\n",
    "    * 데이터 전처리 (pre-processing)\n",
    "    * 머신러닝을 활용하여 baseline 모델링 (modeling for baseline)\n",
    "    * 평가지표 생성 (evalutation)\n",
    "    * 모델 앙상블, 데이터 전처리 개선으로 모델의 성능을 업그레이드 하여, 목표 점수에 도달\n",
    "\n",
    "## 팁\n",
    "\n",
    "다음의 기술 및 분석 능력을 통해 보다 **정확한 예측 성능(performance)**을 기대할 수 있습니다.\n",
    "\n",
    "    * 데이터 전처리 (preprocessing)를 통하여, 결측치(NaN), 극단치(outlier) 처리\n",
    "    * 데이터 시각화 (EDA - Exploratory Data Analysis, 탐색적 데이터 분석)\n",
    "    * 데이터에는 결측치도 굉장히 많이 존재하고, 이상치(outlier)도 존재합니다. 실전 데이터를 통해 이를 잘 처리해 주어야먄 좋은 점수를 기대할 수 있습니다.\n",
    "    * 다양한 모델들의 앙상블을 통해 획기적인 점수 개선을 눈으로 직접 확인할 수 있습니다. 좋은 모델을 선정하고, baggine, boosting, stacking 등의 앙상블 기법을 통해 점수 개선을 기대해 봅니다.\n",
    "\n",
    "- 작성자: 이경록 감수자\n",
    "\n",
    "---"
   ]
  },
  {
   "cell_type": "markdown",
   "metadata": {
    "colab_type": "text",
    "id": "SxetG8bntFev"
   },
   "source": [
    "## 데이터"
   ]
  },
  {
   "cell_type": "markdown",
   "metadata": {
    "colab_type": "text",
    "id": "FAnWtOdVtFev"
   },
   "source": [
    "아래 링크를 통해 데이터를 다운로드 받을 수 있습니다."
   ]
  },
  {
   "cell_type": "markdown",
   "metadata": {
    "colab_type": "text",
    "id": "uBf3td6otFew"
   },
   "source": [
    "* [train.csv](https://bit.ly/fc-ml-byte-final-train)\n",
    "* [test.csv](https://bit.ly/fc-ml-byte-final-test)\n",
    "* [submission.csv](https://bit.ly/fc-ml-byte-submission)"
   ]
  },
  {
   "cell_type": "markdown",
   "metadata": {
    "colab_type": "text",
    "id": "C8BedfGRtFew"
   },
   "source": [
    "데이터 column에 대한 설명입니다."
   ]
  },
  {
   "cell_type": "markdown",
   "metadata": {
    "colab_type": "text",
    "id": "7fxjG8N8tFex"
   },
   "source": [
    "* SalePrice - 집 값 (우리가 예측 해야할 가격)\n",
    "* MSSubClass: The building class\n",
    "* MSZoning: The general zoning classification\n",
    "* LotFrontage: Linear feet of street connected to property\n",
    "* LotArea: Lot size in square feet\n",
    "* Street: Type of road access\n",
    "* Alley: Type of alley access\n",
    "* LotShape: General shape of property\n",
    "* LandContour: Flatness of the property\n",
    "* Utilities: Type of utilities available\n",
    "* LotConfig: Lot configuration\n",
    "* LandSlope: Slope of property\n",
    "* Neighborhood: Physical locations within Ames city limits\n",
    "* Condition1: Proximity to main road or railroad\n",
    "* Condition2: Proximity to main road or railroad (if a second is present)\n",
    "* BldgType: Type of dwelling\n",
    "* HouseStyle: Style of dwelling\n",
    "* OverallQual: Overall material and finish quality\n",
    "* OverallCond: Overall condition rating\n",
    "* YearBuilt: Original construction date\n",
    "* YearRemodAdd: Remodel date\n",
    "* RoofStyle: Type of roof\n",
    "* RoofMatl: Roof material\n",
    "* Exterior1st: Exterior covering on house\n",
    "* Exterior2nd: Exterior covering on house (if more than one material)\n",
    "* MasVnrType: Masonry veneer type\n",
    "* MasVnrArea: Masonry veneer area in square feet\n",
    "* ExterQual: Exterior material quality\n",
    "* ExterCond: Present condition of the material on the exterior\n",
    "* Foundation: Type of foundation\n",
    "* BsmtQual: Height of the basement\n",
    "* BsmtCond: General condition of the basement\n",
    "* BsmtExposure: Walkout or garden level basement walls\n",
    "* BsmtFinType1: Quality of basement finished area\n",
    "* BsmtFinSF1: Type 1 finished square feet\n",
    "* BsmtFinType2: Quality of second finished area (if present)\n",
    "* BsmtFinSF2: Type 2 finished square feet\n",
    "* BsmtUnfSF: Unfinished square feet of basement area\n",
    "* TotalBsmtSF: Total square feet of basement area\n",
    "* Heating: Type of heating\n",
    "* HeatingQC: Heating quality and condition\n",
    "* CentralAir: Central air conditioning\n",
    "* Electrical: Electrical system\n",
    "* 1stFlrSF: First Floor square feet\n",
    "* 2ndFlrSF: Second floor square feet\n",
    "* LowQualFinSF: Low quality finished square feet (all floors)\n",
    "* GrLivArea: Above grade (ground) living area square feet\n",
    "* BsmtFullBath: Basement full bathrooms\n",
    "* BsmtHalfBath: Basement half bathrooms\n",
    "* FullBath: Full bathrooms above grade\n",
    "* HalfBath: Half baths above grade\n",
    "* Bedroom: Number of bedrooms above basement level\n",
    "* Kitchen: Number of kitchens\n",
    "* KitchenQual: Kitchen quality\n",
    "* TotRmsAbvGrd: Total rooms above grade (does not include bathrooms)\n",
    "* Functional: Home functionality rating\n",
    "* Fireplaces: Number of fireplaces\n",
    "* FireplaceQu: Fireplace quality\n",
    "* GarageType: Garage location\n",
    "* GarageYrBlt: Year garage was built\n",
    "* GarageFinish: Interior finish of the garage\n",
    "* GarageCars: Size of garage in car capacity\n",
    "* GarageArea: Size of garage in square feet\n",
    "* GarageQual: Garage quality\n",
    "* GarageCond: Garage condition\n",
    "* PavedDrive: Paved driveway\n",
    "* WoodDeckSF: Wood deck area in square feet\n",
    "* OpenPorchSF: Open porch area in square feet\n",
    "* EnclosedPorch: Enclosed porch area in square feet\n",
    "* 3SsnPorch: Three season porch area in square feet\n",
    "* ScreenPorch: Screen porch area in square feet\n",
    "* PoolArea: Pool area in square feet\n",
    "* PoolQC: Pool quality\n",
    "* Fence: Fence quality\n",
    "* MiscFeature: Miscellaneous feature not covered in other categories\n",
    "* MiscVal: $Value of miscellaneous feature\n",
    "* MoSold: Month Sold\n",
    "* YrSold: Year Sold\n",
    "* SaleType: Type of sale\n",
    "* SaleCondition: Condition of sale"
   ]
  },
  {
   "cell_type": "markdown",
   "metadata": {
    "colab_type": "text",
    "id": "y0a_rDYntFex"
   },
   "source": [
    "## 필요한 라이브러리와 데이터를 import 합니다."
   ]
  },
  {
   "cell_type": "code",
   "execution_count": 2,
   "metadata": {
    "ExecuteTime": {
     "end_time": "2020-12-17T11:33:12.750703Z",
     "start_time": "2020-12-17T11:33:12.742702Z"
    },
    "colab": {},
    "colab_type": "code",
    "id": "4o4eFzuftFex"
   },
   "outputs": [],
   "source": [
    "import pandas as pd\n",
    "import numpy as np\n",
    "import matplotlib.pyplot as plt\n",
    "import warnings\n",
    "import seaborn as sns\n",
    "import os\n",
    "\n",
    "warnings.filterwarnings('ignore')\n",
    "%matplotlib inline"
   ]
  },
  {
   "cell_type": "markdown",
   "metadata": {
    "colab_type": "text",
    "id": "geLNC5dDtFe0"
   },
   "source": [
    "데이터를 불러옵니다.\n",
    "\n",
    "* train: 학습에 필요한 데이터\n",
    "* test: 예측을 위한 데이터"
   ]
  },
  {
   "cell_type": "code",
   "execution_count": 3,
   "metadata": {
    "ExecuteTime": {
     "end_time": "2020-12-17T11:33:18.410327Z",
     "start_time": "2020-12-17T11:33:13.060979Z"
    },
    "colab": {},
    "colab_type": "code",
    "id": "8gw83rv7tFe0"
   },
   "outputs": [],
   "source": [
    "train = pd.read_csv('https://bit.ly/fc-ml-byte-final-train')\n",
    "test = pd.read_csv('https://bit.ly/fc-ml-byte-final-test')"
   ]
  },
  {
   "cell_type": "code",
   "execution_count": 4,
   "metadata": {
    "ExecuteTime": {
     "end_time": "2020-12-17T11:33:18.470421Z",
     "start_time": "2020-12-17T11:33:18.456340Z"
    },
    "colab": {},
    "colab_type": "code",
    "id": "zm-ahsy2tFe2",
    "outputId": "649d94b9-327c-4f62-dbea-efc56b84e436"
   },
   "outputs": [
    {
     "data": {
      "text/plain": [
       "((1460, 81), (1459, 80))"
      ]
     },
     "execution_count": 4,
     "metadata": {},
     "output_type": "execute_result"
    }
   ],
   "source": [
    "train.shape, test.shape"
   ]
  },
  {
   "cell_type": "markdown",
   "metadata": {
    "colab_type": "text",
    "id": "DaEq6fDLtFe5"
   },
   "source": [
    "**tip**\n",
    "shape를 보니, train 데이터와 test 데이터의 행의 갯수가 거의 동일합니다.\n",
    "\n",
    "1. train set가 많을 때는 어느 정도 학습을 충분히 시켜줘야합니다.\n",
    "2. 하지만, 이렇게 데이터 행의 갯수가 비슷할 때는 과적합이 되지 않도록, 유의해야합니다."
   ]
  },
  {
   "cell_type": "markdown",
   "metadata": {
    "colab_type": "text",
    "id": "BVwWW4DitFe5"
   },
   "source": [
    "## 예측 값 - SalePrice"
   ]
  },
  {
   "cell_type": "markdown",
   "metadata": {
    "colab_type": "text",
    "id": "dGifjBmztFe6"
   },
   "source": [
    "우리가 예측해야할 label: **SalePrice** 입니다.\n",
    "\n",
    "SalePrice는 주택 가격을 의미합니다. "
   ]
  },
  {
   "cell_type": "code",
   "execution_count": 5,
   "metadata": {
    "ExecuteTime": {
     "end_time": "2020-12-17T12:11:51.136111Z",
     "start_time": "2020-12-17T12:11:51.128110Z"
    },
    "colab": {},
    "colab_type": "code",
    "id": "vYin0o4DtFe6",
    "outputId": "ee61d2b2-2b86-4177-eb0a-2195bf4776ca"
   },
   "outputs": [
    {
     "data": {
      "text/plain": [
       "0    208500\n",
       "1    181500\n",
       "2    223500\n",
       "3    140000\n",
       "4    250000\n",
       "Name: SalePrice, dtype: int64"
      ]
     },
     "execution_count": 5,
     "metadata": {},
     "output_type": "execute_result"
    }
   ],
   "source": [
    "train['SalePrice'].head()"
   ]
  },
  {
   "cell_type": "markdown",
   "metadata": {
    "colab_type": "text",
    "id": "-cvbF5GNtFe8"
   },
   "source": [
    "### 예측 값 (SalePrice) 에 대한 탐색적 데이터 분석"
   ]
  },
  {
   "cell_type": "markdown",
   "metadata": {
    "colab_type": "text",
    "id": "_O-a-XPjtFe8"
   },
   "source": [
    "train 데이터 셋에만 `SalePrice`가 존재 합니다.\n",
    "\n",
    "예측 값에 대한 간단한 통계 지표를 확인해 보겠습니다."
   ]
  },
  {
   "cell_type": "code",
   "execution_count": 6,
   "metadata": {
    "ExecuteTime": {
     "end_time": "2020-12-17T12:11:51.892014Z",
     "start_time": "2020-12-17T12:11:51.880012Z"
    },
    "colab": {},
    "colab_type": "code",
    "id": "Hnumk5-DtFe9",
    "outputId": "8ec0245e-78ba-4343-a506-1c444f900677"
   },
   "outputs": [
    {
     "data": {
      "text/plain": [
       "count      1460.000000\n",
       "mean     180921.195890\n",
       "std       79442.502883\n",
       "min       34900.000000\n",
       "25%      129975.000000\n",
       "50%      163000.000000\n",
       "75%      214000.000000\n",
       "max      755000.000000\n",
       "Name: SalePrice, dtype: float64"
      ]
     },
     "execution_count": 6,
     "metadata": {},
     "output_type": "execute_result"
    }
   ],
   "source": [
    "train['SalePrice'].describe()"
   ]
  },
  {
   "cell_type": "markdown",
   "metadata": {
    "colab_type": "text",
    "id": "A6gV-MLftFe_"
   },
   "source": [
    "### Q1. distplot으로 우리가 예측할 `SalePrice` column에 대한 가격 분포를 확인해 주세요"
   ]
  },
  {
   "cell_type": "code",
   "execution_count": 7,
   "metadata": {
    "ExecuteTime": {
     "end_time": "2020-12-17T12:11:52.913152Z",
     "start_time": "2020-12-17T12:11:52.704077Z"
    },
    "colab": {},
    "colab_type": "code",
    "id": "zEyxMrOEtFe_"
   },
   "outputs": [
    {
     "data": {
      "image/png": "[encoded data removed]",
      "text/plain": [
       "<Figure size 432x288 with 1 Axes>"
      ]
     },
     "metadata": {
      "needs_background": "light"
     },
     "output_type": "display_data"
    }
   ],
   "source": [
    "# 코드를 입력하세요\n",
    "sns.distplot(train['SalePrice']);"
   ]
  },
  {
   "cell_type": "markdown",
   "metadata": {},
   "source": [
    "## label 생성"
   ]
  },
  {
   "cell_type": "code",
   "execution_count": 8,
   "metadata": {
    "ExecuteTime": {
     "end_time": "2020-12-17T12:11:57.699080Z",
     "start_time": "2020-12-17T12:11:57.696078Z"
    }
   },
   "outputs": [],
   "source": [
    "label = train['SalePrice']"
   ]
  },
  {
   "cell_type": "code",
   "execution_count": 9,
   "metadata": {
    "ExecuteTime": {
     "end_time": "2020-12-17T12:11:57.834114Z",
     "start_time": "2020-12-17T12:11:57.825112Z"
    }
   },
   "outputs": [],
   "source": [
    "train = train.drop('SalePrice', 1)"
   ]
  },
  {
   "cell_type": "markdown",
   "metadata": {
    "colab_type": "text",
    "id": "vIK7YzortFfI"
   },
   "source": [
    "## 전처리: 데이터 합치기"
   ]
  },
  {
   "cell_type": "markdown",
   "metadata": {
    "colab_type": "text",
    "id": "n4tLD3U-tFfI"
   },
   "source": [
    "보다 효율적인 데이터 전처리를 위해서 `train` 데이터프레임과 `test` 데이터프레임을 모두 합쳐서 한꺼번에 전처리 해주는 것을 추천드립니다."
   ]
  },
  {
   "cell_type": "markdown",
   "metadata": {
    "colab_type": "text",
    "id": "AiUVWrYXtFfI"
   },
   "source": [
    "### Q2. all_data 변수를 만들고 train + test 데이터프레임을 합쳐 주세요 (concat)"
   ]
  },
  {
   "cell_type": "markdown",
   "metadata": {
    "colab_type": "text",
    "id": "teCcNmI4tFfJ"
   },
   "source": [
    "1. `id` column은 단순한 순번이므로, column에서 **drop** 합니다.\n",
    "2. `all_data`란느 변수에 `train`과 `test` 데이터프레임을 합침니다.\n",
    "3. index를 reset 합니다."
   ]
  },
  {
   "cell_type": "code",
   "execution_count": 10,
   "metadata": {
    "ExecuteTime": {
     "end_time": "2020-12-17T12:12:01.440262Z",
     "start_time": "2020-12-17T12:12:01.424249Z"
    },
    "colab": {},
    "colab_type": "code",
    "id": "xtjZlop6tFfJ"
   },
   "outputs": [],
   "source": [
    "train = train.drop('Id', 1)\n",
    "test = test.drop('Id', 1)"
   ]
  },
  {
   "cell_type": "code",
   "execution_count": 11,
   "metadata": {
    "ExecuteTime": {
     "end_time": "2020-12-17T12:12:02.207120Z",
     "start_time": "2020-12-17T12:12:02.170112Z"
    },
    "colab": {},
    "colab_type": "code",
    "id": "Aw0H2qdxtFfK",
    "outputId": "2568c9e9-2ed2-4be9-c7e3-237842c46444"
   },
   "outputs": [
    {
     "name": "stdout",
     "output_type": "stream",
     "text": [
      "테스트 결과: True\n",
      "(2919, 79)\n"
     ]
    },
    {
     "data": {
      "text/html": [
       "<div>\n",
       "<style scoped>\n",
       "    .dataframe tbody tr th:only-of-type {\n",
       "        vertical-align: middle;\n",
       "    }\n",
       "\n",
       "    .dataframe tbody tr th {\n",
       "        vertical-align: top;\n",
       "    }\n",
       "\n",
       "    .dataframe thead th {\n",
       "        text-align: right;\n",
       "    }\n",
       "</style>\n",
       "<table border=\"1\" class=\"dataframe\">\n",
       "  <thead>\n",
       "    <tr style=\"text-align: right;\">\n",
       "      <th></th>\n",
       "      <th>MSSubClass</th>\n",
       "      <th>MSZoning</th>\n",
       "      <th>LotFrontage</th>\n",
       "      <th>LotArea</th>\n",
       "      <th>Street</th>\n",
       "      <th>Alley</th>\n",
       "      <th>LotShape</th>\n",
       "      <th>LandContour</th>\n",
       "      <th>Utilities</th>\n",
       "      <th>LotConfig</th>\n",
       "      <th>...</th>\n",
       "      <th>ScreenPorch</th>\n",
       "      <th>PoolArea</th>\n",
       "      <th>PoolQC</th>\n",
       "      <th>Fence</th>\n",
       "      <th>MiscFeature</th>\n",
       "      <th>MiscVal</th>\n",
       "      <th>MoSold</th>\n",
       "      <th>YrSold</th>\n",
       "      <th>SaleType</th>\n",
       "      <th>SaleCondition</th>\n",
       "    </tr>\n",
       "  </thead>\n",
       "  <tbody>\n",
       "    <tr>\n",
       "      <th>0</th>\n",
       "      <td>60</td>\n",
       "      <td>RL</td>\n",
       "      <td>65.0</td>\n",
       "      <td>8450</td>\n",
       "      <td>Pave</td>\n",
       "      <td>NaN</td>\n",
       "      <td>Reg</td>\n",
       "      <td>Lvl</td>\n",
       "      <td>AllPub</td>\n",
       "      <td>Inside</td>\n",
       "      <td>...</td>\n",
       "      <td>0</td>\n",
       "      <td>0</td>\n",
       "      <td>NaN</td>\n",
       "      <td>NaN</td>\n",
       "      <td>NaN</td>\n",
       "      <td>0</td>\n",
       "      <td>2</td>\n",
       "      <td>2008</td>\n",
       "      <td>WD</td>\n",
       "      <td>Normal</td>\n",
       "    </tr>\n",
       "    <tr>\n",
       "      <th>1</th>\n",
       "      <td>20</td>\n",
       "      <td>RL</td>\n",
       "      <td>80.0</td>\n",
       "      <td>9600</td>\n",
       "      <td>Pave</td>\n",
       "      <td>NaN</td>\n",
       "      <td>Reg</td>\n",
       "      <td>Lvl</td>\n",
       "      <td>AllPub</td>\n",
       "      <td>FR2</td>\n",
       "      <td>...</td>\n",
       "      <td>0</td>\n",
       "      <td>0</td>\n",
       "      <td>NaN</td>\n",
       "      <td>NaN</td>\n",
       "      <td>NaN</td>\n",
       "      <td>0</td>\n",
       "      <td>5</td>\n",
       "      <td>2007</td>\n",
       "      <td>WD</td>\n",
       "      <td>Normal</td>\n",
       "    </tr>\n",
       "    <tr>\n",
       "      <th>2</th>\n",
       "      <td>60</td>\n",
       "      <td>RL</td>\n",
       "      <td>68.0</td>\n",
       "      <td>11250</td>\n",
       "      <td>Pave</td>\n",
       "      <td>NaN</td>\n",
       "      <td>IR1</td>\n",
       "      <td>Lvl</td>\n",
       "      <td>AllPub</td>\n",
       "      <td>Inside</td>\n",
       "      <td>...</td>\n",
       "      <td>0</td>\n",
       "      <td>0</td>\n",
       "      <td>NaN</td>\n",
       "      <td>NaN</td>\n",
       "      <td>NaN</td>\n",
       "      <td>0</td>\n",
       "      <td>9</td>\n",
       "      <td>2008</td>\n",
       "      <td>WD</td>\n",
       "      <td>Normal</td>\n",
       "    </tr>\n",
       "    <tr>\n",
       "      <th>3</th>\n",
       "      <td>70</td>\n",
       "      <td>RL</td>\n",
       "      <td>60.0</td>\n",
       "      <td>9550</td>\n",
       "      <td>Pave</td>\n",
       "      <td>NaN</td>\n",
       "      <td>IR1</td>\n",
       "      <td>Lvl</td>\n",
       "      <td>AllPub</td>\n",
       "      <td>Corner</td>\n",
       "      <td>...</td>\n",
       "      <td>0</td>\n",
       "      <td>0</td>\n",
       "      <td>NaN</td>\n",
       "      <td>NaN</td>\n",
       "      <td>NaN</td>\n",
       "      <td>0</td>\n",
       "      <td>2</td>\n",
       "      <td>2006</td>\n",
       "      <td>WD</td>\n",
       "      <td>Abnorml</td>\n",
       "    </tr>\n",
       "    <tr>\n",
       "      <th>4</th>\n",
       "      <td>60</td>\n",
       "      <td>RL</td>\n",
       "      <td>84.0</td>\n",
       "      <td>14260</td>\n",
       "      <td>Pave</td>\n",
       "      <td>NaN</td>\n",
       "      <td>IR1</td>\n",
       "      <td>Lvl</td>\n",
       "      <td>AllPub</td>\n",
       "      <td>FR2</td>\n",
       "      <td>...</td>\n",
       "      <td>0</td>\n",
       "      <td>0</td>\n",
       "      <td>NaN</td>\n",
       "      <td>NaN</td>\n",
       "      <td>NaN</td>\n",
       "      <td>0</td>\n",
       "      <td>12</td>\n",
       "      <td>2008</td>\n",
       "      <td>WD</td>\n",
       "      <td>Normal</td>\n",
       "    </tr>\n",
       "  </tbody>\n",
       "</table>\n",
       "<p>5 rows × 79 columns</p>\n",
       "</div>"
      ],
      "text/plain": [
       "   MSSubClass MSZoning  LotFrontage  LotArea Street Alley LotShape  \\\n",
       "0          60       RL         65.0     8450   Pave   NaN      Reg   \n",
       "1          20       RL         80.0     9600   Pave   NaN      Reg   \n",
       "2          60       RL         68.0    11250   Pave   NaN      IR1   \n",
       "3          70       RL         60.0     9550   Pave   NaN      IR1   \n",
       "4          60       RL         84.0    14260   Pave   NaN      IR1   \n",
       "\n",
       "  LandContour Utilities LotConfig  ... ScreenPorch PoolArea PoolQC Fence  \\\n",
       "0         Lvl    AllPub    Inside  ...           0        0    NaN   NaN   \n",
       "1         Lvl    AllPub       FR2  ...           0        0    NaN   NaN   \n",
       "2         Lvl    AllPub    Inside  ...           0        0    NaN   NaN   \n",
       "3         Lvl    AllPub    Corner  ...           0        0    NaN   NaN   \n",
       "4         Lvl    AllPub       FR2  ...           0        0    NaN   NaN   \n",
       "\n",
       "  MiscFeature MiscVal  MoSold  YrSold  SaleType  SaleCondition  \n",
       "0         NaN       0       2    2008        WD         Normal  \n",
       "1         NaN       0       5    2007        WD         Normal  \n",
       "2         NaN       0       9    2008        WD         Normal  \n",
       "3         NaN       0       2    2006        WD        Abnorml  \n",
       "4         NaN       0      12    2008        WD         Normal  \n",
       "\n",
       "[5 rows x 79 columns]"
      ]
     },
     "execution_count": 11,
     "metadata": {},
     "output_type": "execute_result"
    }
   ],
   "source": [
    "# 코드를 입력해 주세요\n",
    "all_data = pd.concat([train, test], sort=False, ignore_index=True)\n",
    "\n",
    "# 검증코드\n",
    "print('테스트 결과: {}'.format(all_data.shape == (2919, 79)))\n",
    "\n",
    "# 결과 출력\n",
    "print(all_data.shape)\n",
    "all_data.head()"
   ]
  },
  {
   "cell_type": "markdown",
   "metadata": {
    "colab_type": "text",
    "id": "zvxYOFn9tFfQ"
   },
   "source": [
    "## 전처리: NaN 값 채우기"
   ]
  },
  {
   "cell_type": "markdown",
   "metadata": {
    "colab_type": "text",
    "id": "Z5K9uo4vtFfQ"
   },
   "source": [
    "### Q3. NaN 값을 포함하는 column과 NaN 값의 갯수를 출력합니다."
   ]
  },
  {
   "cell_type": "markdown",
   "metadata": {
    "colab_type": "text",
    "id": "cat3umuKtFfR"
   },
   "source": [
    "missing 이라는 데이터프레임에 NaN 값을 포함하는 column과 NaN 값의 갯수 정보를 담습니다."
   ]
  },
  {
   "cell_type": "code",
   "execution_count": 12,
   "metadata": {
    "ExecuteTime": {
     "end_time": "2020-12-17T12:12:11.469518Z",
     "start_time": "2020-12-17T12:12:11.457516Z"
    },
    "colab": {},
    "colab_type": "code",
    "id": "-NtaDkoXtFfR",
    "outputId": "143890e1-80c0-4358-e7fa-5f812cab58f8"
   },
   "outputs": [
    {
     "data": {
      "text/plain": [
       "PoolQC         2909\n",
       "MiscFeature    2814\n",
       "Alley          2721\n",
       "Fence          2348\n",
       "FireplaceQu    1420\n",
       "dtype: int64"
      ]
     },
     "execution_count": 12,
     "metadata": {},
     "output_type": "execute_result"
    }
   ],
   "source": [
    "# 코드를 입력하세요 #\n",
    "missing = all_data.isnull().sum()\n",
    "\n",
    "#####################\n",
    "missing.sort_values(ascending=False).head()"
   ]
  },
  {
   "cell_type": "markdown",
   "metadata": {
    "colab_type": "text",
    "id": "guOIzKICtFfY"
   },
   "source": [
    "### Q4. LotFrontage 에 대한 NaN값 (결측치) 채워주기"
   ]
  },
  {
   "cell_type": "markdown",
   "metadata": {
    "colab_type": "text",
    "id": "aFnoPg2itFfY"
   },
   "source": [
    "`LotFrontage`에 대한 `NaN`값을 채워 주도록 하겠습니다.\n",
    "\n",
    "* `Neighborhood` column, 즉 같은 이웃간에는 비슷한 크기의 `LotFrontage`를 가진다라는 전제하겠습니다.\n",
    "* 빈 값을 채워줄 때 groupby 메소드를 활용하여 같은 `Neighborhood` 끼리의 `LotFrontage` 중앙값(median) 으로 채워주도록 합니다."
   ]
  },
  {
   "cell_type": "code",
   "execution_count": 13,
   "metadata": {
    "ExecuteTime": {
     "end_time": "2020-12-17T12:12:33.061870Z",
     "start_time": "2020-12-17T12:12:33.057870Z"
    }
   },
   "outputs": [],
   "source": [
    "all_data_backup = all_data.copy()"
   ]
  },
  {
   "cell_type": "code",
   "execution_count": 14,
   "metadata": {
    "ExecuteTime": {
     "end_time": "2020-12-17T12:12:44.977875Z",
     "start_time": "2020-12-17T12:12:44.962880Z"
    },
    "colab": {},
    "colab_type": "code",
    "id": "6lvtxNN9tFfY"
   },
   "outputs": [
    {
     "data": {
      "text/html": [
       "<div>\n",
       "<style scoped>\n",
       "    .dataframe tbody tr th:only-of-type {\n",
       "        vertical-align: middle;\n",
       "    }\n",
       "\n",
       "    .dataframe tbody tr th {\n",
       "        vertical-align: top;\n",
       "    }\n",
       "\n",
       "    .dataframe thead th {\n",
       "        text-align: right;\n",
       "    }\n",
       "</style>\n",
       "<table border=\"1\" class=\"dataframe\">\n",
       "  <thead>\n",
       "    <tr style=\"text-align: right;\">\n",
       "      <th></th>\n",
       "      <th>median</th>\n",
       "    </tr>\n",
       "    <tr>\n",
       "      <th>Neighborhood</th>\n",
       "      <th></th>\n",
       "    </tr>\n",
       "  </thead>\n",
       "  <tbody>\n",
       "    <tr>\n",
       "      <th>Blmngtn</th>\n",
       "      <td>43.0</td>\n",
       "    </tr>\n",
       "    <tr>\n",
       "      <th>Blueste</th>\n",
       "      <td>24.0</td>\n",
       "    </tr>\n",
       "    <tr>\n",
       "      <th>BrDale</th>\n",
       "      <td>21.0</td>\n",
       "    </tr>\n",
       "    <tr>\n",
       "      <th>BrkSide</th>\n",
       "      <td>51.0</td>\n",
       "    </tr>\n",
       "    <tr>\n",
       "      <th>ClearCr</th>\n",
       "      <td>80.5</td>\n",
       "    </tr>\n",
       "    <tr>\n",
       "      <th>CollgCr</th>\n",
       "      <td>70.0</td>\n",
       "    </tr>\n",
       "    <tr>\n",
       "      <th>Crawfor</th>\n",
       "      <td>70.0</td>\n",
       "    </tr>\n",
       "    <tr>\n",
       "      <th>Edwards</th>\n",
       "      <td>65.0</td>\n",
       "    </tr>\n",
       "    <tr>\n",
       "      <th>Gilbert</th>\n",
       "      <td>64.0</td>\n",
       "    </tr>\n",
       "    <tr>\n",
       "      <th>IDOTRR</th>\n",
       "      <td>60.0</td>\n",
       "    </tr>\n",
       "  </tbody>\n",
       "</table>\n",
       "</div>"
      ],
      "text/plain": [
       "              median\n",
       "Neighborhood        \n",
       "Blmngtn         43.0\n",
       "Blueste         24.0\n",
       "BrDale          21.0\n",
       "BrkSide         51.0\n",
       "ClearCr         80.5\n",
       "CollgCr         70.0\n",
       "Crawfor         70.0\n",
       "Edwards         65.0\n",
       "Gilbert         64.0\n",
       "IDOTRR          60.0"
      ]
     },
     "execution_count": 14,
     "metadata": {},
     "output_type": "execute_result"
    }
   ],
   "source": [
    "# 코드를 입력하세요\n",
    "LotFrontage_median = all_data.groupby('Neighborhood')['LotFrontage'] \\\n",
    "            .agg(['median'])\n",
    "LotFrontage_median.head(10)"
   ]
  },
  {
   "cell_type": "code",
   "execution_count": 15,
   "metadata": {
    "ExecuteTime": {
     "end_time": "2020-12-17T12:12:45.143134Z",
     "start_time": "2020-12-17T12:12:45.133132Z"
    }
   },
   "outputs": [
    {
     "data": {
      "text/html": [
       "<div>\n",
       "<style scoped>\n",
       "    .dataframe tbody tr th:only-of-type {\n",
       "        vertical-align: middle;\n",
       "    }\n",
       "\n",
       "    .dataframe tbody tr th {\n",
       "        vertical-align: top;\n",
       "    }\n",
       "\n",
       "    .dataframe thead th {\n",
       "        text-align: right;\n",
       "    }\n",
       "</style>\n",
       "<table border=\"1\" class=\"dataframe\">\n",
       "  <thead>\n",
       "    <tr style=\"text-align: right;\">\n",
       "      <th></th>\n",
       "      <th>LotFrontage</th>\n",
       "      <th>Neighborhood</th>\n",
       "    </tr>\n",
       "  </thead>\n",
       "  <tbody>\n",
       "    <tr>\n",
       "      <th>0</th>\n",
       "      <td>65.0</td>\n",
       "      <td>CollgCr</td>\n",
       "    </tr>\n",
       "    <tr>\n",
       "      <th>1</th>\n",
       "      <td>80.0</td>\n",
       "      <td>Veenker</td>\n",
       "    </tr>\n",
       "    <tr>\n",
       "      <th>2</th>\n",
       "      <td>68.0</td>\n",
       "      <td>CollgCr</td>\n",
       "    </tr>\n",
       "    <tr>\n",
       "      <th>3</th>\n",
       "      <td>60.0</td>\n",
       "      <td>Crawfor</td>\n",
       "    </tr>\n",
       "    <tr>\n",
       "      <th>4</th>\n",
       "      <td>84.0</td>\n",
       "      <td>NoRidge</td>\n",
       "    </tr>\n",
       "    <tr>\n",
       "      <th>5</th>\n",
       "      <td>85.0</td>\n",
       "      <td>Mitchel</td>\n",
       "    </tr>\n",
       "    <tr>\n",
       "      <th>6</th>\n",
       "      <td>75.0</td>\n",
       "      <td>Somerst</td>\n",
       "    </tr>\n",
       "    <tr>\n",
       "      <th>7</th>\n",
       "      <td>NaN</td>\n",
       "      <td>NWAmes</td>\n",
       "    </tr>\n",
       "    <tr>\n",
       "      <th>8</th>\n",
       "      <td>51.0</td>\n",
       "      <td>OldTown</td>\n",
       "    </tr>\n",
       "    <tr>\n",
       "      <th>9</th>\n",
       "      <td>50.0</td>\n",
       "      <td>BrkSide</td>\n",
       "    </tr>\n",
       "  </tbody>\n",
       "</table>\n",
       "</div>"
      ],
      "text/plain": [
       "   LotFrontage Neighborhood\n",
       "0         65.0      CollgCr\n",
       "1         80.0      Veenker\n",
       "2         68.0      CollgCr\n",
       "3         60.0      Crawfor\n",
       "4         84.0      NoRidge\n",
       "5         85.0      Mitchel\n",
       "6         75.0      Somerst\n",
       "7          NaN       NWAmes\n",
       "8         51.0      OldTown\n",
       "9         50.0      BrkSide"
      ]
     },
     "execution_count": 15,
     "metadata": {},
     "output_type": "execute_result"
    }
   ],
   "source": [
    "all_data[:10][['LotFrontage', 'Neighborhood']]"
   ]
  },
  {
   "cell_type": "code",
   "execution_count": 16,
   "metadata": {
    "ExecuteTime": {
     "end_time": "2020-12-17T12:12:45.308185Z",
     "start_time": "2020-12-17T12:12:45.298182Z"
    }
   },
   "outputs": [],
   "source": [
    "all_data[\"LotFrontage\"] = all_data.groupby([\"Neighborhood\"])[\"LotFrontage\"].transform(lambda x: x.fillna(x.median()))"
   ]
  },
  {
   "cell_type": "code",
   "execution_count": 17,
   "metadata": {
    "ExecuteTime": {
     "end_time": "2020-12-17T12:12:45.488574Z",
     "start_time": "2020-12-17T12:12:45.476572Z"
    },
    "colab": {},
    "colab_type": "code",
    "id": "ngOPAoNKtFfb",
    "outputId": "ef61f2ae-897a-4ab2-84ef-733e5fd2857e"
   },
   "outputs": [
    {
     "name": "stdout",
     "output_type": "stream",
     "text": [
      "통과~\n"
     ]
    }
   ],
   "source": [
    "# 정답 체크용 함수\n",
    "def check_pass(df):\n",
    "    assert df['LotFrontage'][7] == 80.0\n",
    "    assert df['LotFrontage'][100] == 80.0\n",
    "    assert df['LotFrontage'][166] == 80.5\n",
    "    assert df['LotFrontage'][2727] == 73.0\n",
    "    assert df['LotFrontage'][2839] == 70.0\n",
    "    assert df['LotFrontage'].isnull().sum() == 0\n",
    "    print('통과~')\n",
    "    \n",
    "check_pass(all_data)"
   ]
  },
  {
   "cell_type": "markdown",
   "metadata": {
    "colab_type": "text",
    "id": "R5tmbRhBtFfe"
   },
   "source": [
    "### 잘못된 데이터 수정하기"
   ]
  },
  {
   "cell_type": "code",
   "execution_count": 18,
   "metadata": {
    "ExecuteTime": {
     "end_time": "2020-12-17T12:12:47.588907Z",
     "start_time": "2020-12-17T12:12:47.570903Z"
    },
    "colab": {},
    "colab_type": "code",
    "id": "gahf2T67tFff",
    "outputId": "f292ae61-fe23-4431-a78c-f312ae7f0952"
   },
   "outputs": [
    {
     "data": {
      "text/plain": [
       "2909"
      ]
     },
     "execution_count": 18,
     "metadata": {},
     "output_type": "execute_result"
    }
   ],
   "source": [
    "all_data['PoolQC'].isnull().sum()"
   ]
  },
  {
   "cell_type": "markdown",
   "metadata": {
    "colab_type": "text",
    "id": "HrSO6qmXtFfg"
   },
   "source": [
    "가끔은 잘못된 데이터가 들어가 있는 경우가 있습니다. 이럴 땐 상식적으로 맞는 값으로 다시 수정해 줄 필요가 있습니다.\n",
    "\n",
    "잘못된 값을 수정해 주세요\n",
    "\n",
    "(hint) `GarageYrBlt`"
   ]
  },
  {
   "cell_type": "code",
   "execution_count": 19,
   "metadata": {
    "ExecuteTime": {
     "end_time": "2020-12-17T12:12:48.944970Z",
     "start_time": "2020-12-17T12:12:48.937969Z"
    },
    "colab": {},
    "colab_type": "code",
    "id": "Tz7SpIS9tFfh",
    "outputId": "428fb2cd-2a05-4240-a58f-c98482b338b2"
   },
   "outputs": [
    {
     "data": {
      "text/plain": [
       "2592    2207.0\n",
       "378     2010.0\n",
       "1608    2010.0\n",
       "819     2010.0\n",
       "987     2010.0\n",
       "Name: GarageYrBlt, dtype: float64"
      ]
     },
     "execution_count": 19,
     "metadata": {},
     "output_type": "execute_result"
    }
   ],
   "source": [
    "all_data['GarageYrBlt'].sort_values(ascending=False).head()"
   ]
  },
  {
   "cell_type": "code",
   "execution_count": 20,
   "metadata": {
    "ExecuteTime": {
     "end_time": "2020-12-17T12:12:49.109733Z",
     "start_time": "2020-12-17T12:12:49.090738Z"
    },
    "colab": {},
    "colab_type": "code",
    "id": "ED1xwQUNtFfi"
   },
   "outputs": [],
   "source": [
    "all_data.loc[all_data['GarageYrBlt'] == 2207, 'GarageYrBlt'] = 2007"
   ]
  },
  {
   "cell_type": "markdown",
   "metadata": {
    "colab_type": "text",
    "id": "6dt7PDsPtFfk"
   },
   "source": [
    "NaN 값이 포함된 column은 다음 2가지 방법으로 처리할 수 있습니다.\n",
    "\n",
    "1. 적절한 값으로 채워준다\n",
    "2. 아예 column 자체를 drop 하여 사용하지 않는다."
   ]
  },
  {
   "cell_type": "markdown",
   "metadata": {
    "colab_type": "text",
    "id": "z94qMAaPtFfk"
   },
   "source": [
    "일단, 우리는 1번 방법인 **적절한 값으로 채워주도록** 하겠습니다."
   ]
  },
  {
   "cell_type": "markdown",
   "metadata": {
    "colab_type": "text",
    "id": "mRtvPLlPtFfk"
   },
   "source": [
    "## 전처리: 숫자형/문자형 column별 NaN 값 채우기"
   ]
  },
  {
   "cell_type": "markdown",
   "metadata": {
    "colab_type": "text",
    "id": "Ys0RfT8DtFfk"
   },
   "source": [
    "### Q5. 수치형 (numerical) 컬럼과 카테고리형 (categorical) 컬럼 나누기"
   ]
  },
  {
   "cell_type": "markdown",
   "metadata": {
    "colab_type": "text",
    "id": "9sYSD_0ttFfl"
   },
   "source": [
    "먼저, 숫자형으로 이루어진 column과 `문자형`으로 이루어진 column을 구분해 주도록 하겠습니다."
   ]
  },
  {
   "cell_type": "code",
   "execution_count": 21,
   "metadata": {
    "ExecuteTime": {
     "end_time": "2020-12-17T12:12:52.066971Z",
     "start_time": "2020-12-17T12:12:52.050966Z"
    }
   },
   "outputs": [],
   "source": [
    "# LotFrontage NaN값 (결측치) 처리 이후 바뀌었으므로 다시 받음\n",
    "missing = all_data.isnull().sum()"
   ]
  },
  {
   "cell_type": "code",
   "execution_count": 22,
   "metadata": {
    "ExecuteTime": {
     "end_time": "2020-12-17T12:12:53.033008Z",
     "start_time": "2020-12-17T12:12:53.019007Z"
    }
   },
   "outputs": [],
   "source": [
    "missing = missing[missing > 0]"
   ]
  },
  {
   "cell_type": "code",
   "execution_count": 23,
   "metadata": {
    "ExecuteTime": {
     "end_time": "2020-12-17T12:12:53.528902Z",
     "start_time": "2020-12-17T12:12:53.514907Z"
    },
    "colab": {},
    "colab_type": "code",
    "id": "cbyFsqQstFfl"
   },
   "outputs": [],
   "source": [
    "nan_cols = missing.keys()"
   ]
  },
  {
   "cell_type": "code",
   "execution_count": 24,
   "metadata": {
    "ExecuteTime": {
     "end_time": "2020-12-17T12:12:53.813590Z",
     "start_time": "2020-12-17T12:12:53.802596Z"
    }
   },
   "outputs": [
    {
     "data": {
      "text/plain": [
       "MSZoning           4\n",
       "Alley           2721\n",
       "Utilities          2\n",
       "Exterior1st        1\n",
       "Exterior2nd        1\n",
       "MasVnrType        24\n",
       "MasVnrArea        23\n",
       "BsmtQual          81\n",
       "BsmtCond          82\n",
       "BsmtExposure      82\n",
       "BsmtFinType1      79\n",
       "BsmtFinSF1         1\n",
       "BsmtFinType2      80\n",
       "BsmtFinSF2         1\n",
       "BsmtUnfSF          1\n",
       "TotalBsmtSF        1\n",
       "Electrical         1\n",
       "BsmtFullBath       2\n",
       "BsmtHalfBath       2\n",
       "KitchenQual        1\n",
       "Functional         2\n",
       "FireplaceQu     1420\n",
       "GarageType       157\n",
       "GarageYrBlt      159\n",
       "GarageFinish     159\n",
       "GarageCars         1\n",
       "GarageArea         1\n",
       "GarageQual       159\n",
       "GarageCond       159\n",
       "PoolQC          2909\n",
       "Fence           2348\n",
       "MiscFeature     2814\n",
       "SaleType           1\n",
       "dtype: int64"
      ]
     },
     "execution_count": 24,
     "metadata": {},
     "output_type": "execute_result"
    }
   ],
   "source": [
    "all_data[nan_cols].isnull().sum()"
   ]
  },
  {
   "cell_type": "markdown",
   "metadata": {
    "colab_type": "text",
    "id": "QSceERXotFfm"
   },
   "source": [
    "일단 수치형 컬럼과 / 카테고리형 컬럼을 나누어 각각 변수에 할당합니다.\n",
    "\n",
    "* num_cols: **NaN 값으로 이루어진 수치형** column\n",
    "* cat_cols: **NaN 값으로 이루어진 문자형** column\n",
    "\n",
    "hint) select_dtypes"
   ]
  },
  {
   "cell_type": "code",
   "execution_count": 25,
   "metadata": {
    "ExecuteTime": {
     "end_time": "2020-12-17T12:12:58.943868Z",
     "start_time": "2020-12-17T12:12:58.930865Z"
    },
    "colab": {},
    "colab_type": "code",
    "id": "Bdn-_cbDtFfn"
   },
   "outputs": [
    {
     "name": "stdout",
     "output_type": "stream",
     "text": [
      "<class 'pandas.core.frame.DataFrame'>\n",
      "RangeIndex: 2919 entries, 0 to 2918\n",
      "Data columns (total 10 columns):\n",
      " #   Column        Non-Null Count  Dtype  \n",
      "---  ------        --------------  -----  \n",
      " 0   MasVnrArea    2896 non-null   float64\n",
      " 1   BsmtFinSF1    2918 non-null   float64\n",
      " 2   BsmtFinSF2    2918 non-null   float64\n",
      " 3   BsmtUnfSF     2918 non-null   float64\n",
      " 4   TotalBsmtSF   2918 non-null   float64\n",
      " 5   BsmtFullBath  2917 non-null   float64\n",
      " 6   BsmtHalfBath  2917 non-null   float64\n",
      " 7   GarageYrBlt   2760 non-null   float64\n",
      " 8   GarageCars    2918 non-null   float64\n",
      " 9   GarageArea    2918 non-null   float64\n",
      "dtypes: float64(10)\n",
      "memory usage: 228.2 KB\n"
     ]
    }
   ],
   "source": [
    "# 이곳에 코드를 입력해 주세요\n",
    "num_cols = all_data[nan_cols].select_dtypes(exclude = [\"object\"] ).columns\n",
    "all_data[num_cols].info()"
   ]
  },
  {
   "cell_type": "code",
   "execution_count": 26,
   "metadata": {
    "ExecuteTime": {
     "end_time": "2020-12-17T12:12:59.499108Z",
     "start_time": "2020-12-17T12:12:59.475103Z"
    }
   },
   "outputs": [
    {
     "name": "stdout",
     "output_type": "stream",
     "text": [
      "<class 'pandas.core.frame.DataFrame'>\n",
      "RangeIndex: 2919 entries, 0 to 2918\n",
      "Data columns (total 23 columns):\n",
      " #   Column        Non-Null Count  Dtype \n",
      "---  ------        --------------  ----- \n",
      " 0   MSZoning      2915 non-null   object\n",
      " 1   Alley         198 non-null    object\n",
      " 2   Utilities     2917 non-null   object\n",
      " 3   Exterior1st   2918 non-null   object\n",
      " 4   Exterior2nd   2918 non-null   object\n",
      " 5   MasVnrType    2895 non-null   object\n",
      " 6   BsmtQual      2838 non-null   object\n",
      " 7   BsmtCond      2837 non-null   object\n",
      " 8   BsmtExposure  2837 non-null   object\n",
      " 9   BsmtFinType1  2840 non-null   object\n",
      " 10  BsmtFinType2  2839 non-null   object\n",
      " 11  Electrical    2918 non-null   object\n",
      " 12  KitchenQual   2918 non-null   object\n",
      " 13  Functional    2917 non-null   object\n",
      " 14  FireplaceQu   1499 non-null   object\n",
      " 15  GarageType    2762 non-null   object\n",
      " 16  GarageFinish  2760 non-null   object\n",
      " 17  GarageQual    2760 non-null   object\n",
      " 18  GarageCond    2760 non-null   object\n",
      " 19  PoolQC        10 non-null     object\n",
      " 20  Fence         571 non-null    object\n",
      " 21  MiscFeature   105 non-null    object\n",
      " 22  SaleType      2918 non-null   object\n",
      "dtypes: object(23)\n",
      "memory usage: 524.6+ KB\n"
     ]
    }
   ],
   "source": [
    "cat_cols = all_data[nan_cols].select_dtypes(include = [\"object\"]).columns\n",
    "all_data[cat_cols].info()"
   ]
  },
  {
   "cell_type": "code",
   "execution_count": 28,
   "metadata": {
    "ExecuteTime": {
     "end_time": "2020-12-17T12:13:02.692247Z",
     "start_time": "2020-12-17T12:13:02.682245Z"
    },
    "colab": {},
    "colab_type": "code",
    "id": "CmOsQsMxtFft"
   },
   "outputs": [],
   "source": [
    "# 검증 코드\n",
    "# 본 cell 실행시 에러가 나지 않아야 합니다.\n",
    "# assert len(num_cols) == 11\n",
    "\n",
    "# 엄밀히 따지면 LotFrontage는 위에서 이미 Neighborhood 끼리의 LotFrontage 중앙값(median) 으로 전처리를 하였기 때문에 num_cols 제외 시킴\n",
    "assert len(num_cols) == 10\n",
    "assert len(cat_cols) == 23"
   ]
  },
  {
   "cell_type": "markdown",
   "metadata": {
    "colab_type": "text",
    "id": "875rmXQztFfw"
   },
   "source": [
    "### Q6. 수치형 (numerical) 컬럼에 대해서는 중앙 값으로 결측치를 채워주겠습니다."
   ]
  },
  {
   "cell_type": "markdown",
   "metadata": {
    "colab_type": "text",
    "id": "2cqs65CBtFfw"
   },
   "source": [
    "`all_data[num_cols]`에 대해서는 `중앙값(median)`으로 값을 채워주도록 하겠습니다."
   ]
  },
  {
   "cell_type": "code",
   "execution_count": 29,
   "metadata": {
    "ExecuteTime": {
     "end_time": "2020-12-17T12:13:11.992742Z",
     "start_time": "2020-12-17T12:13:11.979748Z"
    }
   },
   "outputs": [
    {
     "data": {
      "text/plain": [
       "MasVnrArea       23\n",
       "BsmtFinSF1        1\n",
       "BsmtFinSF2        1\n",
       "BsmtUnfSF         1\n",
       "TotalBsmtSF       1\n",
       "BsmtFullBath      2\n",
       "BsmtHalfBath      2\n",
       "GarageYrBlt     159\n",
       "GarageCars        1\n",
       "GarageArea        1\n",
       "dtype: int64"
      ]
     },
     "execution_count": 29,
     "metadata": {},
     "output_type": "execute_result"
    }
   ],
   "source": [
    "all_data[num_cols].isnull().sum()"
   ]
  },
  {
   "cell_type": "code",
   "execution_count": 30,
   "metadata": {
    "ExecuteTime": {
     "end_time": "2020-12-17T12:13:12.217809Z",
     "start_time": "2020-12-17T12:13:12.210807Z"
    },
    "colab": {},
    "colab_type": "code",
    "id": "4EbRmCTvtFfw"
   },
   "outputs": [],
   "source": [
    "# 이곳에 코드를 입력해 주세요\n",
    "all_data[num_cols] = all_data[num_cols].fillna(all_data[num_cols].median())"
   ]
  },
  {
   "cell_type": "code",
   "execution_count": 31,
   "metadata": {
    "ExecuteTime": {
     "end_time": "2020-12-17T12:13:12.397630Z",
     "start_time": "2020-12-17T12:13:12.379626Z"
    }
   },
   "outputs": [
    {
     "data": {
      "text/plain": [
       "MasVnrArea      0\n",
       "BsmtFinSF1      0\n",
       "BsmtFinSF2      0\n",
       "BsmtUnfSF       0\n",
       "TotalBsmtSF     0\n",
       "BsmtFullBath    0\n",
       "BsmtHalfBath    0\n",
       "GarageYrBlt     0\n",
       "GarageCars      0\n",
       "GarageArea      0\n",
       "dtype: int64"
      ]
     },
     "execution_count": 31,
     "metadata": {},
     "output_type": "execute_result"
    }
   ],
   "source": [
    "all_data[num_cols].isnull().sum()"
   ]
  },
  {
   "cell_type": "code",
   "execution_count": 32,
   "metadata": {
    "ExecuteTime": {
     "end_time": "2020-12-17T12:13:12.547707Z",
     "start_time": "2020-12-17T12:13:12.539705Z"
    },
    "colab": {},
    "colab_type": "code",
    "id": "KdtOpxFCtFfy"
   },
   "outputs": [],
   "source": [
    "# 검증코드\n",
    "assert all_data[num_cols].isnull().sum().sum() == 0"
   ]
  },
  {
   "cell_type": "markdown",
   "metadata": {
    "colab_type": "text",
    "id": "MoApp1x1tFf2"
   },
   "source": [
    "### Q7. 카테고리형 (categorical) 컬럼에 대해서는 'None' 으로 결측치를 채워주겠습니다."
   ]
  },
  {
   "cell_type": "markdown",
   "metadata": {
    "colab_type": "text",
    "id": "DAWiBe1otFf2"
   },
   "source": [
    "`all_data[cat_cols]`에 대해서는 `'None'`이라는 문자열 값으로 채워주도록 하겠습니다."
   ]
  },
  {
   "cell_type": "code",
   "execution_count": 33,
   "metadata": {
    "ExecuteTime": {
     "end_time": "2020-12-17T12:13:23.332825Z",
     "start_time": "2020-12-17T12:13:23.315821Z"
    },
    "colab": {},
    "colab_type": "code",
    "id": "chaZ8Vm6tFf2"
   },
   "outputs": [],
   "source": [
    "# 이곳에 코드를 입력해 주세요\n",
    "all_data[cat_cols] = all_data[cat_cols].fillna(\"None\")"
   ]
  },
  {
   "cell_type": "code",
   "execution_count": 34,
   "metadata": {
    "ExecuteTime": {
     "end_time": "2020-12-17T12:13:23.572905Z",
     "start_time": "2020-12-17T12:13:23.563904Z"
    }
   },
   "outputs": [
    {
     "data": {
      "text/plain": [
       "MSZoning        0\n",
       "Alley           0\n",
       "Utilities       0\n",
       "Exterior1st     0\n",
       "Exterior2nd     0\n",
       "MasVnrType      0\n",
       "BsmtQual        0\n",
       "BsmtCond        0\n",
       "BsmtExposure    0\n",
       "BsmtFinType1    0\n",
       "BsmtFinType2    0\n",
       "Electrical      0\n",
       "KitchenQual     0\n",
       "Functional      0\n",
       "FireplaceQu     0\n",
       "GarageType      0\n",
       "GarageFinish    0\n",
       "GarageQual      0\n",
       "GarageCond      0\n",
       "PoolQC          0\n",
       "Fence           0\n",
       "MiscFeature     0\n",
       "SaleType        0\n",
       "dtype: int64"
      ]
     },
     "execution_count": 34,
     "metadata": {},
     "output_type": "execute_result"
    }
   ],
   "source": [
    "all_data[cat_cols].isnull().sum()"
   ]
  },
  {
   "cell_type": "code",
   "execution_count": 35,
   "metadata": {
    "ExecuteTime": {
     "end_time": "2020-12-17T12:13:24.068405Z",
     "start_time": "2020-12-17T12:13:24.060403Z"
    },
    "colab": {},
    "colab_type": "code",
    "id": "WdN9uHEHtFf4"
   },
   "outputs": [],
   "source": [
    "# 검증코드\n",
    "# 본 cell을 실행해서 에러가 나지 않아야 합니다.\n",
    "assert all_data[cat_cols].isnull().sum().sum() == 0"
   ]
  },
  {
   "cell_type": "markdown",
   "metadata": {
    "colab_type": "text",
    "id": "AWftUYaftFf_"
   },
   "source": [
    "## 전처리: Outlier 확인 및 제거"
   ]
  },
  {
   "cell_type": "code",
   "execution_count": 36,
   "metadata": {
    "ExecuteTime": {
     "end_time": "2020-12-17T12:13:25.346824Z",
     "start_time": "2020-12-17T12:13:25.067769Z"
    },
    "colab": {},
    "colab_type": "code",
    "id": "xBFKiWvmtFgA",
    "outputId": "6ff97af3-f2c3-4999-9c87-f105aafeac22"
   },
   "outputs": [
    {
     "data": {
      "text/plain": [
       "<AxesSubplot:xlabel='GrLivArea', ylabel='SalePrice'>"
      ]
     },
     "execution_count": 36,
     "metadata": {},
     "output_type": "execute_result"
    },
    {
     "data": {
      "image/png": "[encoded data removed]",
      "text/plain": [
       "<Figure size 648x432 with 1 Axes>"
      ]
     },
     "metadata": {
      "needs_background": "light"
     },
     "output_type": "display_data"
    }
   ],
   "source": [
    "plt.figure(figsize=(9, 6))\n",
    "sns.regplot(x=train['GrLivArea'], y=np.log1p(label))"
   ]
  },
  {
   "cell_type": "markdown",
   "metadata": {
    "colab_type": "text",
    "id": "IHhFLVx-tFgB"
   },
   "source": [
    "위의 그래프를 보면, 몇 개의 outlier가 보입니다.\n",
    "\n",
    "데이터의 모수가 작을 수록, 몇 개의 **outlier** 데이터가 전체 성능에 미치는 영향이 매우 큽니다.\n",
    "\n",
    "**outlier**를 확인하고 제거합니다.\n",
    "\n",
    "제거한 후 변경 후 `regplot`을 살펴볼까요?"
   ]
  },
  {
   "cell_type": "code",
   "execution_count": 37,
   "metadata": {
    "ExecuteTime": {
     "end_time": "2020-12-17T12:13:26.549728Z",
     "start_time": "2020-12-17T12:13:26.323685Z"
    },
    "colab": {},
    "colab_type": "code",
    "id": "gnFdEcLXtFgB",
    "outputId": "29e6d196-cbf8-4e1e-bce1-0c210988e208"
   },
   "outputs": [
    {
     "data": {
      "text/plain": [
       "<AxesSubplot:xlabel='GrLivArea', ylabel='SalePrice'>"
      ]
     },
     "execution_count": 37,
     "metadata": {},
     "output_type": "execute_result"
    },
    {
     "data": {
      "image/png": "[encoded data removed]",
      "text/plain": [
       "<Figure size 648x432 with 1 Axes>"
      ]
     },
     "metadata": {
      "needs_background": "light"
     },
     "output_type": "display_data"
    }
   ],
   "source": [
    "plt.figure(figsize=(9, 6))\n",
    "sns.regplot(x=train.drop([1298, 523],0)['GrLivArea'], y=np.log1p(label.drop([1298, 523],0)))"
   ]
  },
  {
   "cell_type": "markdown",
   "metadata": {
    "colab_type": "text",
    "id": "JXHSz4OctFgD"
   },
   "source": [
    "좀 더 깔끔해진 선형 관계를 확인할 수 있습니다."
   ]
  },
  {
   "cell_type": "code",
   "execution_count": 38,
   "metadata": {
    "ExecuteTime": {
     "end_time": "2020-12-17T12:13:26.954197Z",
     "start_time": "2020-12-17T12:13:26.948196Z"
    },
    "colab": {},
    "colab_type": "code",
    "id": "OSvzreQ2tFgD"
   },
   "outputs": [],
   "source": [
    "# 나중에 all_data를 train/ test 데이터 셋으로 분리 후 제거해주도록 하겠습니다.\n",
    "outlier = [523, 1298]"
   ]
  },
  {
   "cell_type": "code",
   "execution_count": 39,
   "metadata": {
    "ExecuteTime": {
     "end_time": "2020-12-17T12:13:27.466846Z",
     "start_time": "2020-12-17T12:13:27.460846Z"
    }
   },
   "outputs": [
    {
     "data": {
      "text/plain": [
       "523     4676\n",
       "1298    5642\n",
       "Name: GrLivArea, dtype: int64"
      ]
     },
     "execution_count": 39,
     "metadata": {},
     "output_type": "execute_result"
    }
   ],
   "source": [
    "train.loc[outlier]['GrLivArea']"
   ]
  },
  {
   "cell_type": "markdown",
   "metadata": {
    "colab_type": "text",
    "id": "yvHLsyW1tFgE"
   },
   "source": [
    "## Feature Engineering: 새로운 feature 생성"
   ]
  },
  {
   "cell_type": "markdown",
   "metadata": {
    "colab_type": "text",
    "id": "3Ve1E6tMtFgE"
   },
   "source": [
    "다음 7개의 column은 한마디로 집의 옵션과 같은 개념입니다.\n",
    "\n",
    "아무래도 옵션이 존재하면 높은 집값의 요인이 될 수 있고, 옵션이 빠진다면, 집값이 비교적 낮겠죠.\n",
    "\n",
    "0은 옵션이 없다고 해석할 수 있고, 0 이상의 값은 옵션이 존재한다는 의미라고 해석할 수 있습니다.\n",
    "\n",
    "아래 6개의 column에 대하여 옵션의 존재 유무에 대한 기존의 column은 유지하되, **새로운 column**을 만들어 존재하면 1, 없으면 0으로 구성된 column을 새롭게 만들어 주세요\n",
    "\n",
    "* WoodDeckSF\n",
    "* OpenPorchSF\n",
    "* EnclosedPorch\n",
    "* 3SsnPorch\n",
    "* ScreenPorch\n",
    "* PoolArea\n",
    "* Fireplaces\n",
    "\n",
    "**WoodDeckSF**에 대한 샘플 코드를 참고해주세요"
   ]
  },
  {
   "cell_type": "markdown",
   "metadata": {
    "colab_type": "text",
    "id": "7sBluGxUtFgE"
   },
   "source": [
    "### Q8. 위에 명시한 7개의 column에 대하여 아래 샘플 코드와 같이 새로운 feature를 생성해 주세요."
   ]
  },
  {
   "cell_type": "code",
   "execution_count": 40,
   "metadata": {
    "ExecuteTime": {
     "end_time": "2020-12-17T12:13:28.217453Z",
     "start_time": "2020-12-17T12:13:28.211452Z"
    },
    "colab": {},
    "colab_type": "code",
    "id": "419fOylvtFgF"
   },
   "outputs": [],
   "source": [
    "# 샘플코드\n",
    "all_data['WoodDeckSF_bool'] = all_data['WoodDeckSF'].apply(lambda x: 1 if x > 0 else 0)"
   ]
  },
  {
   "cell_type": "code",
   "execution_count": 41,
   "metadata": {
    "ExecuteTime": {
     "end_time": "2020-12-17T12:13:28.637636Z",
     "start_time": "2020-12-17T12:13:28.612631Z"
    },
    "colab": {},
    "colab_type": "code",
    "id": "Ujfe3yjJtFgG"
   },
   "outputs": [],
   "source": [
    "# 이곳에 코드를 입력해 주세요\n",
    "all_data['OpenPorchSF_bool'] = all_data['OpenPorchSF'].apply(lambda x: 1 if x > 0 else 0)\n",
    "all_data['EnclosedPorch_bool'] = all_data['EnclosedPorch'].apply(lambda x: 1 if x > 0 else 0)\n",
    "all_data['3SsnPorch_bool'] = all_data['3SsnPorch'].apply(lambda x: 1 if x > 0 else 0)\n",
    "all_data['ScreenPorch_bool'] = all_data['ScreenPorch'].apply(lambda x: 1 if x > 0 else 0)\n",
    "all_data['PoolArea_bool'] = all_data['PoolArea'].apply(lambda x: 1 if x > 0 else 0)\n",
    "all_data['Fireplaces_bool'] = all_data['Fireplaces'].apply(lambda x: 1 if x > 0 else 0)"
   ]
  },
  {
   "cell_type": "code",
   "execution_count": 42,
   "metadata": {
    "ExecuteTime": {
     "end_time": "2020-12-17T12:13:35.526549Z",
     "start_time": "2020-12-17T12:13:35.524557Z"
    }
   },
   "outputs": [
    {
     "data": {
      "text/plain": [
       "(2919, 86)"
      ]
     },
     "execution_count": 42,
     "metadata": {},
     "output_type": "execute_result"
    }
   ],
   "source": [
    "all_data.shape"
   ]
  },
  {
   "cell_type": "markdown",
   "metadata": {
    "colab_type": "text",
    "id": "E8R70YB-tFgJ"
   },
   "source": [
    "## Feature Engineering: 소수 데이터를 다수로 치환"
   ]
  },
  {
   "cell_type": "markdown",
   "metadata": {
    "colab_type": "text",
    "id": "tVhEXKSptFgK"
   },
   "source": [
    "소수 값을 가진 데이터들이 있습니다. 예를 들면, `MiscFeature` column의 `TenC` 값은 단 1개의 row 밖에 없습니다.\n",
    "\n",
    "소수의 값을 가진 데이터들이 존재하면, 전체 트렌드를 파악해야하는 model의 성능을 떨어뜨릴 수 있습니다.\n",
    "\n",
    "그래서, 소수 데이터를 우리는 다른 다수의 값으로 치환될 수 있도록 하겠습니다."
   ]
  },
  {
   "cell_type": "code",
   "execution_count": 43,
   "metadata": {
    "ExecuteTime": {
     "end_time": "2020-12-17T12:13:36.688098Z",
     "start_time": "2020-12-17T12:13:36.668093Z"
    },
    "colab": {},
    "colab_type": "code",
    "id": "1-abjZpEtFgL",
    "outputId": "6cb31f92-0f11-46dd-a150-ff9e7150d6ea"
   },
   "outputs": [
    {
     "data": {
      "text/html": [
       "<div>\n",
       "<style scoped>\n",
       "    .dataframe tbody tr th:only-of-type {\n",
       "        vertical-align: middle;\n",
       "    }\n",
       "\n",
       "    .dataframe tbody tr th {\n",
       "        vertical-align: top;\n",
       "    }\n",
       "\n",
       "    .dataframe thead th {\n",
       "        text-align: right;\n",
       "    }\n",
       "</style>\n",
       "<table border=\"1\" class=\"dataframe\">\n",
       "  <thead>\n",
       "    <tr style=\"text-align: right;\">\n",
       "      <th></th>\n",
       "      <th>MSSubClass</th>\n",
       "      <th>MSZoning</th>\n",
       "      <th>LotFrontage</th>\n",
       "      <th>LotArea</th>\n",
       "      <th>Street</th>\n",
       "      <th>Alley</th>\n",
       "      <th>LotShape</th>\n",
       "      <th>LandContour</th>\n",
       "      <th>Utilities</th>\n",
       "      <th>LotConfig</th>\n",
       "      <th>...</th>\n",
       "      <th>YrSold</th>\n",
       "      <th>SaleType</th>\n",
       "      <th>SaleCondition</th>\n",
       "      <th>WoodDeckSF_bool</th>\n",
       "      <th>OpenPorchSF_bool</th>\n",
       "      <th>EnclosedPorch_bool</th>\n",
       "      <th>3SsnPorch_bool</th>\n",
       "      <th>ScreenPorch_bool</th>\n",
       "      <th>PoolArea_bool</th>\n",
       "      <th>Fireplaces_bool</th>\n",
       "    </tr>\n",
       "  </thead>\n",
       "  <tbody>\n",
       "    <tr>\n",
       "      <th>1386</th>\n",
       "      <td>60</td>\n",
       "      <td>RL</td>\n",
       "      <td>80.0</td>\n",
       "      <td>16692</td>\n",
       "      <td>Pave</td>\n",
       "      <td>None</td>\n",
       "      <td>IR1</td>\n",
       "      <td>Lvl</td>\n",
       "      <td>AllPub</td>\n",
       "      <td>Inside</td>\n",
       "      <td>...</td>\n",
       "      <td>2006</td>\n",
       "      <td>WD</td>\n",
       "      <td>Normal</td>\n",
       "      <td>0</td>\n",
       "      <td>1</td>\n",
       "      <td>0</td>\n",
       "      <td>0</td>\n",
       "      <td>1</td>\n",
       "      <td>1</td>\n",
       "      <td>1</td>\n",
       "    </tr>\n",
       "  </tbody>\n",
       "</table>\n",
       "<p>1 rows × 86 columns</p>\n",
       "</div>"
      ],
      "text/plain": [
       "      MSSubClass MSZoning  LotFrontage  LotArea Street Alley LotShape  \\\n",
       "1386          60       RL         80.0    16692   Pave  None      IR1   \n",
       "\n",
       "     LandContour Utilities LotConfig  ... YrSold SaleType SaleCondition  \\\n",
       "1386         Lvl    AllPub    Inside  ...   2006       WD        Normal   \n",
       "\n",
       "     WoodDeckSF_bool OpenPorchSF_bool EnclosedPorch_bool  3SsnPorch_bool  \\\n",
       "1386               0                1                  0               0   \n",
       "\n",
       "      ScreenPorch_bool  PoolArea_bool  Fireplaces_bool  \n",
       "1386                 1              1                1  \n",
       "\n",
       "[1 rows x 86 columns]"
      ]
     },
     "execution_count": 43,
     "metadata": {},
     "output_type": "execute_result"
    }
   ],
   "source": [
    "all_data.loc[all_data['MiscFeature'] == 'TenC']"
   ]
  },
  {
   "cell_type": "markdown",
   "metadata": {
    "colab_type": "text",
    "id": "fKIMN4OQtFgM"
   },
   "source": [
    "`None` 값이 많은 ['Alley', 'MiscFeature'] 컬럼에 대해서는 값이 None이 아니면 1 None이면 0으로 바꿔주도록 하겠습니다."
   ]
  },
  {
   "cell_type": "code",
   "execution_count": 44,
   "metadata": {
    "ExecuteTime": {
     "end_time": "2020-12-17T12:13:40.278239Z",
     "start_time": "2020-12-17T12:13:40.260236Z"
    },
    "colab": {},
    "colab_type": "code",
    "id": "by1XqBjRtFgM",
    "outputId": "a51937c9-fa11-43c9-930e-20df06397ee0"
   },
   "outputs": [
    {
     "data": {
      "text/plain": [
       "None    2721\n",
       "Grvl     120\n",
       "Pave      78\n",
       "Name: Alley, dtype: int64"
      ]
     },
     "execution_count": 44,
     "metadata": {},
     "output_type": "execute_result"
    }
   ],
   "source": [
    "all_data['Alley'].value_counts()"
   ]
  },
  {
   "cell_type": "code",
   "execution_count": 45,
   "metadata": {
    "ExecuteTime": {
     "end_time": "2020-12-17T12:13:40.458743Z",
     "start_time": "2020-12-17T12:13:40.443747Z"
    },
    "colab": {},
    "colab_type": "code",
    "id": "XqAH3TKTtFgP",
    "outputId": "8f853e5f-ba48-48a7-a0a1-d160a6dfd6a1"
   },
   "outputs": [
    {
     "data": {
      "text/plain": [
       "None    2814\n",
       "Shed      95\n",
       "Gar2       5\n",
       "Othr       4\n",
       "TenC       1\n",
       "Name: MiscFeature, dtype: int64"
      ]
     },
     "execution_count": 45,
     "metadata": {},
     "output_type": "execute_result"
    }
   ],
   "source": [
    "all_data['MiscFeature'].value_counts()"
   ]
  },
  {
   "cell_type": "code",
   "execution_count": 46,
   "metadata": {
    "ExecuteTime": {
     "end_time": "2020-12-17T12:13:40.638624Z",
     "start_time": "2020-12-17T12:13:40.628622Z"
    },
    "colab": {},
    "colab_type": "code",
    "id": "zAzBP40BtFgR"
   },
   "outputs": [],
   "source": [
    "# 샘플코드\n",
    "all_data['Alley_bool'] = all_data['Alley'].apply(lambda x: 0 if x == 'None' else 1)\n",
    "all_data['MiscFeature_bool'] = all_data['MiscFeature'].apply(lambda x: 0 if x == 'None' else 1)"
   ]
  },
  {
   "cell_type": "markdown",
   "metadata": {
    "colab_type": "text",
    "id": "TLl6-iXrtFgS"
   },
   "source": [
    "### Q9. 소수 값을 가진 데이터 바꾸기"
   ]
  },
  {
   "cell_type": "markdown",
   "metadata": {
    "colab_type": "text",
    "id": "tg7758yBtFgS"
   },
   "source": [
    "그 밖에 소수의 값들로 이루어진 데이터는 새로운 데이터 그룹을 만들어 치환하도록 하겠습니다.\n",
    "\n",
    "예를 들면, `Functional` column 에서 `Typ`가 주를 이루고 있는데, `Typ`가 아닌 값들은 `Other`로 바꿔보겠습니다."
   ]
  },
  {
   "cell_type": "code",
   "execution_count": 47,
   "metadata": {
    "ExecuteTime": {
     "end_time": "2020-12-17T12:13:41.481909Z",
     "start_time": "2020-12-17T12:13:41.467906Z"
    },
    "colab": {},
    "colab_type": "code",
    "id": "xxyI1bV8tFgT",
    "outputId": "c54e470a-0f30-4533-a41d-f163c07d7dd6"
   },
   "outputs": [
    {
     "data": {
      "text/plain": [
       "Typ     2717\n",
       "Min2      70\n",
       "Min1      65\n",
       "Mod       35\n",
       "Maj1      19\n",
       "Maj2       9\n",
       "Sev        2\n",
       "None       2\n",
       "Name: Functional, dtype: int64"
      ]
     },
     "execution_count": 47,
     "metadata": {},
     "output_type": "execute_result"
    }
   ],
   "source": [
    "all_data['Functional'].value_counts()"
   ]
  },
  {
   "cell_type": "markdown",
   "metadata": {
    "colab_type": "text",
    "id": "d-berz2gtFgU"
   },
   "source": [
    "위의 샘플 코드를 참고하여, `Functional` 컬럼의 값이 **Typ** 이 아닌 값은 **Other**로 치환해 주세요.."
   ]
  },
  {
   "cell_type": "code",
   "execution_count": 48,
   "metadata": {
    "ExecuteTime": {
     "end_time": "2020-12-17T12:13:50.028412Z",
     "start_time": "2020-12-17T12:13:50.012410Z"
    },
    "colab": {},
    "colab_type": "code",
    "id": "LGquJbzWtFgU"
   },
   "outputs": [],
   "source": [
    "# 코드를 입력해 주세요\n",
    "all_data['Functional'] = all_data['Functional'].apply(lambda x: 'Typ' if x == 'Typ' else 'Other')"
   ]
  },
  {
   "cell_type": "code",
   "execution_count": 49,
   "metadata": {
    "ExecuteTime": {
     "end_time": "2020-12-17T12:13:50.284126Z",
     "start_time": "2020-12-17T12:13:50.269130Z"
    }
   },
   "outputs": [
    {
     "data": {
      "text/plain": [
       "Typ      2717\n",
       "Other     202\n",
       "Name: Functional, dtype: int64"
      ]
     },
     "execution_count": 49,
     "metadata": {},
     "output_type": "execute_result"
    }
   ],
   "source": [
    "all_data['Functional'].value_counts()"
   ]
  },
  {
   "cell_type": "code",
   "execution_count": 50,
   "metadata": {
    "ExecuteTime": {
     "end_time": "2020-12-17T12:13:50.569122Z",
     "start_time": "2020-12-17T12:13:50.557120Z"
    }
   },
   "outputs": [],
   "source": [
    "# All_data 추적_질의응답_ver2.ipynb 에서 추가 함\n",
    "all_data['Electrical'] = all_data['Electrical'].apply(lambda x: x if x == 'SBrkr' else 'Fuse')\n",
    "all_data['RoofMatl'] = all_data['RoofMatl'].apply(lambda x: x if x == 'CompShg' else 'Other')\n",
    "all_data['GarageQual'] = all_data['GarageQual'].apply(lambda x: x if x == 'TA' else 'Other')\n",
    "ext_other = [\n",
    "    'Stone',\n",
    "    'AsphShn',\n",
    "    'Other',\n",
    "    'CBlock',\n",
    "    'ImStucc',\n",
    "    'Brk Cmn',\n",
    "    'BrkComm',\n",
    "    'None',\n",
    "]\n",
    "saletype_other = [\n",
    "    'ConLD',\n",
    "    'ConLw',\n",
    "    'ConLI',\n",
    "    'CWD',\n",
    "    'Oth',\n",
    "    'Con',\n",
    "    'None'\n",
    "]\n",
    "\n",
    "all_data['Exterior1st'] = all_data['Exterior1st'].apply(lambda x: 'Other' if x in ext_other else x)\n",
    "all_data['Exterior2nd'] = all_data['Exterior2nd'].apply(lambda x: 'Other' if x in ext_other else x)\n",
    "\n",
    "all_data['SaleType'] = all_data['SaleType'].apply(lambda x: x if x not in saletype_other else 'Other')"
   ]
  },
  {
   "cell_type": "markdown",
   "metadata": {
    "colab_type": "text",
    "id": "CN1wfQJGtFgh"
   },
   "source": [
    "## Feature Engineering: 새로운 feature 생성 (column 간 연산)"
   ]
  },
  {
   "cell_type": "markdown",
   "metadata": {
    "colab_type": "text",
    "id": "9p8vFVi1tFgh"
   },
   "source": [
    "1층 화장실의 갯수와 2층 화장실의 갯수를 더해서 전체 화장실을 구해볼 수 있거나,\n",
    "\n",
    "구역별 면적을 더해서 전체 집의 면적을 나타내는 column을 생성할 수 있습니다."
   ]
  },
  {
   "cell_type": "markdown",
   "metadata": {
    "colab_type": "text",
    "id": "VI9GZjqRtFgh"
   },
   "source": [
    "### Q10-1. total_area"
   ]
  },
  {
   "cell_type": "markdown",
   "metadata": {
    "colab_type": "text",
    "id": "EO9CIAeUtFgh"
   },
   "source": [
    "* 새로운 `total_area` column을 생성하고 ['BsmtFinSF1', 'BsmtFinSF2', '1stFlrSF', '2ndFlrSF'] column의 값을 모두 합산한 값을 대입해 주세요"
   ]
  },
  {
   "cell_type": "code",
   "execution_count": 51,
   "metadata": {
    "ExecuteTime": {
     "end_time": "2020-12-17T12:13:53.799786Z",
     "start_time": "2020-12-17T12:13:53.788784Z"
    }
   },
   "outputs": [],
   "source": [
    "all_data_backup = all_data.copy"
   ]
  },
  {
   "cell_type": "code",
   "execution_count": 52,
   "metadata": {
    "ExecuteTime": {
     "end_time": "2020-12-17T12:13:56.717815Z",
     "start_time": "2020-12-17T12:13:56.709814Z"
    },
    "colab": {},
    "colab_type": "code",
    "id": "z9GxDfv1tFgi"
   },
   "outputs": [],
   "source": [
    "# 이곳에 코드를 입력해 주세요\n",
    "all_data['total_area'] = all_data['BsmtFinSF1'] + all_data['BsmtFinSF2'] + all_data['1stFlrSF'] + all_data['2ndFlrSF']"
   ]
  },
  {
   "cell_type": "code",
   "execution_count": 53,
   "metadata": {
    "ExecuteTime": {
     "end_time": "2020-12-17T12:13:56.942373Z",
     "start_time": "2020-12-17T12:13:56.925369Z"
    }
   },
   "outputs": [
    {
     "data": {
      "text/html": [
       "<div>\n",
       "<style scoped>\n",
       "    .dataframe tbody tr th:only-of-type {\n",
       "        vertical-align: middle;\n",
       "    }\n",
       "\n",
       "    .dataframe tbody tr th {\n",
       "        vertical-align: top;\n",
       "    }\n",
       "\n",
       "    .dataframe thead th {\n",
       "        text-align: right;\n",
       "    }\n",
       "</style>\n",
       "<table border=\"1\" class=\"dataframe\">\n",
       "  <thead>\n",
       "    <tr style=\"text-align: right;\">\n",
       "      <th></th>\n",
       "      <th>total_area</th>\n",
       "      <th>BsmtFinSF1</th>\n",
       "      <th>BsmtFinSF2</th>\n",
       "      <th>1stFlrSF</th>\n",
       "      <th>2ndFlrSF</th>\n",
       "    </tr>\n",
       "  </thead>\n",
       "  <tbody>\n",
       "    <tr>\n",
       "      <th>0</th>\n",
       "      <td>2416.0</td>\n",
       "      <td>706.0</td>\n",
       "      <td>0.0</td>\n",
       "      <td>856</td>\n",
       "      <td>854</td>\n",
       "    </tr>\n",
       "    <tr>\n",
       "      <th>1</th>\n",
       "      <td>2240.0</td>\n",
       "      <td>978.0</td>\n",
       "      <td>0.0</td>\n",
       "      <td>1262</td>\n",
       "      <td>0</td>\n",
       "    </tr>\n",
       "    <tr>\n",
       "      <th>2</th>\n",
       "      <td>2272.0</td>\n",
       "      <td>486.0</td>\n",
       "      <td>0.0</td>\n",
       "      <td>920</td>\n",
       "      <td>866</td>\n",
       "    </tr>\n",
       "    <tr>\n",
       "      <th>3</th>\n",
       "      <td>1933.0</td>\n",
       "      <td>216.0</td>\n",
       "      <td>0.0</td>\n",
       "      <td>961</td>\n",
       "      <td>756</td>\n",
       "    </tr>\n",
       "    <tr>\n",
       "      <th>4</th>\n",
       "      <td>2853.0</td>\n",
       "      <td>655.0</td>\n",
       "      <td>0.0</td>\n",
       "      <td>1145</td>\n",
       "      <td>1053</td>\n",
       "    </tr>\n",
       "  </tbody>\n",
       "</table>\n",
       "</div>"
      ],
      "text/plain": [
       "   total_area  BsmtFinSF1  BsmtFinSF2  1stFlrSF  2ndFlrSF\n",
       "0      2416.0       706.0         0.0       856       854\n",
       "1      2240.0       978.0         0.0      1262         0\n",
       "2      2272.0       486.0         0.0       920       866\n",
       "3      1933.0       216.0         0.0       961       756\n",
       "4      2853.0       655.0         0.0      1145      1053"
      ]
     },
     "execution_count": 53,
     "metadata": {},
     "output_type": "execute_result"
    }
   ],
   "source": [
    "all_data[['total_area', 'BsmtFinSF1', 'BsmtFinSF2', '1stFlrSF', '2ndFlrSF']].head()"
   ]
  },
  {
   "cell_type": "markdown",
   "metadata": {
    "colab_type": "text",
    "id": "RwNpY0t3tFgl"
   },
   "source": [
    "### Q10-2. other_area"
   ]
  },
  {
   "cell_type": "markdown",
   "metadata": {
    "colab_type": "text",
    "id": "dBKJZa78tFgl"
   },
   "source": [
    "* WoodDeckSF\n",
    "* OpenPorchSF\n",
    "* EnclosedPorch\n",
    "* 3SsnPorch\n",
    "* ScreenPorch\n",
    "\n",
    "컬럼들에 대한 총 면적을 구하는 새로운 `other_area` 컬럼을 생성해 주세요"
   ]
  },
  {
   "cell_type": "code",
   "execution_count": 54,
   "metadata": {
    "ExecuteTime": {
     "end_time": "2020-12-17T12:13:58.163266Z",
     "start_time": "2020-12-17T12:13:58.146263Z"
    },
    "colab": {},
    "colab_type": "code",
    "id": "iJgjQwuatFgl"
   },
   "outputs": [],
   "source": [
    "# 이곳에 코드를 입력해 주세요\n",
    "all_data['other_area'] = all_data['WoodDeckSF'] + all_data['OpenPorchSF'] + all_data['EnclosedPorch'] \\\n",
    "                        + all_data['3SsnPorch'] + all_data['ScreenPorch']"
   ]
  },
  {
   "cell_type": "code",
   "execution_count": 55,
   "metadata": {
    "ExecuteTime": {
     "end_time": "2020-12-17T12:14:01.339185Z",
     "start_time": "2020-12-17T12:14:01.319181Z"
    }
   },
   "outputs": [
    {
     "data": {
      "text/html": [
       "<div>\n",
       "<style scoped>\n",
       "    .dataframe tbody tr th:only-of-type {\n",
       "        vertical-align: middle;\n",
       "    }\n",
       "\n",
       "    .dataframe tbody tr th {\n",
       "        vertical-align: top;\n",
       "    }\n",
       "\n",
       "    .dataframe thead th {\n",
       "        text-align: right;\n",
       "    }\n",
       "</style>\n",
       "<table border=\"1\" class=\"dataframe\">\n",
       "  <thead>\n",
       "    <tr style=\"text-align: right;\">\n",
       "      <th></th>\n",
       "      <th>other_area</th>\n",
       "      <th>WoodDeckSF</th>\n",
       "      <th>OpenPorchSF</th>\n",
       "      <th>EnclosedPorch</th>\n",
       "      <th>3SsnPorch</th>\n",
       "      <th>ScreenPorch</th>\n",
       "    </tr>\n",
       "  </thead>\n",
       "  <tbody>\n",
       "    <tr>\n",
       "      <th>0</th>\n",
       "      <td>61</td>\n",
       "      <td>0</td>\n",
       "      <td>61</td>\n",
       "      <td>0</td>\n",
       "      <td>0</td>\n",
       "      <td>0</td>\n",
       "    </tr>\n",
       "    <tr>\n",
       "      <th>1</th>\n",
       "      <td>298</td>\n",
       "      <td>298</td>\n",
       "      <td>0</td>\n",
       "      <td>0</td>\n",
       "      <td>0</td>\n",
       "      <td>0</td>\n",
       "    </tr>\n",
       "    <tr>\n",
       "      <th>2</th>\n",
       "      <td>42</td>\n",
       "      <td>0</td>\n",
       "      <td>42</td>\n",
       "      <td>0</td>\n",
       "      <td>0</td>\n",
       "      <td>0</td>\n",
       "    </tr>\n",
       "    <tr>\n",
       "      <th>3</th>\n",
       "      <td>307</td>\n",
       "      <td>0</td>\n",
       "      <td>35</td>\n",
       "      <td>272</td>\n",
       "      <td>0</td>\n",
       "      <td>0</td>\n",
       "    </tr>\n",
       "    <tr>\n",
       "      <th>4</th>\n",
       "      <td>276</td>\n",
       "      <td>192</td>\n",
       "      <td>84</td>\n",
       "      <td>0</td>\n",
       "      <td>0</td>\n",
       "      <td>0</td>\n",
       "    </tr>\n",
       "  </tbody>\n",
       "</table>\n",
       "</div>"
      ],
      "text/plain": [
       "   other_area  WoodDeckSF  OpenPorchSF  EnclosedPorch  3SsnPorch  ScreenPorch\n",
       "0          61           0           61              0          0            0\n",
       "1         298         298            0              0          0            0\n",
       "2          42           0           42              0          0            0\n",
       "3         307           0           35            272          0            0\n",
       "4         276         192           84              0          0            0"
      ]
     },
     "execution_count": 55,
     "metadata": {},
     "output_type": "execute_result"
    }
   ],
   "source": [
    "all_data[['other_area', 'WoodDeckSF', 'OpenPorchSF', 'EnclosedPorch', '3SsnPorch', 'ScreenPorch']].head()"
   ]
  },
  {
   "cell_type": "markdown",
   "metadata": {
    "colab_type": "text",
    "id": "GKHC7PLBtFgo"
   },
   "source": [
    "### Q10-3. 화장실 (fullbath / halfbath)의 갯수에 대한 합산 값 컬럼을 생성해 주세요"
   ]
  },
  {
   "cell_type": "markdown",
   "metadata": {
    "colab_type": "text",
    "id": "D1fPz1gItFgo"
   },
   "source": [
    "* 새로운 `fullbath` column을 생성하고 ['BsmtFullBath', 'FullBath'] column의 값을 모두 합산한 값을 대입해 주세요\n",
    "* 새로운 `halfbath` column을 생성하고 ['HalfBath', 'BsmtHalfBath'] column의 값을 모두 합산한 값을 대입해 주세요"
   ]
  },
  {
   "cell_type": "code",
   "execution_count": 56,
   "metadata": {
    "ExecuteTime": {
     "end_time": "2020-12-17T12:14:04.504320Z",
     "start_time": "2020-12-17T12:14:04.501326Z"
    },
    "colab": {},
    "colab_type": "code",
    "id": "BgshvlLOtFgo"
   },
   "outputs": [],
   "source": [
    "# 이곳에 코드를 입력해 주세요\n",
    "all_data['fullbath'] = all_data['BsmtFullBath'] + all_data['FullBath']"
   ]
  },
  {
   "cell_type": "code",
   "execution_count": 57,
   "metadata": {
    "ExecuteTime": {
     "end_time": "2020-12-17T12:14:04.985548Z",
     "start_time": "2020-12-17T12:14:04.967552Z"
    }
   },
   "outputs": [
    {
     "data": {
      "text/html": [
       "<div>\n",
       "<style scoped>\n",
       "    .dataframe tbody tr th:only-of-type {\n",
       "        vertical-align: middle;\n",
       "    }\n",
       "\n",
       "    .dataframe tbody tr th {\n",
       "        vertical-align: top;\n",
       "    }\n",
       "\n",
       "    .dataframe thead th {\n",
       "        text-align: right;\n",
       "    }\n",
       "</style>\n",
       "<table border=\"1\" class=\"dataframe\">\n",
       "  <thead>\n",
       "    <tr style=\"text-align: right;\">\n",
       "      <th></th>\n",
       "      <th>fullbath</th>\n",
       "      <th>BsmtFullBath</th>\n",
       "      <th>FullBath</th>\n",
       "    </tr>\n",
       "  </thead>\n",
       "  <tbody>\n",
       "    <tr>\n",
       "      <th>0</th>\n",
       "      <td>3.0</td>\n",
       "      <td>1.0</td>\n",
       "      <td>2</td>\n",
       "    </tr>\n",
       "    <tr>\n",
       "      <th>1</th>\n",
       "      <td>2.0</td>\n",
       "      <td>0.0</td>\n",
       "      <td>2</td>\n",
       "    </tr>\n",
       "    <tr>\n",
       "      <th>2</th>\n",
       "      <td>3.0</td>\n",
       "      <td>1.0</td>\n",
       "      <td>2</td>\n",
       "    </tr>\n",
       "    <tr>\n",
       "      <th>3</th>\n",
       "      <td>2.0</td>\n",
       "      <td>1.0</td>\n",
       "      <td>1</td>\n",
       "    </tr>\n",
       "    <tr>\n",
       "      <th>4</th>\n",
       "      <td>3.0</td>\n",
       "      <td>1.0</td>\n",
       "      <td>2</td>\n",
       "    </tr>\n",
       "  </tbody>\n",
       "</table>\n",
       "</div>"
      ],
      "text/plain": [
       "   fullbath  BsmtFullBath  FullBath\n",
       "0       3.0           1.0         2\n",
       "1       2.0           0.0         2\n",
       "2       3.0           1.0         2\n",
       "3       2.0           1.0         1\n",
       "4       3.0           1.0         2"
      ]
     },
     "execution_count": 57,
     "metadata": {},
     "output_type": "execute_result"
    }
   ],
   "source": [
    "all_data[['fullbath', 'BsmtFullBath', 'FullBath']].head()"
   ]
  },
  {
   "cell_type": "code",
   "execution_count": 58,
   "metadata": {
    "ExecuteTime": {
     "end_time": "2020-12-17T12:14:05.180385Z",
     "start_time": "2020-12-17T12:14:05.172384Z"
    }
   },
   "outputs": [],
   "source": [
    "all_data['halfbath'] = all_data['HalfBath'] + all_data['BsmtHalfBath']"
   ]
  },
  {
   "cell_type": "code",
   "execution_count": 59,
   "metadata": {
    "ExecuteTime": {
     "end_time": "2020-12-17T12:14:05.375430Z",
     "start_time": "2020-12-17T12:14:05.357426Z"
    }
   },
   "outputs": [
    {
     "data": {
      "text/html": [
       "<div>\n",
       "<style scoped>\n",
       "    .dataframe tbody tr th:only-of-type {\n",
       "        vertical-align: middle;\n",
       "    }\n",
       "\n",
       "    .dataframe tbody tr th {\n",
       "        vertical-align: top;\n",
       "    }\n",
       "\n",
       "    .dataframe thead th {\n",
       "        text-align: right;\n",
       "    }\n",
       "</style>\n",
       "<table border=\"1\" class=\"dataframe\">\n",
       "  <thead>\n",
       "    <tr style=\"text-align: right;\">\n",
       "      <th></th>\n",
       "      <th>halfbath</th>\n",
       "      <th>HalfBath</th>\n",
       "      <th>BsmtHalfBath</th>\n",
       "    </tr>\n",
       "  </thead>\n",
       "  <tbody>\n",
       "    <tr>\n",
       "      <th>0</th>\n",
       "      <td>1.0</td>\n",
       "      <td>1</td>\n",
       "      <td>0.0</td>\n",
       "    </tr>\n",
       "    <tr>\n",
       "      <th>1</th>\n",
       "      <td>1.0</td>\n",
       "      <td>0</td>\n",
       "      <td>1.0</td>\n",
       "    </tr>\n",
       "    <tr>\n",
       "      <th>2</th>\n",
       "      <td>1.0</td>\n",
       "      <td>1</td>\n",
       "      <td>0.0</td>\n",
       "    </tr>\n",
       "    <tr>\n",
       "      <th>3</th>\n",
       "      <td>0.0</td>\n",
       "      <td>0</td>\n",
       "      <td>0.0</td>\n",
       "    </tr>\n",
       "    <tr>\n",
       "      <th>4</th>\n",
       "      <td>1.0</td>\n",
       "      <td>1</td>\n",
       "      <td>0.0</td>\n",
       "    </tr>\n",
       "  </tbody>\n",
       "</table>\n",
       "</div>"
      ],
      "text/plain": [
       "   halfbath  HalfBath  BsmtHalfBath\n",
       "0       1.0         1           0.0\n",
       "1       1.0         0           1.0\n",
       "2       1.0         1           0.0\n",
       "3       0.0         0           0.0\n",
       "4       1.0         1           0.0"
      ]
     },
     "execution_count": 59,
     "metadata": {},
     "output_type": "execute_result"
    }
   ],
   "source": [
    "all_data[['halfbath', 'HalfBath', 'BsmtHalfBath']].head()"
   ]
  },
  {
   "cell_type": "markdown",
   "metadata": {
    "colab_type": "text",
    "id": "Z8KGLT2_tFgr"
   },
   "source": [
    "### Q10-4. GrLivArea, TotalBsmtSF, GarageArea에 대한 합산 값 컬럼을 생성해 주세요"
   ]
  },
  {
   "cell_type": "markdown",
   "metadata": {
    "colab_type": "text",
    "id": "k7KLA_QWtFgr"
   },
   "source": [
    "* 새로운 `GrLivArea_TotalBsmtSF_GarageArea_sum` column을 생성하고 ['GrLivArea', 'TotalBsmtSF', 'GarageArea'] column의 값을 모두 합산한 값을 대입해 주세요"
   ]
  },
  {
   "cell_type": "code",
   "execution_count": 60,
   "metadata": {
    "ExecuteTime": {
     "end_time": "2020-12-17T12:14:07.074792Z",
     "start_time": "2020-12-17T12:14:07.061790Z"
    },
    "colab": {},
    "colab_type": "code",
    "id": "KJzRASxwtFgr"
   },
   "outputs": [],
   "source": [
    "# 이곳에 코드를 입력해 주세요\n",
    "all_data['GrLivArea_TotalBsmtSF_GarageArea_sum'] = all_data['GrLivArea'] + all_data['TotalBsmtSF'] + all_data['GarageArea']"
   ]
  },
  {
   "cell_type": "code",
   "execution_count": 61,
   "metadata": {
    "ExecuteTime": {
     "end_time": "2020-12-17T12:14:07.314790Z",
     "start_time": "2020-12-17T12:14:07.301795Z"
    }
   },
   "outputs": [
    {
     "data": {
      "text/html": [
       "<div>\n",
       "<style scoped>\n",
       "    .dataframe tbody tr th:only-of-type {\n",
       "        vertical-align: middle;\n",
       "    }\n",
       "\n",
       "    .dataframe tbody tr th {\n",
       "        vertical-align: top;\n",
       "    }\n",
       "\n",
       "    .dataframe thead th {\n",
       "        text-align: right;\n",
       "    }\n",
       "</style>\n",
       "<table border=\"1\" class=\"dataframe\">\n",
       "  <thead>\n",
       "    <tr style=\"text-align: right;\">\n",
       "      <th></th>\n",
       "      <th>GrLivArea_TotalBsmtSF_GarageArea_sum</th>\n",
       "      <th>GrLivArea</th>\n",
       "      <th>TotalBsmtSF</th>\n",
       "      <th>GarageArea</th>\n",
       "    </tr>\n",
       "  </thead>\n",
       "  <tbody>\n",
       "    <tr>\n",
       "      <th>0</th>\n",
       "      <td>3114.0</td>\n",
       "      <td>1710</td>\n",
       "      <td>856.0</td>\n",
       "      <td>548.0</td>\n",
       "    </tr>\n",
       "    <tr>\n",
       "      <th>1</th>\n",
       "      <td>2984.0</td>\n",
       "      <td>1262</td>\n",
       "      <td>1262.0</td>\n",
       "      <td>460.0</td>\n",
       "    </tr>\n",
       "    <tr>\n",
       "      <th>2</th>\n",
       "      <td>3314.0</td>\n",
       "      <td>1786</td>\n",
       "      <td>920.0</td>\n",
       "      <td>608.0</td>\n",
       "    </tr>\n",
       "    <tr>\n",
       "      <th>3</th>\n",
       "      <td>3115.0</td>\n",
       "      <td>1717</td>\n",
       "      <td>756.0</td>\n",
       "      <td>642.0</td>\n",
       "    </tr>\n",
       "    <tr>\n",
       "      <th>4</th>\n",
       "      <td>4179.0</td>\n",
       "      <td>2198</td>\n",
       "      <td>1145.0</td>\n",
       "      <td>836.0</td>\n",
       "    </tr>\n",
       "  </tbody>\n",
       "</table>\n",
       "</div>"
      ],
      "text/plain": [
       "   GrLivArea_TotalBsmtSF_GarageArea_sum  GrLivArea  TotalBsmtSF  GarageArea\n",
       "0                                3114.0       1710        856.0       548.0\n",
       "1                                2984.0       1262       1262.0       460.0\n",
       "2                                3314.0       1786        920.0       608.0\n",
       "3                                3115.0       1717        756.0       642.0\n",
       "4                                4179.0       2198       1145.0       836.0"
      ]
     },
     "execution_count": 61,
     "metadata": {},
     "output_type": "execute_result"
    }
   ],
   "source": [
    "all_data[['GrLivArea_TotalBsmtSF_GarageArea_sum', 'GrLivArea', 'TotalBsmtSF', 'GarageArea']].head()"
   ]
  },
  {
   "cell_type": "markdown",
   "metadata": {
    "colab_type": "text",
    "id": "G7Y5YrCltFgu"
   },
   "source": [
    "### Q10-5. OverallCond & OverallQual 에 대한 합산 값 컬럼을 생성해 주세요"
   ]
  },
  {
   "cell_type": "markdown",
   "metadata": {
    "colab_type": "text",
    "id": "hptV1j1stFgu"
   },
   "source": [
    "* 새로운 `Overall_sum` column을 생성하고 ['OverallCond', 'OverallQual'] column의 값을 모두 합산한 값을 대입해 주세요"
   ]
  },
  {
   "cell_type": "code",
   "execution_count": 62,
   "metadata": {
    "ExecuteTime": {
     "end_time": "2020-12-17T12:14:08.855628Z",
     "start_time": "2020-12-17T12:14:08.844626Z"
    },
    "colab": {},
    "colab_type": "code",
    "id": "Ljf_JwpvtFgu"
   },
   "outputs": [],
   "source": [
    "# 이곳에 코드를 입력해 주세요\n",
    "all_data['Overall_sum'] = all_data['OverallCond'] + all_data['OverallQual']"
   ]
  },
  {
   "cell_type": "code",
   "execution_count": 63,
   "metadata": {
    "ExecuteTime": {
     "end_time": "2020-12-17T12:14:09.050846Z",
     "start_time": "2020-12-17T12:14:09.037842Z"
    }
   },
   "outputs": [
    {
     "data": {
      "text/html": [
       "<div>\n",
       "<style scoped>\n",
       "    .dataframe tbody tr th:only-of-type {\n",
       "        vertical-align: middle;\n",
       "    }\n",
       "\n",
       "    .dataframe tbody tr th {\n",
       "        vertical-align: top;\n",
       "    }\n",
       "\n",
       "    .dataframe thead th {\n",
       "        text-align: right;\n",
       "    }\n",
       "</style>\n",
       "<table border=\"1\" class=\"dataframe\">\n",
       "  <thead>\n",
       "    <tr style=\"text-align: right;\">\n",
       "      <th></th>\n",
       "      <th>Overall_sum</th>\n",
       "      <th>OverallCond</th>\n",
       "      <th>OverallQual</th>\n",
       "    </tr>\n",
       "  </thead>\n",
       "  <tbody>\n",
       "    <tr>\n",
       "      <th>0</th>\n",
       "      <td>12</td>\n",
       "      <td>5</td>\n",
       "      <td>7</td>\n",
       "    </tr>\n",
       "    <tr>\n",
       "      <th>1</th>\n",
       "      <td>14</td>\n",
       "      <td>8</td>\n",
       "      <td>6</td>\n",
       "    </tr>\n",
       "    <tr>\n",
       "      <th>2</th>\n",
       "      <td>12</td>\n",
       "      <td>5</td>\n",
       "      <td>7</td>\n",
       "    </tr>\n",
       "    <tr>\n",
       "      <th>3</th>\n",
       "      <td>12</td>\n",
       "      <td>5</td>\n",
       "      <td>7</td>\n",
       "    </tr>\n",
       "    <tr>\n",
       "      <th>4</th>\n",
       "      <td>13</td>\n",
       "      <td>5</td>\n",
       "      <td>8</td>\n",
       "    </tr>\n",
       "  </tbody>\n",
       "</table>\n",
       "</div>"
      ],
      "text/plain": [
       "   Overall_sum  OverallCond  OverallQual\n",
       "0           12            5            7\n",
       "1           14            8            6\n",
       "2           12            5            7\n",
       "3           12            5            7\n",
       "4           13            5            8"
      ]
     },
     "execution_count": 63,
     "metadata": {},
     "output_type": "execute_result"
    }
   ],
   "source": [
    "all_data[['Overall_sum', 'OverallCond', 'OverallQual']].head()"
   ]
  },
  {
   "cell_type": "markdown",
   "metadata": {
    "colab_type": "text",
    "id": "errbaI4XtFg0"
   },
   "source": [
    "## 정규화"
   ]
  },
  {
   "cell_type": "code",
   "execution_count": 64,
   "metadata": {
    "ExecuteTime": {
     "end_time": "2020-12-17T12:14:09.952204Z",
     "start_time": "2020-12-17T12:14:09.677138Z"
    },
    "colab": {},
    "colab_type": "code",
    "id": "4WnqWQHUtFg1",
    "outputId": "661d9472-4129-47c4-e6d1-a4ac92ca2804"
   },
   "outputs": [
    {
     "data": {
      "image/png": "[encoded data removed]",
      "text/plain": [
       "<Figure size 864x432 with 2 Axes>"
      ]
     },
     "metadata": {
      "needs_background": "light"
     },
     "output_type": "display_data"
    }
   ],
   "source": [
    "fig, axes = plt.subplots(1, 2)\n",
    "fig.set_size_inches(12, 6)\n",
    "sns.distplot(all_data['LotArea'], ax=axes[0])\n",
    "sns.distplot(np.log1p(all_data['LotArea']), ax=axes[1])\n",
    "plt.show()"
   ]
  },
  {
   "cell_type": "markdown",
   "metadata": {
    "colab_type": "text",
    "id": "yOWGv2J3tFg2"
   },
   "source": [
    "정규화(normalization)란 패턴 인식에서의 전처리의 일종으로 볼 수 있습니다.\n",
    "\n",
    "좌측 그래프는 왼쪽으로 치우진 분포를 나타내고, 우측 그래프는 일반적인 가우시안 분포와 유사한 형태를 나타냅니다.\n",
    "\n",
    "모델이 학습할 때, 특히 우리가 예측할 값(SalesPrice)에 대해서, 그리고 예측할 값과 선형관계인 수치형 column에 대하여 **log**를 취해줌으로써 보다 정교한 예측을 가능하게 합니다."
   ]
  },
  {
   "cell_type": "markdown",
   "metadata": {
    "colab_type": "text",
    "id": "JnI7VZy8tFg2"
   },
   "source": [
    "단, 주의해야할 점은 예측해야할 값인 (SalesPrice)에 대하여 **log**를 취해주었다면, 최종 값은 **exp** 메소드를 활용하여 원래 값으로 되돌려 놓는 작업이 필요합니다."
   ]
  },
  {
   "cell_type": "markdown",
   "metadata": {
    "colab_type": "text",
    "id": "KTO8zySrtFg2"
   },
   "source": [
    "아래 **예시**를 통해 확인해보시죠."
   ]
  },
  {
   "cell_type": "code",
   "execution_count": 65,
   "metadata": {
    "ExecuteTime": {
     "end_time": "2020-12-17T12:14:10.493302Z",
     "start_time": "2020-12-17T12:14:10.477299Z"
    },
    "colab": {},
    "colab_type": "code",
    "id": "p7g9D9CntFg2"
   },
   "outputs": [],
   "source": [
    "# 150 이라는 숫자를 log로 변환\n",
    "log_num = np.log(150)"
   ]
  },
  {
   "cell_type": "code",
   "execution_count": 66,
   "metadata": {
    "ExecuteTime": {
     "end_time": "2020-12-17T12:14:10.688927Z",
     "start_time": "2020-12-17T12:14:10.677924Z"
    },
    "colab": {},
    "colab_type": "code",
    "id": "EPOSWBeMtFg3",
    "outputId": "42e36d65-58f7-4ac9-87e7-faf9ccdd5514"
   },
   "outputs": [
    {
     "data": {
      "text/plain": [
       "5.0106352940962555"
      ]
     },
     "execution_count": 66,
     "metadata": {},
     "output_type": "execute_result"
    }
   ],
   "source": [
    "log_num"
   ]
  },
  {
   "cell_type": "markdown",
   "metadata": {
    "colab_type": "text",
    "id": "9iZUw-WBtFg4"
   },
   "source": [
    "log_num을 다시 **150**으로 변환하려면 np.exp(log_num)으로 돌릴 수 있습니다."
   ]
  },
  {
   "cell_type": "code",
   "execution_count": 67,
   "metadata": {
    "ExecuteTime": {
     "end_time": "2020-12-17T12:14:11.063925Z",
     "start_time": "2020-12-17T12:14:11.052923Z"
    },
    "colab": {},
    "colab_type": "code",
    "id": "2Ys636EwtFg4",
    "outputId": "2a1ab250-0fd1-405a-d098-5bfd8c2eb37b"
   },
   "outputs": [
    {
     "data": {
      "text/plain": [
       "149.99999999999997"
      ]
     },
     "execution_count": 67,
     "metadata": {},
     "output_type": "execute_result"
    }
   ],
   "source": [
    "# log_num을 원래 150으로 변환\n",
    "np.exp(log_num)"
   ]
  },
  {
   "cell_type": "markdown",
   "metadata": {
    "colab_type": "text",
    "id": "hkuSwZi2tFg5"
   },
   "source": [
    "하지만, 문제가 하나 있습니다."
   ]
  },
  {
   "cell_type": "code",
   "execution_count": 68,
   "metadata": {
    "ExecuteTime": {
     "end_time": "2020-12-17T12:14:11.469190Z",
     "start_time": "2020-12-17T12:14:11.399176Z"
    },
    "colab": {},
    "colab_type": "code",
    "id": "WtrOx-KrtFg5",
    "outputId": "53f7167d-4ee6-466c-d671-536c66525200"
   },
   "outputs": [
    {
     "data": {
      "text/plain": [
       "[<matplotlib.lines.Line2D at 0x157cff8a7b8>]"
      ]
     },
     "execution_count": 68,
     "metadata": {},
     "output_type": "execute_result"
    },
    {
     "data": {
      "image/png": "[encoded data removed]",
      "text/plain": [
       "<Figure size 432x288 with 1 Axes>"
      ]
     },
     "metadata": {
      "needs_background": "light"
     },
     "output_type": "display_data"
    }
   ],
   "source": [
    "x = np.linspace(0, 1.5, 10000)\n",
    "y = np.log(x)\n",
    "plt.plot(x, y)"
   ]
  },
  {
   "cell_type": "markdown",
   "metadata": {
    "colab_type": "text",
    "id": "FgKP9UXKtFg6"
   },
   "source": [
    "여기서 문제는 X 값이 0에 가까워지면 -무한대의 Y를 가지게 됩니다.\n",
    "\n",
    "SalePrice 값이 만약 0이라면, log로 변환된 값은 -무한대의 값이 나와버려 오류가 생깁니다.\n",
    "\n",
    "그래서 우리는 변환하기 전에 1을 더하여 변환시 -무한대의 값이 나오는 것을 방지할 수 있습니다.\n",
    "\n",
    "바로 그 메소드가 `np.log1p()` 입니다."
   ]
  },
  {
   "cell_type": "code",
   "execution_count": 69,
   "metadata": {
    "ExecuteTime": {
     "end_time": "2020-12-17T12:14:11.723979Z",
     "start_time": "2020-12-17T12:14:11.716978Z"
    },
    "colab": {},
    "colab_type": "code",
    "id": "6B3jTVYztFg6"
   },
   "outputs": [],
   "source": [
    "# 150 이라는 숫자를 log로 변환\n",
    "log_num = np.log1p(150)"
   ]
  },
  {
   "cell_type": "code",
   "execution_count": 70,
   "metadata": {
    "ExecuteTime": {
     "end_time": "2020-12-17T12:14:11.904057Z",
     "start_time": "2020-12-17T12:14:11.890054Z"
    },
    "colab": {},
    "colab_type": "code",
    "id": "J48es8nhtFg7",
    "outputId": "447e2d8f-91bd-4d8d-8a7f-3a012949a4c2"
   },
   "outputs": [
    {
     "data": {
      "text/plain": [
       "5.017279836814924"
      ]
     },
     "execution_count": 70,
     "metadata": {},
     "output_type": "execute_result"
    }
   ],
   "source": [
    "log_num"
   ]
  },
  {
   "cell_type": "markdown",
   "metadata": {
    "colab_type": "text",
    "id": "q5x561MktFg9"
   },
   "source": [
    "되돌리기 위해서는 `np.expm1()`을 사용합니다."
   ]
  },
  {
   "cell_type": "code",
   "execution_count": 71,
   "metadata": {
    "ExecuteTime": {
     "end_time": "2020-12-17T12:14:12.399071Z",
     "start_time": "2020-12-17T12:14:12.389069Z"
    },
    "colab": {},
    "colab_type": "code",
    "id": "mdErohbOtFg9",
    "outputId": "2ad9433f-db03-4258-c0d4-ec86f216d57c"
   },
   "outputs": [
    {
     "data": {
      "text/plain": [
       "150.0"
      ]
     },
     "execution_count": 71,
     "metadata": {},
     "output_type": "execute_result"
    }
   ],
   "source": [
    "# log_num을 원래 150으로 변환\n",
    "np.expm1(log_num)"
   ]
  },
  {
   "cell_type": "code",
   "execution_count": 72,
   "metadata": {
    "ExecuteTime": {
     "end_time": "2020-12-17T12:14:12.639137Z",
     "start_time": "2020-12-17T12:14:12.567122Z"
    },
    "colab": {},
    "colab_type": "code",
    "id": "6jrtL1XRtFg-",
    "outputId": "eba532a0-55fe-4f8a-8b7c-6680578ca94b"
   },
   "outputs": [
    {
     "data": {
      "text/plain": [
       "[<matplotlib.lines.Line2D at 0x157cfff79e8>]"
      ]
     },
     "execution_count": 72,
     "metadata": {},
     "output_type": "execute_result"
    },
    {
     "data": {
      "image/png": "[encoded data removed]",
      "text/plain": [
       "<Figure size 432x288 with 1 Axes>"
      ]
     },
     "metadata": {
      "needs_background": "light"
     },
     "output_type": "display_data"
    }
   ],
   "source": [
    "x = np.linspace(0, 1.5, 10000)\n",
    "y = np.log1p(x)\n",
    "plt.plot(x, y)"
   ]
  },
  {
   "cell_type": "markdown",
   "metadata": {
    "colab_type": "text",
    "id": "9cP5pq7mtFhA"
   },
   "source": [
    "x = 0 일때, y의 최소값은 이제 0을 가지게 됩니다."
   ]
  },
  {
   "cell_type": "markdown",
   "metadata": {
    "colab_type": "text",
    "id": "bfjZaQLztFhA"
   },
   "source": [
    "`LotArea`로 다시 돌아와서 정규화를 위한 log를 적용해 보도록 하겠습니다."
   ]
  },
  {
   "cell_type": "code",
   "execution_count": 73,
   "metadata": {
    "ExecuteTime": {
     "end_time": "2020-12-17T12:14:13.076273Z",
     "start_time": "2020-12-17T12:14:13.061270Z"
    },
    "colab": {},
    "colab_type": "code",
    "id": "ZwmkTD4NtFhB"
   },
   "outputs": [],
   "source": [
    "all_data['LotArea'] = np.log1p(all_data['LotArea'])"
   ]
  },
  {
   "cell_type": "markdown",
   "metadata": {
    "colab_type": "text",
    "id": "ds2NNwDftFhB"
   },
   "source": [
    "`SalePrice`도 분포를 살펴볼까요?"
   ]
  },
  {
   "cell_type": "code",
   "execution_count": 74,
   "metadata": {
    "ExecuteTime": {
     "end_time": "2020-12-17T12:14:13.662075Z",
     "start_time": "2020-12-17T12:14:13.405014Z"
    },
    "colab": {},
    "colab_type": "code",
    "id": "QuioVA4OtFhC",
    "outputId": "b2642776-c2b6-44c2-d6cc-37238b333433"
   },
   "outputs": [
    {
     "data": {
      "image/png": "[encoded data removed]",
      "text/plain": [
       "<Figure size 864x432 with 2 Axes>"
      ]
     },
     "metadata": {
      "needs_background": "light"
     },
     "output_type": "display_data"
    }
   ],
   "source": [
    "fig, axes = plt.subplots(1, 2)\n",
    "fig.set_size_inches(12, 6)\n",
    "sns.distplot(label, ax=axes[0])\n",
    "sns.distplot(np.log1p(label), ax=axes[1])\n",
    "plt.show()"
   ]
  },
  {
   "cell_type": "code",
   "execution_count": 75,
   "metadata": {
    "ExecuteTime": {
     "end_time": "2020-12-17T12:14:13.722093Z",
     "start_time": "2020-12-17T12:14:13.708086Z"
    },
    "colab": {},
    "colab_type": "code",
    "id": "Cb0gtRMMtFhD"
   },
   "outputs": [],
   "source": [
    "label = np.log1p(label)"
   ]
  },
  {
   "cell_type": "code",
   "execution_count": 76,
   "metadata": {
    "ExecuteTime": {
     "end_time": "2020-12-17T12:14:13.887131Z",
     "start_time": "2020-12-17T12:14:13.768105Z"
    },
    "colab": {},
    "colab_type": "code",
    "id": "yC8PImumtFhF",
    "outputId": "2a469eb3-0620-46f0-9a3b-e277c330d190"
   },
   "outputs": [
    {
     "data": {
      "image/png": "[encoded data removed]",
      "text/plain": [
       "<Figure size 432x288 with 1 Axes>"
      ]
     },
     "metadata": {
      "needs_background": "light"
     },
     "output_type": "display_data"
    }
   ],
   "source": [
    "sns.distplot(label)\n",
    "plt.show()"
   ]
  },
  {
   "cell_type": "markdown",
   "metadata": {
    "colab_type": "text",
    "id": "1eecK3NZtFhG"
   },
   "source": [
    "## 필요없는 column  제거"
   ]
  },
  {
   "cell_type": "markdown",
   "metadata": {
    "colab_type": "text",
    "id": "eAPSJ9XKtFhG"
   },
   "source": [
    "다음 3개의 column에 대해서는 **drop**하여 사용하지 않겠습니다. 왜냐하면, 소수의 데이터를 제외한 대부분의 값들이 1개의 값으로 통일되기 때문에, 별다른 유의점이 없습니다. 오히려, 소수의 데이터가 모델의 성능을 떨어뜨릴 수 있습니다."
   ]
  },
  {
   "cell_type": "code",
   "execution_count": 77,
   "metadata": {
    "ExecuteTime": {
     "end_time": "2020-12-17T12:14:14.473650Z",
     "start_time": "2020-12-17T12:14:14.461649Z"
    },
    "colab": {},
    "colab_type": "code",
    "id": "bJ1VN5IZtFhG",
    "outputId": "3a1519c1-0633-4240-9a36-852163c3d677"
   },
   "outputs": [
    {
     "data": {
      "text/plain": [
       "AllPub    2916\n",
       "None         2\n",
       "NoSeWa       1\n",
       "Name: Utilities, dtype: int64"
      ]
     },
     "execution_count": 77,
     "metadata": {},
     "output_type": "execute_result"
    }
   ],
   "source": [
    "all_data['Utilities'].value_counts()"
   ]
  },
  {
   "cell_type": "code",
   "execution_count": 78,
   "metadata": {
    "ExecuteTime": {
     "end_time": "2020-12-17T12:14:14.623779Z",
     "start_time": "2020-12-17T12:14:14.613777Z"
    },
    "colab": {},
    "colab_type": "code",
    "id": "xj3lpnT6tFhH",
    "outputId": "a95641cb-00f3-4ef3-8ac3-1ac5939f0cfa"
   },
   "outputs": [
    {
     "data": {
      "text/plain": [
       "Pave    2907\n",
       "Grvl      12\n",
       "Name: Street, dtype: int64"
      ]
     },
     "execution_count": 78,
     "metadata": {},
     "output_type": "execute_result"
    }
   ],
   "source": [
    "all_data['Street'].value_counts()"
   ]
  },
  {
   "cell_type": "code",
   "execution_count": 79,
   "metadata": {
    "ExecuteTime": {
     "end_time": "2020-12-17T12:14:14.788814Z",
     "start_time": "2020-12-17T12:14:14.784813Z"
    },
    "colab": {},
    "colab_type": "code",
    "id": "gY7mihfytFhI",
    "outputId": "25c1d9a1-781e-4a7d-89bb-816006d59e67"
   },
   "outputs": [
    {
     "data": {
      "text/plain": [
       "None    2909\n",
       "Gd         4\n",
       "Ex         4\n",
       "Fa         2\n",
       "Name: PoolQC, dtype: int64"
      ]
     },
     "execution_count": 79,
     "metadata": {},
     "output_type": "execute_result"
    }
   ],
   "source": [
    "all_data['PoolQC'].value_counts()"
   ]
  },
  {
   "cell_type": "code",
   "execution_count": 80,
   "metadata": {
    "ExecuteTime": {
     "end_time": "2020-12-17T12:14:14.954077Z",
     "start_time": "2020-12-17T12:14:14.941074Z"
    },
    "colab": {},
    "colab_type": "code",
    "id": "avzijc62tFhJ"
   },
   "outputs": [],
   "source": [
    "remove_cols = [\n",
    "    'Utilities',\n",
    "    'Street',\n",
    "    'PoolQC',\n",
    "]"
   ]
  },
  {
   "cell_type": "code",
   "execution_count": 81,
   "metadata": {
    "ExecuteTime": {
     "end_time": "2020-12-17T12:14:15.119081Z",
     "start_time": "2020-12-17T12:14:15.110078Z"
    },
    "colab": {},
    "colab_type": "code",
    "id": "6uVxwjwNtFhK"
   },
   "outputs": [],
   "source": [
    "all_data = all_data.drop(remove_cols, 1)"
   ]
  },
  {
   "cell_type": "code",
   "execution_count": 82,
   "metadata": {
    "ExecuteTime": {
     "end_time": "2020-12-17T12:14:15.284150Z",
     "start_time": "2020-12-17T12:14:15.270147Z"
    }
   },
   "outputs": [
    {
     "name": "stdout",
     "output_type": "stream",
     "text": [
      "(2919, 91)\n"
     ]
    }
   ],
   "source": [
    "print(all_data.shape)"
   ]
  },
  {
   "cell_type": "code",
   "execution_count": 83,
   "metadata": {
    "ExecuteTime": {
     "end_time": "2020-12-17T12:14:15.660123Z",
     "start_time": "2020-12-17T12:14:15.653121Z"
    }
   },
   "outputs": [],
   "source": [
    "cat_cols = all_data.select_dtypes(include = [\"object\"]).columns"
   ]
  },
  {
   "cell_type": "code",
   "execution_count": 84,
   "metadata": {
    "ExecuteTime": {
     "end_time": "2020-12-17T12:14:15.840188Z",
     "start_time": "2020-12-17T12:14:15.829186Z"
    }
   },
   "outputs": [
    {
     "name": "stdout",
     "output_type": "stream",
     "text": [
      "40\n"
     ]
    }
   ],
   "source": [
    "print(len(cat_cols))"
   ]
  },
  {
   "cell_type": "markdown",
   "metadata": {
    "colab_type": "text",
    "id": "RUkbPVF2tFhL"
   },
   "source": [
    "## One Hot Encoding"
   ]
  },
  {
   "cell_type": "markdown",
   "metadata": {
    "colab_type": "text",
    "id": "5L-QVOWHtFhL"
   },
   "source": [
    "카테고리 형 column에 대해서 **one-hot-encoding**을 적용합니다."
   ]
  },
  {
   "cell_type": "code",
   "execution_count": 85,
   "metadata": {
    "ExecuteTime": {
     "end_time": "2020-12-17T12:14:16.367170Z",
     "start_time": "2020-12-17T12:14:16.333162Z"
    },
    "colab": {},
    "colab_type": "code",
    "id": "65p5b9y5tFhL"
   },
   "outputs": [],
   "source": [
    "all_data = pd.get_dummies(all_data)"
   ]
  },
  {
   "cell_type": "code",
   "execution_count": 86,
   "metadata": {
    "ExecuteTime": {
     "end_time": "2020-12-17T12:14:16.517301Z",
     "start_time": "2020-12-17T12:14:16.502306Z"
    },
    "colab": {},
    "colab_type": "code",
    "id": "VcXDdML0tFhM",
    "outputId": "0380538e-4e4a-41a9-8249-34216ed2b19a"
   },
   "outputs": [
    {
     "data": {
      "text/html": [
       "<div>\n",
       "<style scoped>\n",
       "    .dataframe tbody tr th:only-of-type {\n",
       "        vertical-align: middle;\n",
       "    }\n",
       "\n",
       "    .dataframe tbody tr th {\n",
       "        vertical-align: top;\n",
       "    }\n",
       "\n",
       "    .dataframe thead th {\n",
       "        text-align: right;\n",
       "    }\n",
       "</style>\n",
       "<table border=\"1\" class=\"dataframe\">\n",
       "  <thead>\n",
       "    <tr style=\"text-align: right;\">\n",
       "      <th></th>\n",
       "      <th>MSSubClass</th>\n",
       "      <th>LotFrontage</th>\n",
       "      <th>LotArea</th>\n",
       "      <th>OverallQual</th>\n",
       "      <th>OverallCond</th>\n",
       "      <th>YearBuilt</th>\n",
       "      <th>YearRemodAdd</th>\n",
       "      <th>MasVnrArea</th>\n",
       "      <th>BsmtFinSF1</th>\n",
       "      <th>BsmtFinSF2</th>\n",
       "      <th>...</th>\n",
       "      <th>SaleType_COD</th>\n",
       "      <th>SaleType_New</th>\n",
       "      <th>SaleType_Other</th>\n",
       "      <th>SaleType_WD</th>\n",
       "      <th>SaleCondition_Abnorml</th>\n",
       "      <th>SaleCondition_AdjLand</th>\n",
       "      <th>SaleCondition_Alloca</th>\n",
       "      <th>SaleCondition_Family</th>\n",
       "      <th>SaleCondition_Normal</th>\n",
       "      <th>SaleCondition_Partial</th>\n",
       "    </tr>\n",
       "  </thead>\n",
       "  <tbody>\n",
       "    <tr>\n",
       "      <th>0</th>\n",
       "      <td>60</td>\n",
       "      <td>65.0</td>\n",
       "      <td>9.042040</td>\n",
       "      <td>7</td>\n",
       "      <td>5</td>\n",
       "      <td>2003</td>\n",
       "      <td>2003</td>\n",
       "      <td>196.0</td>\n",
       "      <td>706.0</td>\n",
       "      <td>0.0</td>\n",
       "      <td>...</td>\n",
       "      <td>0</td>\n",
       "      <td>0</td>\n",
       "      <td>0</td>\n",
       "      <td>1</td>\n",
       "      <td>0</td>\n",
       "      <td>0</td>\n",
       "      <td>0</td>\n",
       "      <td>0</td>\n",
       "      <td>1</td>\n",
       "      <td>0</td>\n",
       "    </tr>\n",
       "    <tr>\n",
       "      <th>1</th>\n",
       "      <td>20</td>\n",
       "      <td>80.0</td>\n",
       "      <td>9.169623</td>\n",
       "      <td>6</td>\n",
       "      <td>8</td>\n",
       "      <td>1976</td>\n",
       "      <td>1976</td>\n",
       "      <td>0.0</td>\n",
       "      <td>978.0</td>\n",
       "      <td>0.0</td>\n",
       "      <td>...</td>\n",
       "      <td>0</td>\n",
       "      <td>0</td>\n",
       "      <td>0</td>\n",
       "      <td>1</td>\n",
       "      <td>0</td>\n",
       "      <td>0</td>\n",
       "      <td>0</td>\n",
       "      <td>0</td>\n",
       "      <td>1</td>\n",
       "      <td>0</td>\n",
       "    </tr>\n",
       "    <tr>\n",
       "      <th>2</th>\n",
       "      <td>60</td>\n",
       "      <td>68.0</td>\n",
       "      <td>9.328212</td>\n",
       "      <td>7</td>\n",
       "      <td>5</td>\n",
       "      <td>2001</td>\n",
       "      <td>2002</td>\n",
       "      <td>162.0</td>\n",
       "      <td>486.0</td>\n",
       "      <td>0.0</td>\n",
       "      <td>...</td>\n",
       "      <td>0</td>\n",
       "      <td>0</td>\n",
       "      <td>0</td>\n",
       "      <td>1</td>\n",
       "      <td>0</td>\n",
       "      <td>0</td>\n",
       "      <td>0</td>\n",
       "      <td>0</td>\n",
       "      <td>1</td>\n",
       "      <td>0</td>\n",
       "    </tr>\n",
       "    <tr>\n",
       "      <th>3</th>\n",
       "      <td>70</td>\n",
       "      <td>60.0</td>\n",
       "      <td>9.164401</td>\n",
       "      <td>7</td>\n",
       "      <td>5</td>\n",
       "      <td>1915</td>\n",
       "      <td>1970</td>\n",
       "      <td>0.0</td>\n",
       "      <td>216.0</td>\n",
       "      <td>0.0</td>\n",
       "      <td>...</td>\n",
       "      <td>0</td>\n",
       "      <td>0</td>\n",
       "      <td>0</td>\n",
       "      <td>1</td>\n",
       "      <td>1</td>\n",
       "      <td>0</td>\n",
       "      <td>0</td>\n",
       "      <td>0</td>\n",
       "      <td>0</td>\n",
       "      <td>0</td>\n",
       "    </tr>\n",
       "    <tr>\n",
       "      <th>4</th>\n",
       "      <td>60</td>\n",
       "      <td>84.0</td>\n",
       "      <td>9.565284</td>\n",
       "      <td>8</td>\n",
       "      <td>5</td>\n",
       "      <td>2000</td>\n",
       "      <td>2000</td>\n",
       "      <td>350.0</td>\n",
       "      <td>655.0</td>\n",
       "      <td>0.0</td>\n",
       "      <td>...</td>\n",
       "      <td>0</td>\n",
       "      <td>0</td>\n",
       "      <td>0</td>\n",
       "      <td>1</td>\n",
       "      <td>0</td>\n",
       "      <td>0</td>\n",
       "      <td>0</td>\n",
       "      <td>0</td>\n",
       "      <td>1</td>\n",
       "      <td>0</td>\n",
       "    </tr>\n",
       "  </tbody>\n",
       "</table>\n",
       "<p>5 rows × 279 columns</p>\n",
       "</div>"
      ],
      "text/plain": [
       "   MSSubClass  LotFrontage   LotArea  OverallQual  OverallCond  YearBuilt  \\\n",
       "0          60         65.0  9.042040            7            5       2003   \n",
       "1          20         80.0  9.169623            6            8       1976   \n",
       "2          60         68.0  9.328212            7            5       2001   \n",
       "3          70         60.0  9.164401            7            5       1915   \n",
       "4          60         84.0  9.565284            8            5       2000   \n",
       "\n",
       "   YearRemodAdd  MasVnrArea  BsmtFinSF1  BsmtFinSF2  ...  SaleType_COD  \\\n",
       "0          2003       196.0       706.0         0.0  ...             0   \n",
       "1          1976         0.0       978.0         0.0  ...             0   \n",
       "2          2002       162.0       486.0         0.0  ...             0   \n",
       "3          1970         0.0       216.0         0.0  ...             0   \n",
       "4          2000       350.0       655.0         0.0  ...             0   \n",
       "\n",
       "   SaleType_New  SaleType_Other  SaleType_WD  SaleCondition_Abnorml  \\\n",
       "0             0               0            1                      0   \n",
       "1             0               0            1                      0   \n",
       "2             0               0            1                      0   \n",
       "3             0               0            1                      1   \n",
       "4             0               0            1                      0   \n",
       "\n",
       "   SaleCondition_AdjLand  SaleCondition_Alloca  SaleCondition_Family  \\\n",
       "0                      0                     0                     0   \n",
       "1                      0                     0                     0   \n",
       "2                      0                     0                     0   \n",
       "3                      0                     0                     0   \n",
       "4                      0                     0                     0   \n",
       "\n",
       "   SaleCondition_Normal  SaleCondition_Partial  \n",
       "0                     1                      0  \n",
       "1                     1                      0  \n",
       "2                     1                      0  \n",
       "3                     0                      0  \n",
       "4                     1                      0  \n",
       "\n",
       "[5 rows x 279 columns]"
      ]
     },
     "execution_count": 86,
     "metadata": {},
     "output_type": "execute_result"
    }
   ],
   "source": [
    "all_data.head()"
   ]
  },
  {
   "cell_type": "code",
   "execution_count": 87,
   "metadata": {
    "ExecuteTime": {
     "end_time": "2020-12-17T12:14:16.652349Z",
     "start_time": "2020-12-17T12:14:16.646347Z"
    },
    "colab": {},
    "colab_type": "code",
    "id": "igY6WsS5tFhN",
    "outputId": "842e4e59-8180-421c-ff43-1cdd4cdfd70e"
   },
   "outputs": [
    {
     "name": "stdout",
     "output_type": "stream",
     "text": [
      "(2919, 279)\n"
     ]
    }
   ],
   "source": [
    "# 아래 코드는 바꾸지 마세요\n",
    "# 총 279개의 column이 생성되어야 합니다.\n",
    "assert len(all_data.columns) == 279\n",
    "print(all_data.shape)"
   ]
  },
  {
   "cell_type": "markdown",
   "metadata": {
    "colab_type": "text",
    "id": "xidMl8PdtFhO"
   },
   "source": [
    "## Train / Test 데이터 분리"
   ]
  },
  {
   "cell_type": "markdown",
   "metadata": {
    "colab_type": "text",
    "id": "2E8SHmM9tFhO"
   },
   "source": [
    "all_data를 train / test로 다시 분리 합니다. "
   ]
  },
  {
   "cell_type": "code",
   "execution_count": 88,
   "metadata": {
    "ExecuteTime": {
     "end_time": "2020-12-17T12:14:17.148353Z",
     "start_time": "2020-12-17T12:14:17.133350Z"
    },
    "colab": {},
    "colab_type": "code",
    "id": "rAo2bYXytFhO",
    "outputId": "3d3056bc-81f0-42cc-dad8-5fa4fc2a22f7"
   },
   "outputs": [
    {
     "data": {
      "text/plain": [
       "(1460, 1459)"
      ]
     },
     "execution_count": 88,
     "metadata": {},
     "output_type": "execute_result"
    }
   ],
   "source": [
    "len(train), len(test)"
   ]
  },
  {
   "cell_type": "code",
   "execution_count": 89,
   "metadata": {
    "ExecuteTime": {
     "end_time": "2020-12-17T12:14:17.313406Z",
     "start_time": "2020-12-17T12:14:17.303404Z"
    },
    "colab": {},
    "colab_type": "code",
    "id": "Z17AgxbDtFhP",
    "outputId": "214789bf-1a1e-498d-8502-9aa93243e8ac"
   },
   "outputs": [
    {
     "data": {
      "text/plain": [
       "(1460, 1459)"
      ]
     },
     "execution_count": 89,
     "metadata": {},
     "output_type": "execute_result"
    }
   ],
   "source": [
    "len(all_data[:len(train)]), len(all_data[len(train):])"
   ]
  },
  {
   "cell_type": "code",
   "execution_count": 90,
   "metadata": {
    "ExecuteTime": {
     "end_time": "2020-12-17T12:14:17.479175Z",
     "start_time": "2020-12-17T12:14:17.477174Z"
    },
    "colab": {},
    "colab_type": "code",
    "id": "qPXiEjNwtFhQ"
   },
   "outputs": [],
   "source": [
    "train_data = all_data[:len(train)]\n",
    "test_data = all_data[len(train):]"
   ]
  },
  {
   "cell_type": "code",
   "execution_count": 91,
   "metadata": {
    "ExecuteTime": {
     "end_time": "2020-12-17T12:14:17.674181Z",
     "start_time": "2020-12-17T12:14:17.669180Z"
    },
    "colab": {},
    "colab_type": "code",
    "id": "dwvDsdfFtFhR"
   },
   "outputs": [],
   "source": [
    "# 코드를 변경하지 마세요\n",
    "# 셀 실행시 에러가 나지 않아야 합니다.\n",
    "assert len(train_data) == len(train)\n",
    "assert len(test_data) == len(test)"
   ]
  },
  {
   "cell_type": "markdown",
   "metadata": {
    "colab_type": "text",
    "id": "ewSnWYRytFhR"
   },
   "source": [
    "앞선 단계에서 발견한 `outlier`를 제거합니다."
   ]
  },
  {
   "cell_type": "code",
   "execution_count": 92,
   "metadata": {
    "ExecuteTime": {
     "end_time": "2020-12-17T12:14:18.004223Z",
     "start_time": "2020-12-17T12:14:17.989220Z"
    },
    "colab": {},
    "colab_type": "code",
    "id": "e4Mu5ujXtFhR"
   },
   "outputs": [],
   "source": [
    "train_data = train_data.drop(outlier)\n",
    "label = label.drop(outlier)"
   ]
  },
  {
   "cell_type": "code",
   "execution_count": 93,
   "metadata": {
    "ExecuteTime": {
     "end_time": "2020-12-17T12:14:18.184289Z",
     "start_time": "2020-12-17T12:14:18.172287Z"
    },
    "colab": {},
    "colab_type": "code",
    "id": "5WKoujjZtFhU"
   },
   "outputs": [],
   "source": [
    "# 코드를 변경하지 마세요\n",
    "# 셀 실행시 에러가 나지 않아야 합니다.\n",
    "assert len(train_data) == len(train) - 2"
   ]
  },
  {
   "cell_type": "markdown",
   "metadata": {
    "colab_type": "text",
    "id": "52cgdHS5tFhV"
   },
   "source": [
    "## 평가 지표"
   ]
  },
  {
   "cell_type": "code",
   "execution_count": 94,
   "metadata": {
    "ExecuteTime": {
     "end_time": "2020-12-17T12:14:19.952738Z",
     "start_time": "2020-12-17T12:14:19.373326Z"
    },
    "colab": {},
    "colab_type": "code",
    "id": "xya6mro4tFhV"
   },
   "outputs": [],
   "source": [
    "from sklearn.metrics import mean_squared_error\n",
    "from sklearn.model_selection import train_test_split"
   ]
  },
  {
   "cell_type": "markdown",
   "metadata": {
    "colab_type": "text",
    "id": "uaW_InE7tFhW"
   },
   "source": [
    "`train_test_split` 메소드를 활용하여 `train set`, `validation set`을 생성합니다.\n",
    "\n",
    "비율은 `train set` = 80%, `validation set` = 20% 비율로 생성합니다.\n",
    "\n",
    "[train_test_split 사용 블로그 참고](https://teddylee777.github.io/scikit-learn/train-test-split)"
   ]
  },
  {
   "cell_type": "markdown",
   "metadata": {
    "colab_type": "text",
    "id": "Y_NKfta1tFhW"
   },
   "source": [
    "### Q11. x_train, x_valid, y_train, y_valid를 생성해 주세요"
   ]
  },
  {
   "cell_type": "markdown",
   "metadata": {
    "colab_type": "text",
    "id": "7Hk2II23tFhX"
   },
   "source": [
    "- x_train, y_train: train 데이터의 x, y\n",
    "- x_valid, y_valid: valida 데이터의 x, y"
   ]
  },
  {
   "cell_type": "code",
   "execution_count": 95,
   "metadata": {
    "ExecuteTime": {
     "end_time": "2020-12-17T12:14:20.796386Z",
     "start_time": "2020-12-17T12:14:20.781391Z"
    }
   },
   "outputs": [
    {
     "data": {
      "text/plain": [
       "(1458, 1458)"
      ]
     },
     "execution_count": 95,
     "metadata": {},
     "output_type": "execute_result"
    }
   ],
   "source": [
    "len(train_data), len(label)"
   ]
  },
  {
   "cell_type": "code",
   "execution_count": 96,
   "metadata": {
    "ExecuteTime": {
     "end_time": "2020-12-17T12:14:21.186848Z",
     "start_time": "2020-12-17T12:14:21.167844Z"
    },
    "colab": {},
    "colab_type": "code",
    "id": "dMxnWDn-tFhX"
   },
   "outputs": [],
   "source": [
    "# 이곳에 코드를 입력해 주세요\n",
    "x_train, x_valid, y_train, y_valid = train_test_split(train_data, label, test_size=0.2, shuffle=True, random_state=34)"
   ]
  },
  {
   "cell_type": "markdown",
   "metadata": {
    "colab_type": "text",
    "id": "EqK25yRdtFhY"
   },
   "source": [
    "## 평가 지표 (MSE) 입니다. 아래 함수를 활용하여, 우리의 모델 성능을 가늠해 볼 수 있습니다."
   ]
  },
  {
   "cell_type": "code",
   "execution_count": 97,
   "metadata": {
    "ExecuteTime": {
     "end_time": "2020-12-17T12:14:22.136108Z",
     "start_time": "2020-12-17T12:14:22.134107Z"
    },
    "colab": {},
    "colab_type": "code",
    "id": "miNgr1ystFhY"
   },
   "outputs": [],
   "source": [
    "# MSE 오차 평가\n",
    "def get_score(y_pred, y_test):\n",
    "    return np.sqrt(mean_squared_error(np.expm1(y_pred), np.expm1(y_test)))"
   ]
  },
  {
   "cell_type": "markdown",
   "metadata": {
    "colab_type": "text",
    "id": "mHXBw8tltFhZ"
   },
   "source": [
    "## 모델링"
   ]
  },
  {
   "cell_type": "markdown",
   "metadata": {
    "colab_type": "text",
    "id": "UUBssre4tFhZ"
   },
   "source": [
    "아래 예시로, `RidgeCV`를 활용하여 가격 예측을 해봤습니다.\n",
    "\n",
    "RidgeCV = Ridge 알고리즘에 Cross Validation 기능을 내제화한 모델입니다.\n",
    "\n",
    "자세한 알고리즘 내용은 [여기](https://scikit-learn.org/stable/modules/generated/sklearn.linear_model.RidgeCV.html)에서 확인하실 수 있습니다.\n",
    "\n",
    "또한, 저는 `RobustScaler`라는 스케일러를 적용했는데, `RubostScaler`는 outlier를 제거함에 있어 좋은 스케일러입니다.\n",
    "\n",
    "관련 내용은 [여기](https://scikit-learn.org/stable/modules/generated/sklearn.preprocessing.RobustScaler.html?highlight=robust%20scaler)에서 확인하실 수 있습니다."
   ]
  },
  {
   "cell_type": "markdown",
   "metadata": {
    "colab_type": "text",
    "id": "dXhuKYE2tFhZ"
   },
   "source": [
    "**아래 프로세스 대로 1개의 모델링과 평가지표를 활용하여 검증까지 진행합니다.**\n",
    "\n",
    "샘플로 제공되는 STEP처럼, 여러분들만의 단일 모델을 완성하고, 샘플 모델의 성능을 능가하는 모델을 만들어 보세요"
   ]
  },
  {
   "cell_type": "markdown",
   "metadata": {
    "colab_type": "text",
    "id": "97ID0Z35tFha"
   },
   "source": [
    "### STEP 1) 필요한 라이브러리 import"
   ]
  },
  {
   "cell_type": "code",
   "execution_count": 98,
   "metadata": {
    "ExecuteTime": {
     "end_time": "2020-12-17T12:14:25.057075Z",
     "start_time": "2020-12-17T12:14:24.977039Z"
    },
    "colab": {},
    "colab_type": "code",
    "id": "yLPuWQnLtFha"
   },
   "outputs": [],
   "source": [
    "from sklearn.model_selection import KFold\n",
    "from sklearn.preprocessing import RobustScaler\n",
    "from sklearn.linear_model import RidgeCV\n",
    "from sklearn.pipeline import make_pipeline"
   ]
  },
  {
   "cell_type": "markdown",
   "metadata": {
    "colab_type": "text",
    "id": "ILsaWET0tFhb"
   },
   "source": [
    "### STEP 2) KFold (cross-validation) 체크를 위한 선언 (CV 모델을 사용하지 않으면, 굳이 필요없습니다.)"
   ]
  },
  {
   "cell_type": "code",
   "execution_count": 99,
   "metadata": {
    "ExecuteTime": {
     "end_time": "2020-12-17T12:14:25.282492Z",
     "start_time": "2020-12-17T12:14:25.277491Z"
    },
    "colab": {},
    "colab_type": "code",
    "id": "XVUeKVhftFhb"
   },
   "outputs": [],
   "source": [
    "kf = KFold(random_state=30, \n",
    "           n_splits=10, \n",
    "           shuffle=True)"
   ]
  },
  {
   "cell_type": "markdown",
   "metadata": {
    "colab_type": "text",
    "id": "V4FpML_ntFhc"
   },
   "source": [
    "`make_pipeline`에 전처리 scaler와 model을 순차적으로 넣어주면, 알아서 scaler 적용 후 모델에 학습시킵니다."
   ]
  },
  {
   "cell_type": "markdown",
   "metadata": {
    "colab_type": "text",
    "id": "vhzJDqX6tFhc"
   },
   "source": [
    "### STEP 3) 모델 선언, 하이퍼파라미터 설정\n",
    "\n",
    "- pipeline을 만들어, scaler 적용 후 학습을 시킬 수 있습니다. 샘플로 보여드리기 위하여 가져온 코드이니, 여러분들은 꼭 이렇게 안해주어도 상관없습니다."
   ]
  },
  {
   "cell_type": "markdown",
   "metadata": {
    "colab_type": "text",
    "id": "yJursNTbtFhc"
   },
   "source": [
    "참고) **RobustScaler**는 outlier(이상치) 제거에 효과적인 스케일러 입니다."
   ]
  },
  {
   "cell_type": "code",
   "execution_count": 100,
   "metadata": {
    "ExecuteTime": {
     "end_time": "2020-12-17T12:14:25.883774Z",
     "start_time": "2020-12-17T12:14:25.877773Z"
    },
    "colab": {},
    "colab_type": "code",
    "id": "HZ9qGv7ntFhd"
   },
   "outputs": [],
   "source": [
    "# make pipeline\n",
    "alphas_alt = [14.5, 14.6, 14.7, 14.8, 14.9, 15, 15.1, 15.2, 15.3, 15.4, 15.5]\n",
    "ridgeCV = make_pipeline(RobustScaler(), RidgeCV(alphas=alphas_alt, cv=kf))"
   ]
  },
  {
   "cell_type": "markdown",
   "metadata": {
    "colab_type": "text",
    "id": "YOMMQiGJtFhd"
   },
   "source": [
    "### STEP 4) fit (학습)"
   ]
  },
  {
   "cell_type": "code",
   "execution_count": 101,
   "metadata": {
    "ExecuteTime": {
     "end_time": "2020-12-17T12:14:26.890748Z",
     "start_time": "2020-12-17T12:14:26.183016Z"
    },
    "colab": {},
    "colab_type": "code",
    "id": "YCUtIUVvtFhd",
    "outputId": "e5295eba-faa3-4423-99e4-52ce77b2f017"
   },
   "outputs": [
    {
     "data": {
      "text/plain": [
       "Pipeline(steps=[('robustscaler', RobustScaler()),\n",
       "                ('ridgecv',\n",
       "                 RidgeCV(alphas=array([14.5, 14.6, 14.7, 14.8, 14.9, 15. , 15.1, 15.2, 15.3, 15.4, 15.5]),\n",
       "                         cv=KFold(n_splits=10, random_state=30, shuffle=True)))])"
      ]
     },
     "execution_count": 101,
     "metadata": {},
     "output_type": "execute_result"
    }
   ],
   "source": [
    "# 학습\n",
    "ridgeCV.fit(x_train, y_train)"
   ]
  },
  {
   "cell_type": "markdown",
   "metadata": {
    "colab_type": "text",
    "id": "NOzsIvMftFhe"
   },
   "source": [
    "### STEP 5) predict (예측)"
   ]
  },
  {
   "cell_type": "code",
   "execution_count": 102,
   "metadata": {
    "ExecuteTime": {
     "end_time": "2020-12-17T12:14:26.995773Z",
     "start_time": "2020-12-17T12:14:26.981770Z"
    },
    "colab": {},
    "colab_type": "code",
    "id": "7KGBWHrVtFhe"
   },
   "outputs": [],
   "source": [
    "# validation 값에 대한 예측\n",
    "valid_result = ridgeCV.predict(x_valid)"
   ]
  },
  {
   "cell_type": "markdown",
   "metadata": {
    "colab_type": "text",
    "id": "E3O4Zx-GtFhg"
   },
   "source": [
    "### STEP 6) 평가지표를 활용하여, 모델의 성능 측정"
   ]
  },
  {
   "cell_type": "code",
   "execution_count": 103,
   "metadata": {
    "ExecuteTime": {
     "end_time": "2020-12-17T12:14:27.100796Z",
     "start_time": "2020-12-17T12:14:27.085793Z"
    },
    "colab": {},
    "colab_type": "code",
    "id": "d4CvALtGtFhg",
    "outputId": "e0b60c56-c5b7-4aab-fcd5-64b2a1fe61a9"
   },
   "outputs": [
    {
     "data": {
      "text/plain": [
       "21489.69419660626"
      ]
     },
     "execution_count": 103,
     "metadata": {},
     "output_type": "execute_result"
    }
   ],
   "source": [
    "# score 출력\n",
    "get_score(valid_result, y_valid)"
   ]
  },
  {
   "cell_type": "markdown",
   "metadata": {
    "colab_type": "text",
    "id": "trRZTyz2tFhh"
   },
   "source": [
    "### STEP 7) TEST 데이터에 대한 예측 후 특정 변수에 예측 값 저장"
   ]
  },
  {
   "cell_type": "code",
   "execution_count": 104,
   "metadata": {
    "ExecuteTime": {
     "end_time": "2020-12-17T12:14:27.295873Z",
     "start_time": "2020-12-17T12:14:27.277870Z"
    },
    "colab": {},
    "colab_type": "code",
    "id": "bdYM0vaotFhh"
   },
   "outputs": [],
   "source": [
    "# test 값에 대한 예측\n",
    "test_result = ridgeCV.predict(test_data)"
   ]
  },
  {
   "cell_type": "markdown",
   "metadata": {
    "colab_type": "text",
    "id": "YFI5V-K1tFhi"
   },
   "source": [
    "## 여기서부터는 여러분들이 모델을 만듭니다."
   ]
  },
  {
   "cell_type": "markdown",
   "metadata": {
    "colab_type": "text",
    "id": "FPbq4lg1tFhj"
   },
   "source": [
    "여러분들의 모델을 만들어 최고의 성능을 발휘하는 모델을 완성합니다.\n",
    "\n",
    "정답은 없습니다. 하지만, 목표 점수는 있습니다.\n",
    "\n",
    "`get_score()` 기준으로 우선 19000 이하에 도전해 보세요"
   ]
  },
  {
   "cell_type": "markdown",
   "metadata": {
    "colab_type": "text",
    "id": "6JpAqLtrtFhj"
   },
   "source": [
    "**tip**\n",
    "\n",
    "* ensemble 모델은 5이상 만들어 보세요. 보통 ensemble 모델이 성능이 좋습니다.\n",
    "* ensemble 모델끼리 ensemble을 적용해 보세요.\n",
    "* weighted blending, stacking ensemble이 생소하다면, 검색을 통해 적용해 보세요"
   ]
  },
  {
   "cell_type": "markdown",
   "metadata": {
    "colab_type": "text",
    "id": "xLS1sHe7tFhk"
   },
   "source": [
    "### STEP 1) 필요한 라이브러리 import"
   ]
  },
  {
   "cell_type": "code",
   "execution_count": 103,
   "metadata": {
    "colab": {},
    "colab_type": "code",
    "id": "eXjwEr-7tFhk"
   },
   "outputs": [],
   "source": [
    "# 코드를 입력해 주세요\n",
    "from sklearn.linear_model import Lasso\n",
    "from sklearn.linear_model import ElasticNet\n",
    "from sklearn.pipeline import make_pipeline\n",
    "from sklearn.preprocessing import StandardScaler\n",
    "from sklearn.preprocessing import PolynomialFeatures\n",
    "from sklearn.ensemble import GradientBoostingRegressor\n",
    "from sklearn.ensemble import RandomForestRegressor\n",
    "import lightgbm as lgb\n",
    "import xgboost as xgb\n",
    "from sklearn.ensemble import AdaBoostRegressor\n",
    "from sklearn.ensemble import BaggingRegressor\n",
    "from sklearn.ensemble import VotingRegressor"
   ]
  },
  {
   "cell_type": "markdown",
   "metadata": {
    "colab_type": "text",
    "id": "loVX4gmltFhl"
   },
   "source": [
    "### STEP 2) 모델 선언, 하이퍼파라미터 설정"
   ]
  },
  {
   "cell_type": "code",
   "execution_count": 104,
   "metadata": {},
   "outputs": [
    {
     "data": {
      "text/plain": [
       "23651.46251664829"
      ]
     },
     "execution_count": 104,
     "metadata": {},
     "output_type": "execute_result"
    }
   ],
   "source": [
    "lasso = Lasso(alpha=0.01)\n",
    "lasso.fit(x_train, y_train)\n",
    "lasso_pred = lasso.predict(x_valid)\n",
    "get_score(lasso_pred, y_valid)"
   ]
  },
  {
   "cell_type": "code",
   "execution_count": 105,
   "metadata": {},
   "outputs": [
    {
     "data": {
      "text/plain": [
       "23107.90150308391"
      ]
     },
     "execution_count": 105,
     "metadata": {},
     "output_type": "execute_result"
    }
   ],
   "source": [
    "elasticnet = ElasticNet(alpha=0.01, l1_ratio=0.8)\n",
    "elasticnet.fit(x_train, y_train)\n",
    "eln_pred = elasticnet.predict(x_valid)\n",
    "get_score(eln_pred, y_valid)"
   ]
  },
  {
   "cell_type": "code",
   "execution_count": 106,
   "metadata": {},
   "outputs": [
    {
     "data": {
      "text/plain": [
       "19573.98378665373"
      ]
     },
     "execution_count": 106,
     "metadata": {},
     "output_type": "execute_result"
    }
   ],
   "source": [
    "elasticnet_pipeline = make_pipeline(\n",
    "    StandardScaler(),\n",
    "    ElasticNet(alpha=0.01, l1_ratio=0.8)\n",
    ")\n",
    "elasticnet_pipeline.fit(x_train, y_train)\n",
    "elasticnet_pred = elasticnet_pipeline.predict(x_valid)\n",
    "get_score(elasticnet_pred, y_valid)"
   ]
  },
  {
   "cell_type": "code",
   "execution_count": 107,
   "metadata": {},
   "outputs": [
    {
     "data": {
      "text/plain": [
       "20403981.644633118"
      ]
     },
     "execution_count": 107,
     "metadata": {},
     "output_type": "execute_result"
    }
   ],
   "source": [
    "poly_pipeline = make_pipeline(\n",
    "    PolynomialFeatures(degree=2, include_bias=False),\n",
    "    ElasticNet(alpha=0.1, l1_ratio=0.2)\n",
    ")\n",
    "poly_pipeline.fit(x_train, y_train)\n",
    "poly_pred = poly_pipeline.predict(x_valid)\n",
    "get_score(poly_pred, y_valid)"
   ]
  },
  {
   "cell_type": "code",
   "execution_count": 108,
   "metadata": {},
   "outputs": [
    {
     "data": {
      "text/plain": [
       "24965.372638372213"
      ]
     },
     "execution_count": 108,
     "metadata": {},
     "output_type": "execute_result"
    }
   ],
   "source": [
    "gbr = GradientBoostingRegressor(random_state=30, learning_rate=0.01, n_estimators=1000, subsample=0.8)\n",
    "gbr.fit(x_train, y_train)\n",
    "gbr_pred = gbr.predict(x_valid)\n",
    "get_score(gbr_pred, y_valid)"
   ]
  },
  {
   "cell_type": "code",
   "execution_count": 109,
   "metadata": {},
   "outputs": [
    {
     "data": {
      "text/plain": [
       "26900.348750434103"
      ]
     },
     "execution_count": 109,
     "metadata": {},
     "output_type": "execute_result"
    }
   ],
   "source": [
    "random_forest_model1 = RandomForestRegressor(n_estimators = 1000,\n",
    "                                             max_depth = 7,\n",
    "                                             max_features=0.9,\n",
    "                                             random_state = 30)\n",
    "\n",
    "random_forest_model1.fit(x_train, y_train)\n",
    "rfr_pred = random_forest_model1.predict(x_valid)\n",
    "get_score(rfr_pred, y_valid)"
   ]
  },
  {
   "cell_type": "code",
   "execution_count": 110,
   "metadata": {},
   "outputs": [
    {
     "data": {
      "text/plain": [
       "27348.198902242944"
      ]
     },
     "execution_count": 110,
     "metadata": {},
     "output_type": "execute_result"
    }
   ],
   "source": [
    "lgb_dtrain = lgb.Dataset(data = x_train, label = y_train) # 학습 데이터를 LightGBM 모델에 맞게 변환\n",
    "lgb_param = {'max_depth': 10, # 트리 깊이\n",
    "            'learning_rate': 0.01, # Step Size\n",
    "            'n_estimators': 1000, # Number of trees, 트리 생성 개수\n",
    "            'objective': 'regression'} # 목적 함수 (L2 Loss)\n",
    "lgb_model = lgb.train(params = lgb_param, train_set = lgb_dtrain) # 학습 진행\n",
    "lgb_pred = lgb_model.predict(x_valid) # 평가 데이터 예측\n",
    "get_score(lgb_pred, y_valid)"
   ]
  },
  {
   "cell_type": "code",
   "execution_count": 111,
   "metadata": {},
   "outputs": [
    {
     "name": "stdout",
     "output_type": "stream",
     "text": [
      "[12:30:12] WARNING: src/objective/regression_obj.cu:152: reg:linear is now deprecated in favor of reg:squarederror.\n"
     ]
    },
    {
     "data": {
      "text/plain": [
       "26927.98689812403"
      ]
     },
     "execution_count": 111,
     "metadata": {},
     "output_type": "execute_result"
    }
   ],
   "source": [
    "xgb_model = xgb.XGBRegressor(n_estimators=1000, learning_rate=0.01, gamma=0, subsample=0.75, colsample_bytree=1, max_depth=10, random_state=30)\n",
    "xgb_model.fit(x_train, y_train)\n",
    "xgb_pred = xgb_model.predict(x_valid)\n",
    "get_score(xgb_pred, y_valid)"
   ]
  },
  {
   "cell_type": "code",
   "execution_count": 112,
   "metadata": {},
   "outputs": [
    {
     "data": {
      "text/plain": [
       "26549.717763738445"
      ]
     },
     "execution_count": 112,
     "metadata": {},
     "output_type": "execute_result"
    }
   ],
   "source": [
    "Adaboost_model1 = AdaBoostRegressor( base_estimator = gbr,\n",
    "                                     n_estimators = 100,\n",
    "                                     random_state = 30) # 시드값 고정\n",
    "Adaboost_model1.fit(x_train, y_train)\n",
    "abr_pred = Adaboost_model1.predict(x_valid)\n",
    "get_score(abr_pred, y_valid)"
   ]
  },
  {
   "cell_type": "code",
   "execution_count": 113,
   "metadata": {},
   "outputs": [],
   "source": [
    "# Bagging\n",
    "bag_model = BaggingRegressor(base_estimator=elasticnet_pipeline, n_estimators=100, random_state=30)"
   ]
  },
  {
   "cell_type": "markdown",
   "metadata": {
    "colab_type": "text",
    "id": "YGV-HWLftFhn"
   },
   "source": [
    "### STEP 3) fit (학습)"
   ]
  },
  {
   "cell_type": "code",
   "execution_count": 114,
   "metadata": {
    "colab": {},
    "colab_type": "code",
    "id": "nxJCAg-otFhn"
   },
   "outputs": [
    {
     "data": {
      "text/plain": [
       "19574.466197900896"
      ]
     },
     "execution_count": 114,
     "metadata": {},
     "output_type": "execute_result"
    }
   ],
   "source": [
    "#코드를 입력해 주세요\n",
    "# Bagging\n",
    "bag_model.fit(x_train, y_train)\n",
    "bag_pred = bag_model.predict(x_valid)\n",
    "get_score(bag_pred, y_valid)"
   ]
  },
  {
   "cell_type": "code",
   "execution_count": 116,
   "metadata": {},
   "outputs": [
    {
     "data": {
      "text/plain": [
       "21644.634424352244"
      ]
     },
     "execution_count": 116,
     "metadata": {},
     "output_type": "execute_result"
    }
   ],
   "source": [
    "# Voting\n",
    "estimators = [\n",
    "    # 앙상블 할 모델 정의\n",
    "    ('bag', bag_model),\n",
    "    ('elp', elasticnet_pipeline),\n",
    "    ('pop', poly_pipeline),\n",
    "    ('RidgeCV', ridgeCV),\n",
    "    ('eln', elasticnet)\n",
    "]\n",
    "\n",
    "weights=[5, 5, 1, 1, 1]\n",
    "vr_model1 = VotingRegressor(estimators, weights)\n",
    "vr_model1.fit(x_train, y_train)\n",
    "vr_pred = vr_model1.predict(x_valid)\n",
    "get_score(vr_pred, y_valid)"
   ]
  },
  {
   "cell_type": "code",
   "execution_count": 117,
   "metadata": {},
   "outputs": [
    {
     "data": {
      "text/plain": [
       "20224.106063727144"
      ]
     },
     "execution_count": 117,
     "metadata": {},
     "output_type": "execute_result"
    }
   ],
   "source": [
    "# Stacking 앙상블\n",
    "estimators = [\n",
    "    # 앙상블 할 모델 정의\n",
    "    ('rcv', ridgeCV),\n",
    "    ('las', lasso),\n",
    "    ('eln', elasticnet),\n",
    "    ('elp', elasticnet_pipeline),\n",
    "    ('pop', poly_pipeline),\n",
    "    ('gbr', gbr),\n",
    "    ('raf', random_forest_model1),\n",
    "    ('xgb', xgb_model),\n",
    "    ('ada', Adaboost_model1),\n",
    "    ('bag', bag_model)\n",
    "]\n",
    "\n",
    "from sklearn.ensemble import StackingRegressor\n",
    "str_model = StackingRegressor(\n",
    "    estimators=estimators,\n",
    "    final_estimator=bag_model, n_jobs=-1)\n",
    "str_model.fit(x_train, y_train)\n",
    "str_pred = str_model.predict(x_valid)\n",
    "get_score(str_pred, y_valid)"
   ]
  },
  {
   "cell_type": "markdown",
   "metadata": {
    "colab_type": "text",
    "id": "FUHUAzJftFho"
   },
   "source": [
    "### STEP 4) predict (예측) - x_valid 에 대한 예측"
   ]
  },
  {
   "cell_type": "code",
   "execution_count": 118,
   "metadata": {
    "colab": {},
    "colab_type": "code",
    "id": "UQxB6qGltFho"
   },
   "outputs": [],
   "source": [
    "#코드를 입력해 주세요\n",
    "\n",
    "# Weighted Blending\n",
    "blend = elasticnet_pred * 0.4 + bag_pred * 0.3 + poly_pred * 0.1 + valid_result * 0.1"
   ]
  },
  {
   "cell_type": "markdown",
   "metadata": {
    "colab_type": "text",
    "id": "26_gFCkrtFhq"
   },
   "source": [
    "### STEP 5) 평가지표를 활용한 성능 측정"
   ]
  },
  {
   "cell_type": "code",
   "execution_count": 119,
   "metadata": {},
   "outputs": [
    {
     "data": {
      "text/plain": [
       "19574.466197900896"
      ]
     },
     "execution_count": 119,
     "metadata": {},
     "output_type": "execute_result"
    }
   ],
   "source": [
    "#코드를 입력해 주세요\n",
    "# Bagging 성능\n",
    "get_score(bag_pred, y_valid)"
   ]
  },
  {
   "cell_type": "code",
   "execution_count": 120,
   "metadata": {
    "colab": {},
    "colab_type": "code",
    "id": "1fVbEpqatFhq"
   },
   "outputs": [
    {
     "data": {
      "text/plain": [
       "146103.24601337546"
      ]
     },
     "execution_count": 120,
     "metadata": {},
     "output_type": "execute_result"
    }
   ],
   "source": [
    "#코드를 입력해 주세요\n",
    "# Weighted Blending 성능\n",
    "# 궁금증이 있습니다. Weighted Blending 은 단순 평가 지표 (MSE)를 받기 위해 사용 되는건가요?\n",
    "get_score(blend, y_valid)"
   ]
  },
  {
   "cell_type": "markdown",
   "metadata": {
    "colab_type": "text",
    "id": "3Z0z4qaKtFhs"
   },
   "source": [
    "### STEP 6) predict (예측) - test_data 에 대한 예측"
   ]
  },
  {
   "cell_type": "code",
   "execution_count": 121,
   "metadata": {
    "colab": {},
    "colab_type": "code",
    "id": "TUSxUnxatFhs"
   },
   "outputs": [],
   "source": [
    "test_result = bag_model.predict(test_data) "
   ]
  },
  {
   "cell_type": "code",
   "execution_count": 122,
   "metadata": {
    "colab": {},
    "colab_type": "code",
    "id": "4Bihm1hZtFhs"
   },
   "outputs": [],
   "source": [
    "# 이곳에 코드를 입력해 주세요\n",
    "final_result = blend"
   ]
  },
  {
   "cell_type": "code",
   "execution_count": 123,
   "metadata": {
    "colab": {},
    "colab_type": "code",
    "id": "hNT-AWtFtFhu",
    "outputId": "b82ba6df-7262-4244-d2b3-eb1e0dd60e5c"
   },
   "outputs": [
    {
     "name": "stdout",
     "output_type": "stream",
     "text": [
      "[10.47151862 10.34366343 10.60970687 10.20004478 10.53560791]\n",
      "\n",
      "최종 점수: 146103.246\n"
     ]
    }
   ],
   "source": [
    "# 코드를 변경하지 마세요\n",
    "print(final_result[:5])\n",
    "print()\n",
    "print('최종 점수: {:.3f}'.format(get_score(final_result, y_valid)))"
   ]
  },
  {
   "cell_type": "markdown",
   "metadata": {
    "colab_type": "text",
    "id": "ffWFHRfBtFhv"
   },
   "source": [
    "`final_prediction`에는 `test data`를 기준으로 예측한 값을 대입해 줍니다."
   ]
  },
  {
   "cell_type": "code",
   "execution_count": 124,
   "metadata": {
    "colab": {},
    "colab_type": "code",
    "id": "p2WQnIBltFhv"
   },
   "outputs": [],
   "source": [
    "# 최종 예측 값\n",
    "final_prediction = test_result"
   ]
  },
  {
   "cell_type": "code",
   "execution_count": 125,
   "metadata": {
    "colab": {},
    "colab_type": "code",
    "id": "xvmpqykLtFhz"
   },
   "outputs": [],
   "source": [
    "# 검증코드\n",
    "assert final_prediction.shape[0] == 1459"
   ]
  },
  {
   "cell_type": "markdown",
   "metadata": {
    "colab_type": "text",
    "id": "_VyS1aO8tFh0"
   },
   "source": [
    "## Kaggle 에 제출하기"
   ]
  },
  {
   "cell_type": "markdown",
   "metadata": {
    "colab_type": "text",
    "id": "T3uPlA5KtFh0"
   },
   "source": [
    "먼저, submission파일에 우리가 예측한 정답 값을 입력하겠습니다."
   ]
  },
  {
   "cell_type": "code",
   "execution_count": 126,
   "metadata": {
    "colab": {},
    "colab_type": "code",
    "id": "-8fKFndXtFh1",
    "outputId": "e4d59353-05d3-4b6d-8cd3-43ce6ac412c6"
   },
   "outputs": [
    {
     "name": "stdout",
     "output_type": "stream",
     "text": [
      "2020-12-04-13-18-submission.csv\n"
     ]
    }
   ],
   "source": [
    "from datetime import datetime\n",
    "\n",
    "t = datetime.now().strftime('%Y-%m-%d-%H-%M')\n",
    "filename = '{0}-submission.csv'.format(t)\n",
    "# 파일 이름을 확인합니다.\n",
    "print(filename)"
   ]
  },
  {
   "cell_type": "code",
   "execution_count": 127,
   "metadata": {
    "colab": {},
    "colab_type": "code",
    "id": "mRlSqSWqtFh1"
   },
   "outputs": [],
   "source": [
    "sample_submission = pd.read_csv('https://bit.ly/fc-ml-byte-submission')"
   ]
  },
  {
   "cell_type": "markdown",
   "metadata": {
    "colab_type": "text",
    "id": "FJUNzEUstFh2"
   },
   "source": [
    "예측한 값을 다시 `np.expm1()`을 통해 역스케일 합니다."
   ]
  },
  {
   "cell_type": "code",
   "execution_count": 128,
   "metadata": {
    "colab": {},
    "colab_type": "code",
    "id": "wA08qanPtFh2"
   },
   "outputs": [],
   "source": [
    "final_prediction = np.expm1(final_prediction)"
   ]
  },
  {
   "cell_type": "markdown",
   "metadata": {
    "colab_type": "text",
    "id": "WYm_z951tFh3"
   },
   "source": [
    "`.csv`파일로 최종 저장하고 결과를 제출하여 점수를 확인합니다."
   ]
  },
  {
   "cell_type": "code",
   "execution_count": 129,
   "metadata": {
    "colab": {},
    "colab_type": "code",
    "id": "cvUSIjR7tFh3"
   },
   "outputs": [],
   "source": [
    "sample_submission['SalePrice'] = final_prediction\n",
    "sample_submission.to_csv(filename, index=False)"
   ]
  },
  {
   "cell_type": "markdown",
   "metadata": {
    "colab_type": "text",
    "id": "fSNLs9yntFh3"
   },
   "source": [
    "## Extra. Kaggle 상위권에 도전하기"
   ]
  },
  {
   "cell_type": "markdown",
   "metadata": {
    "colab_type": "text",
    "id": "I47DExZHtFh4"
   },
   "source": [
    "상위 20% 안에 든다면, Data Scientists로써 인정받을 수 있는 점수 입니다.\n",
    "\n",
    "Kaggle은 글로벌 Data Scientists, Machine Learning 엔지니어들이 다양한 데이터 분석 기법과 머신러닝 스킬을 총동원하여 최고의 예측을 할 수 있도록 겨루는 공간입니다.\n",
    "\n",
    "여러분들이 만약 상위 20% 안에 드는 점수를 기록한다면, 프로필에도 **상위 20% 점수를 획득**했다고 공개됩니다.\n",
    "\n",
    "여러분들의 순수 업적으로 기록 될 수 있습니다. 최고에 한 번 도전해 보세요!"
   ]
  },
  {
   "cell_type": "markdown",
   "metadata": {
    "colab_type": "text",
    "id": "eFEBBOMAtFh4"
   },
   "source": [
    "[캐글에 제출하여 점수 확인하기: House Prices](https://www.kaggle.com/c/house-prices-advanced-regression-techniques/submit)\n",
    "\n",
    "- 위의 링크를 클릭하여, 우리가 생성한 submission 파일을 제출하고, 점수를 확인합니다.\n",
    "- [리더보드](https://www.kaggle.com/c/house-prices-advanced-regression-techniques/leaderboard)에서 내가 획득한 점수가 몇등인지 확인할 수 있으며, 더 높은 곳을 향해 도전합니다."
   ]
  }
 ],
 "metadata": {
  "colab": {
   "name": "최종프로젝트B_집값예측_심화(문제).ipynb",
   "provenance": []
  },
  "hide_input": false,
  "kernelspec": {
   "display_name": "Python 3 (ipykernel)",
   "language": "python",
   "name": "python3"
  },
  "language_info": {
   "codemirror_mode": {
    "name": "ipython",
    "version": 3
   },
   "file_extension": ".py",
   "mimetype": "text/x-python",
   "name": "python",
   "nbconvert_exporter": "python",
   "pygments_lexer": "ipython3",
   "version": "3.9.7"
  },
  "toc": {
   "base_numbering": 1,
   "nav_menu": {},
   "number_sections": true,
   "sideBar": true,
   "skip_h1_title": false,
   "title_cell": "Table of Contents",
   "title_sidebar": "Contents",
   "toc_cell": false,
   "toc_position": {},
   "toc_section_display": true,
   "toc_window_display": false
  },
  "varInspector": {
   "cols": {
    "lenName": 16,
    "lenType": 16,
    "lenVar": 40
   },
   "kernels_config": {
    "python": {
     "delete_cmd_postfix": "",
     "delete_cmd_prefix": "del ",
     "library": "var_list.py",
     "varRefreshCmd": "print(var_dic_list())"
    },
    "r": {
     "delete_cmd_postfix": ") ",
     "delete_cmd_prefix": "rm(",
     "library": "var_list.r",
     "varRefreshCmd": "cat(var_dic_list()) "
    }
   },
   "types_to_exclude": [
    "module",
    "function",
    "builtin_function_or_method",
    "instance",
    "_Feature"
   ],
   "window_display": false
  }
 },
 "nbformat": 4,
 "nbformat_minor": 1
}
